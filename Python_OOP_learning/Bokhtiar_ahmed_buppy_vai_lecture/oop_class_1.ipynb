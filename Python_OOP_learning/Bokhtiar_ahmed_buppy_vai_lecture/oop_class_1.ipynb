{
 "cells": [
  {
   "cell_type": "markdown",
   "id": "a0bea9c7",
   "metadata": {},
   "source": [
    "# Function basic:\n",
    "\n",
    "referece/argument/parameter:"
   ]
  },
  {
   "cell_type": "code",
   "execution_count": null,
   "id": "706685c4",
   "metadata": {},
   "outputs": [],
   "source": [
    "def f1():\n",
    "    print(\"hello world\")\n",
    "\n",
    "def f2(fname):\n",
    "    print(f\"my first name is {fname}\")\n",
    "\n",
    "def f3(fname, lname):\n",
    "    print(f\"my first name is {fname} and my last name is {lname}\")\n",
    "\n",
    "def f4(fname=\"alamin\"):\n",
    "    print(f\"my first name is {fname}\")\n",
    "\n",
    "def f5(fname=\"Alamin\")->str:\n",
    "    return f\"my first name is {fname}\"\n",
    "\n",
    "def f():\n",
    "    def g():\n",
    "        print(\"Inside function g\")\n",
    "    g()\n",
    "    print(\"Inside function f\")\n"
   ]
  },
  {
   "cell_type": "code",
   "execution_count": null,
   "id": "aa4827b8",
   "metadata": {},
   "outputs": [],
   "source": [
    "# returning a function\n",
    "\n",
    "def f():\n",
    "    def g(a,b):\n",
    "        return a+b\n",
    "    return g\n",
    "\n",
    "val = f()(2,3)\n",
    "print(val)"
   ]
  },
  {
   "cell_type": "code",
   "execution_count": null,
   "id": "0d2a4fd1",
   "metadata": {},
   "outputs": [],
   "source": [
    "# Enumerate Function\n",
    "L = [\"Bappy\", \"Alex\", \"Kumer\", \"Ahmed\"]\n",
    "\n",
    "for index, name in enumerate(L, start=1):\n",
    "    if index == 3:\n",
    "        print(name)"
   ]
  },
  {
   "cell_type": "code",
   "execution_count": null,
   "id": "693395ab",
   "metadata": {},
   "outputs": [],
   "source": [
    "# Pascel case\n",
    "\n",
    "# HelloWorld\n",
    "# AlAminTokder"
   ]
  },
  {
   "cell_type": "markdown",
   "id": "223ccbf8",
   "metadata": {},
   "source": [
    "class---> \n",
    "\n",
    "1.Data property / attribute \n",
    "\n",
    "2.Function property / method\n",
    "\n",
    "python e class and object hosse mutable (changeable)"
   ]
  },
  {
   "cell_type": "code",
   "execution_count": null,
   "id": "d934b29e",
   "metadata": {},
   "outputs": [],
   "source": [
    "class Robot:\n",
    "    def __init__(self,robot_number):\n",
    "        self.robot_number = robot_number # eti instance variable / data property jekhane onkgula different different object er jonno alada alada value store kora jay\n",
    "    \n",
    "    def movement(self):\n",
    "        print(f\"Robot {self.robot_number} is moving.\")\n",
    "\n",
    "    def firedetect(self):\n",
    "        print(f\"this is robot {self.robot_number}\")"
   ]
  },
  {
   "cell_type": "code",
   "execution_count": 5,
   "id": "2274827a",
   "metadata": {},
   "outputs": [
    {
     "name": "stdout",
     "output_type": "stream",
     "text": [
      "Robot 1 is moving.\n",
      "this is robot 1\n"
     ]
    }
   ],
   "source": [
    "robot1 = Robot(robot_number=1)\n",
    "robot1.movement()\n",
    "robot1.firedetect()"
   ]
  },
  {
   "cell_type": "code",
   "execution_count": null,
   "id": "90a76346",
   "metadata": {},
   "outputs": [],
   "source": [
    "class AtmMachine:\n",
    "    #constructor (special function) -> super power\n",
    "    def __init__ (self):\n",
    "        self.pin=\"\"\n",
    "        self.balance=0\n",
    "    \n",
    "    \n",
    "        "
   ]
  }
 ],
 "metadata": {
  "kernelspec": {
   "display_name": "Python 3",
   "language": "python",
   "name": "python3"
  },
  "language_info": {
   "codemirror_mode": {
    "name": "ipython",
    "version": 3
   },
   "file_extension": ".py",
   "mimetype": "text/x-python",
   "name": "python",
   "nbconvert_exporter": "python",
   "pygments_lexer": "ipython3",
   "version": "3.12.4"
  }
 },
 "nbformat": 4,
 "nbformat_minor": 5
}
