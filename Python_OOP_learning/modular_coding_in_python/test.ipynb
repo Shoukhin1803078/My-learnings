{
 "cells": [
  {
   "cell_type": "code",
   "execution_count": null,
   "id": "b9172901",
   "metadata": {},
   "outputs": [
    {
     "name": "stdout",
     "output_type": "stream",
     "text": [
      "welcome to atm machine\n",
      "your bal=0\n",
      "your bal=0\n"
     ]
    }
   ],
   "source": [
    "class AtmMachine:\n",
    "    def __init__(self):\n",
    "        self.__pin=\"\"\n",
    "        self.balance=0\n",
    "        print(\"welcome to atm machine\")\n",
    "        self.check_bal()\n",
    "    \n",
    "    def check_bal(self):\n",
    "        print(f\"your bal={self.balance}\")\n",
    "\n",
    "    def menu(self):\n",
    "        print(\"1->balace\")\n"
   ]
  },
  {
   "cell_type": "code",
   "execution_count": 13,
   "id": "8a6fbcb5",
   "metadata": {},
   "outputs": [
    {
     "name": "stdout",
     "output_type": "stream",
     "text": [
      "welcome to atm machine\n",
      "your bal=0\n",
      "140718066432408\n"
     ]
    }
   ],
   "source": [
    "\n",
    "a=AtmMachine()\n",
    "print(id(a.balance))\n"
   ]
  },
  {
   "cell_type": "code",
   "execution_count": 14,
   "id": "760c589a",
   "metadata": {},
   "outputs": [
    {
     "name": "stdout",
     "output_type": "stream",
     "text": [
      "Requirement already satisfied: python-dotenv in c:\\users\\pc\\appdata\\local\\programs\\python\\python312\\lib\\site-packages (1.0.1)\n",
      "Note: you may need to restart the kernel to use updated packages.\n"
     ]
    },
    {
     "name": "stderr",
     "output_type": "stream",
     "text": [
      "\n",
      "[notice] A new release of pip is available: 24.3.1 -> 25.1.1\n",
      "[notice] To update, run: python.exe -m pip install --upgrade pip\n"
     ]
    }
   ],
   "source": [
    "%pip install python-dotenv"
   ]
  },
  {
   "cell_type": "code",
   "execution_count": null,
   "id": "f3f9d832",
   "metadata": {},
   "outputs": [],
   "source": [
    "from dotenv import load_dotenv\n",
    "import os\n",
    "\n",
    "# Load the .env file\n",
    "load_dotenv()\n",
    "\n",
    "# Get the secret key\n",
    "secret_key = os.getenv(\"GEMINI_API_KEY\")\n",
    "\n",
    "# Use the secret key anywhere\n",
    "print(\"Your secret key is:\", secret_key)\n",
    "\n"
   ]
  },
  {
   "cell_type": "code",
   "execution_count": null,
   "id": "e92ad4fa",
   "metadata": {},
   "outputs": [],
   "source": [
    "import google.generativeai as genai\n",
    "class ApiKeyConfiguation:\n",
    "    def __init__(self):\n",
    "        self.genaiapikey=12323435436\n",
    "    def get_model(self):\n",
    "        genai.configure(api_key=self.genaiapikey)\n",
    "\n",
    "    \n",
    "\n"
   ]
  }
 ],
 "metadata": {
  "kernelspec": {
   "display_name": "Python 3",
   "language": "python",
   "name": "python3"
  },
  "language_info": {
   "codemirror_mode": {
    "name": "ipython",
    "version": 3
   },
   "file_extension": ".py",
   "mimetype": "text/x-python",
   "name": "python",
   "nbconvert_exporter": "python",
   "pygments_lexer": "ipython3",
   "version": "3.12.4"
  }
 },
 "nbformat": 4,
 "nbformat_minor": 5
}
