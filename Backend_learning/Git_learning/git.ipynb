{
 "cells": [
  {
   "cell_type": "markdown",
   "metadata": {},
   "source": [
    "# 🚀 Basic Git Workflow\n",
    "\n",
    "Clone the repository\n",
    "\n",
    "Create a new branch\n",
    "\n",
    "Make changes\n",
    "\n",
    "Add and commit the changes\n",
    "\n",
    "Push the changes to the remote repo\n",
    "\n",
    "Create a pull request / merge branch\n",
    "\n",
    "\n",
    "\n",
    "# Initial Setup (Only once per machine)\n",
    "\n",
    "git config --global user.name \"Your Name\"\n",
    "\n",
    "git config --global user.email \"you@example.com\"\n",
    "\n",
    "\n",
    "| Command                  | Description                               |\n",
    "| ------------------------ | ----------------------------------------- |\n",
    "| `git branch`             | List all branches                         |\n",
    "| `git branch <name>`      | Create a new branch                       |\n",
    "| `git checkout <name>`    | Switch to another branch                  |\n",
    "| `git checkout -b <name>` | Create and switch to a new branch         |\n",
    "| `git merge <branch>`     | Merge another branch into the current one |\n",
    "| `git branch -d <name>`   | Delete a branch                           |\n"
   ]
  },
  {
   "cell_type": "code",
   "execution_count": null,
   "metadata": {},
   "outputs": [],
   "source": [
    "# Clone the repo\n",
    "git clone https://github.com/username/project.git\n",
    "cd project\n",
    "\n",
    "# Create a new branch\n",
    "git checkout -b feature-login\n",
    "\n",
    "# Make some changes...\n",
    "git add .\n",
    "git commit -m \"feat: add login page\"\n",
    "\n",
    "# Push the branch\n",
    "git push -u origin feature-login\n"
   ]
  },
  {
   "cell_type": "code",
   "execution_count": null,
   "metadata": {},
   "outputs": [],
   "source": []
  }
 ],
 "metadata": {
  "language_info": {
   "name": "python"
  }
 },
 "nbformat": 4,
 "nbformat_minor": 2
}
