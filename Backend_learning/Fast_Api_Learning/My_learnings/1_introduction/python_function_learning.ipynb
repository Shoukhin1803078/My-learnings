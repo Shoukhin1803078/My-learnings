{
 "cells": [
  {
   "cell_type": "code",
   "execution_count": 4,
   "id": "70de5398",
   "metadata": {},
   "outputs": [
    {
     "name": "stdout",
     "output_type": "stream",
     "text": [
      "a=12, b=10\n"
     ]
    }
   ],
   "source": [
    "def A(x=12):\n",
    "    return x\n",
    "\n",
    "a=A()\n",
    "b=A(10)\n",
    "print(f\"a={a}, b={b}\")"
   ]
  },
  {
   "cell_type": "markdown",
   "id": "f696a118",
   "metadata": {},
   "source": [
    "# With Annotations / Type Hints"
   ]
  },
  {
   "cell_type": "code",
   "execution_count": null,
   "id": "bd2f3e28",
   "metadata": {},
   "outputs": [
    {
     "name": "stdout",
     "output_type": "stream",
     "text": [
      "Hi Alice, you are 30 years old\n"
     ]
    }
   ],
   "source": []
  },
  {
   "cell_type": "code",
   "execution_count": 25,
   "id": "390f0f14",
   "metadata": {},
   "outputs": [
    {
     "name": "stdout",
     "output_type": "stream",
     "text": [
      "Hello, World\n"
     ]
    }
   ],
   "source": [
    "def greet(name: str) -> str:\n",
    "    return \"Hello, \" + name\n",
    "\n",
    "a=greet(\"World\")\n",
    "print(a)"
   ]
  },
  {
   "cell_type": "code",
   "execution_count": 17,
   "id": "690536b3",
   "metadata": {},
   "outputs": [
    {
     "name": "stdout",
     "output_type": "stream",
     "text": [
      "Hello Guest\n",
      "Hello Alice\n"
     ]
    }
   ],
   "source": [
    "def greet(name: str = \"Guest\") -> str:\n",
    "    return f\"Hello {name}\"\n",
    "e = greet()\n",
    "f = greet(\"Alice\")  \n",
    "print(e)\n",
    "print(f)"
   ]
  },
  {
   "cell_type": "code",
   "execution_count": 28,
   "id": "0498275d",
   "metadata": {},
   "outputs": [
    {
     "name": "stdout",
     "output_type": "stream",
     "text": [
      "Hi Alice, you are 50 years old\n",
      "Hi Bob, you are 20 years old\n"
     ]
    }
   ],
   "source": [
    "def greet(name: str, age: int=50) -> str:\n",
    "    return f\"Hi {name}, you are {age} years old\"\n",
    "\n",
    "print(greet(\"Alice\"))\n",
    "print(greet(\"Bob\",20))"
   ]
  },
  {
   "cell_type": "markdown",
   "id": "ba86bd79",
   "metadata": {},
   "source": [
    "# Function with Multiple Parameters"
   ]
  },
  {
   "cell_type": "code",
   "execution_count": 6,
   "id": "f4da6b4b",
   "metadata": {},
   "outputs": [
    {
     "name": "stdout",
     "output_type": "stream",
     "text": [
      "12\n"
     ]
    }
   ],
   "source": [
    "def add(a: int, b: int) -> int:\n",
    "    return a + b\n",
    "\n",
    "c = add(5, 7)\n",
    "print(c)\n"
   ]
  },
  {
   "cell_type": "code",
   "execution_count": 7,
   "id": "04779ef2",
   "metadata": {},
   "outputs": [
    {
     "name": "stdout",
     "output_type": "stream",
     "text": [
      "Hello Hello Hello \n"
     ]
    }
   ],
   "source": [
    "def repeat_text(text: str, times: int) -> str:\n",
    "    return text * times\n",
    "d = repeat_text(\"Hello \", 3)\n",
    "print(d)"
   ]
  },
  {
   "cell_type": "markdown",
   "id": "41c2b535",
   "metadata": {},
   "source": [
    "# Optional and Default Parameters"
   ]
  },
  {
   "cell_type": "code",
   "execution_count": 8,
   "id": "32d4c792",
   "metadata": {},
   "outputs": [
    {
     "name": "stdout",
     "output_type": "stream",
     "text": [
      "Hello, Guest\n",
      "Hello, Alice\n"
     ]
    }
   ],
   "source": [
    "def greet(name: str = \"Guest\") -> str:\n",
    "    return f\"Hello, {name}\"\n",
    "e = greet()\n",
    "f = greet(\"Alice\")  \n",
    "print(e)\n",
    "print(f)"
   ]
  },
  {
   "cell_type": "code",
   "execution_count": 23,
   "id": "0a1dc831",
   "metadata": {},
   "outputs": [
    {
     "name": "stdout",
     "output_type": "stream",
     "text": [
      "Hello Alice\n"
     ]
    },
    {
     "ename": "TypeError",
     "evalue": "greet() missing 1 required positional argument: 'name'",
     "output_type": "error",
     "traceback": [
      "\u001b[1;31m---------------------------------------------------------------------------\u001b[0m",
      "\u001b[1;31mTypeError\u001b[0m                                 Traceback (most recent call last)",
      "Cell \u001b[1;32mIn[23], line 9\u001b[0m\n\u001b[0;32m      6\u001b[0m     \u001b[38;5;28;01mreturn\u001b[39;00m \u001b[38;5;124m\"\u001b[39m\u001b[38;5;124mHello Guest\u001b[39m\u001b[38;5;124m\"\u001b[39m\n\u001b[0;32m      8\u001b[0m \u001b[38;5;28mprint\u001b[39m(greet(\u001b[38;5;124m\"\u001b[39m\u001b[38;5;124mAlice\u001b[39m\u001b[38;5;124m\"\u001b[39m))   \u001b[38;5;66;03m# \"Hello Alice\"\u001b[39;00m\n\u001b[1;32m----> 9\u001b[0m \u001b[38;5;28mprint\u001b[39m(\u001b[43mgreet\u001b[49m\u001b[43m(\u001b[49m\u001b[43m)\u001b[49m)          \u001b[38;5;66;03m# \"Hello Guest\"\u001b[39;00m\n\u001b[0;32m     10\u001b[0m \u001b[38;5;28mprint\u001b[39m(greet(\u001b[38;5;28;01mNone\u001b[39;00m))      \u001b[38;5;66;03m# \"Hello Guest\"\u001b[39;00m\n",
      "\u001b[1;31mTypeError\u001b[0m: greet() missing 1 required positional argument: 'name'"
     ]
    }
   ],
   "source": [
    "from typing import Optional\n",
    "\n",
    "def greet(name: Optional[str] ) -> str:\n",
    "    if name:\n",
    "        return f\"Hello {name}\"\n",
    "    return \"Hello Guest\"\n",
    "\n",
    "print(greet(\"Alice\"))   # \"Hello Alice\"\n",
    "print(greet())          # \"Hello Guest\"\n",
    "print(greet(None))      # \"Hello Guest\""
   ]
  },
  {
   "cell_type": "code",
   "execution_count": 22,
   "id": "a8dac1f7",
   "metadata": {},
   "outputs": [
    {
     "name": "stdout",
     "output_type": "stream",
     "text": [
      "Hello Alice\n",
      "Hello Guest\n",
      "Hello Guest\n"
     ]
    }
   ],
   "source": [
    "from typing import Optional\n",
    "\n",
    "def greet(name: Optional[str] = None) -> str:\n",
    "    if name:\n",
    "        return f\"Hello {name}\"\n",
    "    return \"Hello Guest\"\n",
    "\n",
    "print(greet(\"Alice\"))   # \"Hello Alice\"\n",
    "print(greet())          # \"Hello Guest\"\n",
    "print(greet(None))      # \"Hello Guest\""
   ]
  },
  {
   "cell_type": "markdown",
   "id": "3468bac2",
   "metadata": {},
   "source": [
    "Optional[str] is short for Union[str, None]\n",
    "\n",
    "- It means: the argument can be a string or None\n",
    "- name: Optional[str] = None:\n",
    " This parameter is optional when calling the function.\n",
    " If you don’t provide a value, it defaults to None.\n",
    "\n",
    "- -> str: This function will always return a string."
   ]
  },
  {
   "cell_type": "markdown",
   "id": "736fe7a1",
   "metadata": {},
   "source": [
    "# Using Lists, Tuples, and Dicts"
   ]
  },
  {
   "cell_type": "code",
   "execution_count": 10,
   "id": "1b2a1f7b",
   "metadata": {},
   "outputs": [
    {
     "name": "stdout",
     "output_type": "stream",
     "text": [
      "Sum of all numbers: 15\n",
      "User Info: Name: Alice, Age: 30\n",
      "Word Count: {'hello': 2, 'world': 1}\n"
     ]
    }
   ],
   "source": [
    "from typing import List, Tuple, Dict\n",
    "\n",
    "def sum_all(numbers: List[int]) -> int:\n",
    "    return sum(numbers)\n",
    "\n",
    "def get_user_info() -> Tuple[str, int]:\n",
    "    return (\"Alice\", 30)\n",
    "\n",
    "def count_words(text: str) -> Dict[str, int]:\n",
    "    words = text.split()\n",
    "    return {word: words.count(word) for word in words}\n",
    "\n",
    "numbers = [1, 2, 3, 4, 5]\n",
    "result = sum_all(numbers)   \n",
    "print(f\"Sum of all numbers: {result}\")\n",
    "user = get_user_info()\n",
    "print(f\"User Info: Name: {user[0]}, Age: {user[1]}\")    \n",
    "text = \"hello world hello\"\n",
    "word_count = count_words(text)\n",
    "print(f\"Word Count: {word_count}\")\n"
   ]
  },
  {
   "cell_type": "markdown",
   "id": "b1f30baf",
   "metadata": {},
   "source": [
    "# 🧱 6. Using Union for Multiple Types"
   ]
  },
  {
   "cell_type": "code",
   "execution_count": 11,
   "id": "39c9fa01",
   "metadata": {},
   "outputs": [
    {
     "name": "stdout",
     "output_type": "stream",
     "text": [
      "Stringified int: 42, Stringified float: 3.14\n"
     ]
    }
   ],
   "source": [
    "from typing import Union\n",
    "\n",
    "def stringify(value: Union[int, float]) -> str:\n",
    "    return str(value)\n",
    "value1 = stringify(42)\n",
    "value2 = stringify(3.14)    \n",
    "print(f\"Stringified int: {value1}, Stringified float: {value2}\")"
   ]
  },
  {
   "cell_type": "markdown",
   "id": "e8b18dc6",
   "metadata": {},
   "source": [
    "# ⚙️ 7. Using Pydantic Model (FastAPI Style)\n",
    "In FastAPI, you use Pydantic models for request and response validation:"
   ]
  },
  {
   "cell_type": "code",
   "execution_count": 13,
   "id": "d3736f7a",
   "metadata": {},
   "outputs": [
    {
     "name": "stdout",
     "output_type": "stream",
     "text": [
      "Welcome Charlie, age 25\n"
     ]
    }
   ],
   "source": [
    "from pydantic import BaseModel\n",
    "\n",
    "class User(BaseModel):\n",
    "    name: str\n",
    "    age: int\n",
    "\n",
    "def welcome(user: User) -> str:\n",
    "    return f\"Welcome {user.name}, age {user.age}\"\n",
    "\n",
    "user = User(name=\"Charlie\", age=25)\n",
    "welcome_message = welcome(user)\n",
    "print(welcome_message)"
   ]
  },
  {
   "cell_type": "markdown",
   "id": "2637e22c",
   "metadata": {},
   "source": [
    "# 🚀 8. Example in FastAPI"
   ]
  },
  {
   "cell_type": "code",
   "execution_count": 14,
   "id": "86a5fd09",
   "metadata": {},
   "outputs": [],
   "source": [
    "from fastapi import FastAPI\n",
    "from pydantic import BaseModel\n",
    "\n",
    "app = FastAPI()\n",
    "\n",
    "class Item(BaseModel):\n",
    "    name: str\n",
    "    price: float\n",
    "    is_offer: bool = False\n",
    "\n",
    "@app.post(\"/items/\")\n",
    "def create_item(item: Item) -> dict:\n",
    "    return {\"name\": item.name, \"price\": item.price, \"is_offer\": item.is_offer}\n"
   ]
  },
  {
   "cell_type": "code",
   "execution_count": null,
   "id": "127c9587",
   "metadata": {},
   "outputs": [],
   "source": []
  },
  {
   "cell_type": "markdown",
   "id": "c0ef3e43",
   "metadata": {},
   "source": [
    "# ⚡ Part 2: Function Types in FastAPI"
   ]
  },
  {
   "cell_type": "markdown",
   "id": "1f6e68f3",
   "metadata": {},
   "source": [
    "### ✅ A. Basic GET Route"
   ]
  },
  {
   "cell_type": "code",
   "execution_count": 18,
   "id": "5ebf0d55",
   "metadata": {},
   "outputs": [],
   "source": [
    "from fastapi import FastAPI\n",
    "\n",
    "app = FastAPI()\n",
    "\n",
    "@app.get(\"/\")\n",
    "def read_root():\n",
    "    return {\"message\": \"Hello World\"}\n"
   ]
  },
  {
   "cell_type": "markdown",
   "id": "2fc58ac5",
   "metadata": {},
   "source": [
    "### ✅ B. Function with Path and Query Parameters"
   ]
  },
  {
   "cell_type": "code",
   "execution_count": 19,
   "id": "eece1201",
   "metadata": {},
   "outputs": [],
   "source": [
    "@app.get(\"/items/{item_id}\")\n",
    "def read_item(item_id: int, q: str = None):\n",
    "    return {\"item_id\": item_id, \"q\": q}\n"
   ]
  },
  {
   "cell_type": "markdown",
   "id": "8c4ef31b",
   "metadata": {},
   "source": [
    "### ✅ C. POST with Pydantic Model"
   ]
  },
  {
   "cell_type": "code",
   "execution_count": null,
   "id": "eee3dc13",
   "metadata": {},
   "outputs": [],
   "source": [
    "from pydantic import BaseModel\n",
    "\n",
    "class Item(BaseModel):\n",
    "    name: str\n",
    "    price: float\n",
    "\n",
    "@app.post(\"/items/\")\n",
    "def create_item(item: Item):\n",
    "    return {\"name\": item.name, \"price\": item.price}\n"
   ]
  },
  {
   "cell_type": "markdown",
   "id": "77b27ab5",
   "metadata": {},
   "source": [
    "### ✅ D. Response Model with Type Hinting"
   ]
  },
  {
   "cell_type": "code",
   "execution_count": null,
   "id": "557e008b",
   "metadata": {},
   "outputs": [],
   "source": [
    "@app.post(\"/items/\", response_model=Item)\n",
    "def create_item(item: Item) -> Item:\n",
    "    return item\n"
   ]
  },
  {
   "cell_type": "markdown",
   "id": "bfe8532e",
   "metadata": {},
   "source": [
    "### ✅ E. Optional Parameters / Query Validation"
   ]
  },
  {
   "cell_type": "code",
   "execution_count": null,
   "id": "81afe440",
   "metadata": {},
   "outputs": [],
   "source": [
    "from typing import Optional\n",
    "\n",
    "@app.get(\"/users/\")\n",
    "def get_users(limit: int = 10, name: Optional[str] = None):\n",
    "    return {\"limit\": limit, \"name\": name}\n"
   ]
  },
  {
   "cell_type": "markdown",
   "id": "f08e9a07",
   "metadata": {},
   "source": [
    "### ✅ F. Depends Injection (e.g., authentication)"
   ]
  },
  {
   "cell_type": "code",
   "execution_count": null,
   "id": "793498a8",
   "metadata": {},
   "outputs": [],
   "source": [
    "from fastapi import Depends\n",
    "\n",
    "def get_token():\n",
    "    return \"secure_token\"\n",
    "\n",
    "@app.get(\"/secure-data/\")\n",
    "def secure_route(token: str = Depends(get_token)):\n",
    "    return {\"token\": token}\n"
   ]
  },
  {
   "cell_type": "markdown",
   "id": "0e1778b5",
   "metadata": {},
   "source": [
    "### ✅ G. Async Endpoint"
   ]
  },
  {
   "cell_type": "code",
   "execution_count": null,
   "id": "da60a558",
   "metadata": {},
   "outputs": [],
   "source": [
    "@app.get(\"/async-data\")\n",
    "async def fetch_data():\n",
    "    return {\"status\": \"async done\"}\n"
   ]
  },
  {
   "cell_type": "markdown",
   "id": "f3df077d",
   "metadata": {},
   "source": [
    "### ✅ H. Function with Background Tasks"
   ]
  },
  {
   "cell_type": "code",
   "execution_count": null,
   "id": "1bcf19fa",
   "metadata": {},
   "outputs": [],
   "source": [
    "from fastapi import BackgroundTasks\n",
    "\n",
    "def write_log(message: str):\n",
    "    with open(\"log.txt\", \"a\") as f:\n",
    "        f.write(message + \"\\n\")\n",
    "\n",
    "@app.post(\"/log/\")\n",
    "def log_event(background_tasks: BackgroundTasks, msg: str):\n",
    "    background_tasks.add_task(write_log, msg)\n",
    "    return {\"message\": \"Logging in background\"}\n"
   ]
  }
 ],
 "metadata": {
  "kernelspec": {
   "display_name": "Python 3",
   "language": "python",
   "name": "python3"
  },
  "language_info": {
   "codemirror_mode": {
    "name": "ipython",
    "version": 3
   },
   "file_extension": ".py",
   "mimetype": "text/x-python",
   "name": "python",
   "nbconvert_exporter": "python",
   "pygments_lexer": "ipython3",
   "version": "3.12.4"
  }
 },
 "nbformat": 4,
 "nbformat_minor": 5
}
