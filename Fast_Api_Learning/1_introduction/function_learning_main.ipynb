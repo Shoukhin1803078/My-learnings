{
 "cells": [
  {
   "cell_type": "code",
   "execution_count": 4,
   "id": "edb15c39",
   "metadata": {},
   "outputs": [
    {
     "data": {
      "text/plain": [
       "'your number is hello'"
      ]
     },
     "execution_count": 4,
     "metadata": {},
     "output_type": "execute_result"
    }
   ],
   "source": [
    "def A(x:int)-> int:\n",
    "    return f\"your number is {x}\"\n",
    "\n",
    "A(\"hello\")"
   ]
  },
  {
   "cell_type": "markdown",
   "id": "b7e2c794",
   "metadata": {},
   "source": [
    "### Function Definition (def)\n",
    "\n",
    "Functions are defined using the def keyword, followed by the function name, parentheses (), and a colon :."
   ]
  },
  {
   "cell_type": "code",
   "execution_count": 5,
   "id": "c84c8b71",
   "metadata": {},
   "outputs": [],
   "source": [
    "def my_function():\n",
    "    # Function body\n",
    "    pass # 'pass' is a placeholder, means \"do nothing\""
   ]
  },
  {
   "cell_type": "markdown",
   "id": "ecb85ee5",
   "metadata": {},
   "source": [
    "### 3. Parameters (Arguments)\n",
    "\n",
    "- Parameters are inputs that a function can accept. They are listed inside the parentheses in the function definition.\n",
    "\n",
    "- Positional Parameters: These are parameters that are matched by their position in the function call."
   ]
  },
  {
   "cell_type": "code",
   "execution_count": 6,
   "id": "60e4837c",
   "metadata": {},
   "outputs": [
    {
     "data": {
      "text/plain": [
       "'Hello, Alice!'"
      ]
     },
     "execution_count": 6,
     "metadata": {},
     "output_type": "execute_result"
    }
   ],
   "source": [
    "def greet(name):\n",
    "    return f\"Hello, {name}!\"\n",
    "\n",
    "greet(\"Alice\") # 'Alice' is a positional argument"
   ]
  },
  {
   "cell_type": "markdown",
   "id": "d9adf23b",
   "metadata": {},
   "source": [
    "- **Keyword Parameters**: These are parameters that are matched by name in the function call. This allows you to pass arguments in any order."
   ]
  },
  {
   "cell_type": "code",
   "execution_count": 7,
   "id": "72573d9d",
   "metadata": {},
   "outputs": [
    {
     "data": {
      "text/plain": [
       "'Bob is 30 years old.'"
      ]
     },
     "execution_count": 7,
     "metadata": {},
     "output_type": "execute_result"
    }
   ],
   "source": [
    "def describe_person(name, age):\n",
    "    return f\"{name} is {age} years old.\"\n",
    "\n",
    "describe_person(age=30, name=\"Bob\") # Using keyword arguments"
   ]
  },
  {
   "cell_type": "markdown",
   "id": "8395c2da",
   "metadata": {},
   "source": [
    "- **Default Parameter Values:** You can provide a default value for a parameter. If the caller doesn't provide a value for that parameter, the default value is used. These must come after any non-default parameters."
   ]
  },
  {
   "cell_type": "code",
   "execution_count": 4,
   "id": "92d183b2",
   "metadata": {},
   "outputs": [
    {
     "name": "stdout",
     "output_type": "stream",
     "text": [
      "Sending 'Hi' to World.\n",
      "Sending 'Hello' to Mars.\n"
     ]
    }
   ],
   "source": [
    "def send_message(message, recipient=\"World\"):\n",
    "    return f\"Sending '{message}' to {recipient}.\"\n",
    "\n",
    "print(send_message(\"Hi\"))            # recipient defaults to \"World\"\n",
    "print(send_message(\"Hello\", \"Mars\")) # recipient is \"Mars\""
   ]
  },
  {
   "cell_type": "markdown",
   "id": "2f543e70",
   "metadata": {},
   "source": [
    "### 4. Type Hinting (PEP 484)\n",
    "\n",
    "- Python is dynamically typed, but type hints allow you to indicate the expected types of parameters and the return value. This improves code readability, helps with static analysis, and can aid in catching errors early.\n",
    "\n",
    "- Parameter Type Hints: parameter_name: Type"
   ]
  },
  {
   "cell_type": "code",
   "execution_count": 6,
   "id": "c0958c98",
   "metadata": {},
   "outputs": [
    {
     "name": "stdout",
     "output_type": "stream",
     "text": [
      "8.4\n",
      "17\n"
     ]
    }
   ],
   "source": [
    "def add_numbers(a: int, b: int):\n",
    "    return a + b\n",
    "\n",
    "print(add_numbers(5.4, 3))  # Positional arguments\n",
    "print(add_numbers(b=10, a=7))  # Keyword arguments\n"
   ]
  },
  {
   "cell_type": "markdown",
   "id": "16b2837b",
   "metadata": {},
   "source": [
    "- **Return Type Hints:** -> Type after the closing parenthesis and before the colon."
   ]
  },
  {
   "cell_type": "markdown",
   "id": "11c967f0",
   "metadata": {},
   "source": [
    "### 5. Union and None in Type Hinting\n",
    "\n",
    "**Union (from the typing module):** Used when a parameter or return value can be one of several types. Union[Type1, Type2, ...]"
   ]
  },
  {
   "cell_type": "code",
   "execution_count": null,
   "id": "c429d736",
   "metadata": {},
   "outputs": [],
   "source": [
    "from typing import Union\n",
    "\n",
    "def process_data(data: Union[str, int]):\n",
    "    if isinstance(data, str):\n",
    "        return f\"String data: {data.upper()}\"\n",
    "    else:\n",
    "        return f\"Integer data: {data * 2}\""
   ]
  },
  {
   "cell_type": "markdown",
   "id": "6fab23a4",
   "metadata": {},
   "source": [
    "- None: Represents the absence of a value. When used with Union, it typically indicates an optional parameter or a return value that might not always be present."
   ]
  },
  {
   "cell_type": "code",
   "execution_count": null,
   "id": "d55444b3",
   "metadata": {},
   "outputs": [],
   "source": [
    "from typing import Optional # Optional is a shorthand for Union[X, None]\n",
    "\n",
    "def find_user(user_id: int) -> Optional[str]:\n",
    "    if user_id == 1:\n",
    "        return \"Alice\"\n",
    "    return None # User not found"
   ]
  },
  {
   "cell_type": "markdown",
   "id": "e87ab949",
   "metadata": {},
   "source": [
    "### 6. Return Statement (return)\n",
    "\n",
    "- The return statement is used to send a value back from the function to the caller.\n",
    "\n",
    "- If a function doesn't have a return statement, it implicitly returns None."
   ]
  },
  {
   "cell_type": "code",
   "execution_count": null,
   "id": "931eeeea",
   "metadata": {},
   "outputs": [],
   "source": [
    "def multiply(a, b):\n",
    "    return a * b\n",
    "\n",
    "result = multiply(3, 4) # result will be 12"
   ]
  },
  {
   "cell_type": "markdown",
   "id": "1199027b",
   "metadata": {},
   "source": [
    "# Other Kinds of Functions\n",
    "Beyond the basic structure, Python offers more advanced function features:"
   ]
  },
  {
   "cell_type": "markdown",
   "id": "c5c5d52c",
   "metadata": {},
   "source": [
    "### 7. Arbitrary Arguments (*args and **kwargs)\n",
    "\n",
    "- *args **(Arbitrary Positional Arguments):** Allows a function to accept an arbitrary number of positional arguments. These arguments are packed into a tuple."
   ]
  },
  {
   "cell_type": "code",
   "execution_count": null,
   "id": "d8b7fcfa",
   "metadata": {},
   "outputs": [],
   "source": [
    "def sum_all(*numbers: int) -> int:\n",
    "    total = 0\n",
    "    for num in numbers:\n",
    "        total += num\n",
    "    return total\n",
    "\n",
    "print(sum_all(1, 2, 3))       # Output: 6\n",
    "print(sum_all(10, 20, 30, 40)) # Output: 100"
   ]
  },
  {
   "cell_type": "markdown",
   "id": "f58ab3cf",
   "metadata": {},
   "source": [
    "- **kwargs (Arbitrary Keyword Arguments): Allows a function to accept an arbitrary number of keyword arguments. These arguments are packed into a dictionary."
   ]
  },
  {
   "cell_type": "code",
   "execution_count": null,
   "id": "968a3bf3",
   "metadata": {},
   "outputs": [],
   "source": [
    "def display_info(**details: str):\n",
    "    for key, value in details.items():\n",
    "        print(f\"{key}: {value}\")\n",
    "\n",
    "display_info(name=\"Alice\", age=\"30\", city=\"New York\")\n",
    "# Output:\n",
    "# name: Alice\n",
    "# age: 30\n",
    "# city: New York"
   ]
  },
  {
   "cell_type": "markdown",
   "id": "1010cfa5",
   "metadata": {},
   "source": []
  },
  {
   "cell_type": "markdown",
   "id": "1f93395e",
   "metadata": {},
   "source": [
    "- **Order**: Parameters typically go in this order: standard positional arguments, *args, keyword-only arguments, **kwargs."
   ]
  },
  {
   "cell_type": "code",
   "execution_count": null,
   "id": "ff7f8575",
   "metadata": {},
   "outputs": [],
   "source": [
    "def configure(id, *options, **settings):\n",
    "    print(f\"ID: {id}\")\n",
    "    print(f\"Options: {options}\")\n",
    "    print(f\"Settings: {settings}\")\n",
    "\n",
    "configure(1, \"verbose\", \"debug\", level=\"info\", timeout=60)"
   ]
  },
  {
   "cell_type": "markdown",
   "id": "7c5b846b",
   "metadata": {},
   "source": [
    "### 8. Anonymous Functions (Lambda Functions)\n",
    "\n",
    "- Small, single-expression functions that don't need a formal def statement.\n",
    "\n",
    "- Syntax: lambda arguments: expression"
   ]
  },
  {
   "cell_type": "code",
   "execution_count": null,
   "id": "fbb4e358",
   "metadata": {},
   "outputs": [],
   "source": [
    "add = lambda x, y: x + y\n",
    "print(add(5, 3)) # Output: 8\n",
    "\n",
    "# Often used with higher-order functions like map(), filter(), sorted()\n",
    "numbers = [1, 2, 3, 4, 5]\n",
    "squared_numbers = list(map(lambda x: x*x, numbers))\n",
    "print(squared_numbers) # Output: [1, 4, 9, 16, 25]"
   ]
  },
  {
   "cell_type": "markdown",
   "id": "d408971c",
   "metadata": {},
   "source": [
    "### 9. Nested Functions (Inner Functions)\n",
    "\n",
    "- Functions defined inside other functions. They can access variables from the outer (enclosing) function's scope (closure)."
   ]
  },
  {
   "cell_type": "code",
   "execution_count": null,
   "id": "bae5269d",
   "metadata": {},
   "outputs": [],
   "source": [
    "def outer_function(text):\n",
    "    def inner_function():\n",
    "        print(text) # Accesses 'text' from the outer scope\n",
    "    inner_function()\n",
    "\n",
    "outer_function(\"Hello from inner!\")"
   ]
  },
  {
   "cell_type": "markdown",
   "id": "c4ea7c45",
   "metadata": {},
   "source": [
    "### 10. Decorators (@)\n",
    "\n",
    "- A decorator is a function that takes another function as an argument, adds some functionality, and returns a new function. They are often used for logging, timing, authentication, etc."
   ]
  },
  {
   "cell_type": "code",
   "execution_count": null,
   "id": "00502e9b",
   "metadata": {},
   "outputs": [],
   "source": [
    "def my_decorator(func):\n",
    "    def wrapper(*args, **kwargs):\n",
    "        print(\"Something is happening before the function is called.\")\n",
    "        result = func(*args, **kwargs)\n",
    "        print(\"Something is happening after the function is called.\")\n",
    "        return result\n",
    "    return wrapper\n",
    "\n",
    "@my_decorator\n",
    "def say_hello():\n",
    "    print(\"Hello!\")\n",
    "\n",
    "say_hello()"
   ]
  },
  {
   "cell_type": "markdown",
   "id": "3ac0608c",
   "metadata": {},
   "source": [
    "### 11. Generator Functions (yield)\n",
    "\n",
    "- Functions that return an iterator. They yield values one at a time, pausing execution and resuming from where they left off. This is memory-efficient for large sequences."
   ]
  },
  {
   "cell_type": "code",
   "execution_count": null,
   "id": "d5caf328",
   "metadata": {},
   "outputs": [],
   "source": [
    "def countdown(n):\n",
    "    while n > 0:\n",
    "        yield n\n",
    "        n -= 1\n",
    "\n",
    "for num in countdown(5):\n",
    "    print(num)\n",
    "# Output: 5, 4, 3, 2, 1 (each on a new line)"
   ]
  },
  {
   "cell_type": "markdown",
   "id": "117cd96a",
   "metadata": {},
   "source": [
    "### 12. Asynchronous Functions (async and await)\n",
    "\n",
    "- Used for concurrent programming, especially with I/O-bound operations. Requires an asyncio event loop."
   ]
  },
  {
   "cell_type": "code",
   "execution_count": null,
   "id": "06963ddb",
   "metadata": {},
   "outputs": [],
   "source": [
    "import asyncio\n",
    "\n",
    "async def fetch_data():\n",
    "    print(\"Fetching data...\")\n",
    "    await asyncio.sleep(1) # Simulate network delay\n",
    "    print(\"Data fetched!\")\n",
    "    return {\"data\": \"some_data\"}\n",
    "\n",
    "async def main():\n",
    "    data = await fetch_data()\n",
    "    print(data)\n",
    "\n",
    "# To run an async function (usually from top-level script):\n",
    "# asyncio.run(main())"
   ]
  }
 ],
 "metadata": {
  "kernelspec": {
   "display_name": "Python 3",
   "language": "python",
   "name": "python3"
  },
  "language_info": {
   "codemirror_mode": {
    "name": "ipython",
    "version": 3
   },
   "file_extension": ".py",
   "mimetype": "text/x-python",
   "name": "python",
   "nbconvert_exporter": "python",
   "pygments_lexer": "ipython3",
   "version": "3.12.4"
  }
 },
 "nbformat": 4,
 "nbformat_minor": 5
}
