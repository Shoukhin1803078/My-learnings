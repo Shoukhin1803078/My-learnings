{
 "cells": [
  {
   "cell_type": "code",
   "execution_count": 1,
   "id": "2a8e7bf9",
   "metadata": {},
   "outputs": [
    {
     "name": "stdout",
     "output_type": "stream",
     "text": [
      "Requirement already satisfied: fastapi in c:\\users\\pc\\appdata\\local\\programs\\python\\python312\\lib\\site-packages (0.115.6)\n",
      "Requirement already satisfied: uvicorn in c:\\users\\pc\\appdata\\local\\programs\\python\\python312\\lib\\site-packages (0.32.1)\n",
      "Requirement already satisfied: starlette<0.42.0,>=0.40.0 in c:\\users\\pc\\appdata\\local\\programs\\python\\python312\\lib\\site-packages (from fastapi) (0.41.3)\n",
      "Requirement already satisfied: pydantic!=1.8,!=1.8.1,!=2.0.0,!=2.0.1,!=2.1.0,<3.0.0,>=1.7.4 in c:\\users\\pc\\appdata\\local\\programs\\python\\python312\\lib\\site-packages (from fastapi) (2.9.1)\n",
      "Requirement already satisfied: typing-extensions>=4.8.0 in c:\\users\\pc\\appdata\\local\\programs\\python\\python312\\lib\\site-packages (from fastapi) (4.12.2)\n",
      "Requirement already satisfied: click>=7.0 in c:\\users\\pc\\appdata\\local\\programs\\python\\python312\\lib\\site-packages (from uvicorn) (8.1.7)\n",
      "Requirement already satisfied: h11>=0.8 in c:\\users\\pc\\appdata\\local\\programs\\python\\python312\\lib\\site-packages (from uvicorn) (0.14.0)\n",
      "Requirement already satisfied: colorama in c:\\users\\pc\\appdata\\local\\programs\\python\\python312\\lib\\site-packages (from click>=7.0->uvicorn) (0.4.6)\n",
      "Requirement already satisfied: annotated-types>=0.6.0 in c:\\users\\pc\\appdata\\local\\programs\\python\\python312\\lib\\site-packages (from pydantic!=1.8,!=1.8.1,!=2.0.0,!=2.0.1,!=2.1.0,<3.0.0,>=1.7.4->fastapi) (0.7.0)\n",
      "Requirement already satisfied: pydantic-core==2.23.3 in c:\\users\\pc\\appdata\\local\\programs\\python\\python312\\lib\\site-packages (from pydantic!=1.8,!=1.8.1,!=2.0.0,!=2.0.1,!=2.1.0,<3.0.0,>=1.7.4->fastapi) (2.23.3)\n",
      "Requirement already satisfied: anyio<5,>=3.4.0 in c:\\users\\pc\\appdata\\local\\programs\\python\\python312\\lib\\site-packages (from starlette<0.42.0,>=0.40.0->fastapi) (4.6.0)\n",
      "Requirement already satisfied: idna>=2.8 in c:\\users\\pc\\appdata\\local\\programs\\python\\python312\\lib\\site-packages (from anyio<5,>=3.4.0->starlette<0.42.0,>=0.40.0->fastapi) (3.9)\n",
      "Requirement already satisfied: sniffio>=1.1 in c:\\users\\pc\\appdata\\local\\programs\\python\\python312\\lib\\site-packages (from anyio<5,>=3.4.0->starlette<0.42.0,>=0.40.0->fastapi) (1.3.1)\n",
      "Note: you may need to restart the kernel to use updated packages.\n"
     ]
    },
    {
     "name": "stderr",
     "output_type": "stream",
     "text": [
      "\n",
      "[notice] A new release of pip is available: 24.3.1 -> 25.1.1\n",
      "[notice] To update, run: python.exe -m pip install --upgrade pip\n"
     ]
    }
   ],
   "source": [
    "%pip install fastapi uvicorn"
   ]
  },
  {
   "cell_type": "markdown",
   "id": "faaadf29",
   "metadata": {},
   "source": [
    "### Step 2: Write Your First FastAPI App"
   ]
  },
  {
   "cell_type": "code",
   "execution_count": 3,
   "id": "f9c116bc",
   "metadata": {},
   "outputs": [],
   "source": [
    "# FastAPI basic app\n",
    "\n",
    "from fastapi import FastAPI\n",
    "\n",
    "app = FastAPI()\n",
    "\n",
    "@app.get(\"/\")\n",
    "def read_root():\n",
    "    return {\"message\": \"Hello World from FastAPI in Jupyter!\"}\n"
   ]
  },
  {
   "cell_type": "markdown",
   "id": "4750a35e",
   "metadata": {},
   "source": [
    "### Step 3: Run the Server from Notebook"
   ]
  },
  {
   "cell_type": "code",
   "execution_count": 4,
   "id": "0def0019",
   "metadata": {},
   "outputs": [
    {
     "name": "stderr",
     "output_type": "stream",
     "text": [
      "INFO:     Started server process [8432]\n",
      "INFO:     Waiting for application startup.\n",
      "INFO:     Application startup complete.\n",
      "INFO:     Uvicorn running on http://127.0.0.1:8000 (Press CTRL+C to quit)\n"
     ]
    },
    {
     "name": "stdout",
     "output_type": "stream",
     "text": [
      "INFO:     127.0.0.1:56809 - \"GET / HTTP/1.1\" 200 OK\n",
      "INFO:     127.0.0.1:56809 - \"GET /favicon.ico HTTP/1.1\" 404 Not Found\n"
     ]
    },
    {
     "name": "stderr",
     "output_type": "stream",
     "text": [
      "INFO:     Shutting down\n",
      "INFO:     Waiting for application shutdown.\n",
      "INFO:     Application shutdown complete.\n",
      "INFO:     Finished server process [8432]\n"
     ]
    }
   ],
   "source": [
    "import uvicorn\n",
    "import nest_asyncio\n",
    "nest_asyncio.apply()\n",
    "\n",
    "uvicorn.run(app, host=\"127.0.0.1\", port=8000)\n"
   ]
  },
  {
   "cell_type": "markdown",
   "id": "3a19b328",
   "metadata": {},
   "source": [
    "### Step 4: Path & Query Parameters"
   ]
  },
  {
   "cell_type": "code",
   "execution_count": 5,
   "id": "069e036c",
   "metadata": {},
   "outputs": [],
   "source": [
    "from typing import Optional\n",
    "from fastapi import FastAPI\n",
    "\n",
    "app = FastAPI()\n",
    "\n",
    "@app.get(\"/items/{item_id}\")\n",
    "def read_item(item_id: int, q: Optional[str] = None):\n",
    "    return {\n",
    "        \"item_id\": item_id,\n",
    "        \"query\": q\n",
    "    }\n"
   ]
  },
  {
   "cell_type": "code",
   "execution_count": 6,
   "id": "d83441ed",
   "metadata": {},
   "outputs": [
    {
     "name": "stderr",
     "output_type": "stream",
     "text": [
      "INFO:     Started server process [8432]\n",
      "INFO:     Waiting for application startup.\n",
      "INFO:     Application startup complete.\n",
      "INFO:     Uvicorn running on http://127.0.0.1:8000 (Press CTRL+C to quit)\n"
     ]
    },
    {
     "name": "stdout",
     "output_type": "stream",
     "text": [
      "INFO:     127.0.0.1:56971 - \"GET / HTTP/1.1\" 404 Not Found\n",
      "INFO:     127.0.0.1:56971 - \"GET /favicon.ico HTTP/1.1\" 404 Not Found\n",
      "INFO:     127.0.0.1:56972 - \"GET /DOCS HTTP/1.1\" 404 Not Found\n",
      "INFO:     127.0.0.1:56975 - \"GET /docs HTTP/1.1\" 200 OK\n",
      "INFO:     127.0.0.1:56975 - \"GET /openapi.json HTTP/1.1\" 200 OK\n",
      "INFO:     127.0.0.1:56978 - \"GET /items/1?q=dfdf HTTP/1.1\" 200 OK\n"
     ]
    },
    {
     "name": "stderr",
     "output_type": "stream",
     "text": [
      "INFO:     Shutting down\n",
      "INFO:     Waiting for application shutdown.\n",
      "INFO:     Application shutdown complete.\n",
      "INFO:     Finished server process [8432]\n"
     ]
    }
   ],
   "source": [
    "import uvicorn\n",
    "import nest_asyncio\n",
    "nest_asyncio.apply()\n",
    "\n",
    "uvicorn.run(app, host=\"127.0.0.1\", port=8000)"
   ]
  },
  {
   "cell_type": "markdown",
   "id": "99a8ec42",
   "metadata": {},
   "source": [
    "# Eikhan theke Start"
   ]
  },
  {
   "cell_type": "code",
   "execution_count": 7,
   "id": "bb86e515",
   "metadata": {},
   "outputs": [
    {
     "name": "stderr",
     "output_type": "stream",
     "text": [
      "INFO:     Started server process [8432]\n",
      "INFO:     Waiting for application startup.\n",
      "INFO:     Application startup complete.\n",
      "INFO:     Uvicorn running on http://127.0.0.1:8000 (Press CTRL+C to quit)\n"
     ]
    },
    {
     "name": "stdout",
     "output_type": "stream",
     "text": [
      "INFO:     127.0.0.1:57182 - \"GET / HTTP/1.1\" 200 OK\n",
      "INFO:     127.0.0.1:57182 - \"GET /favicon.ico HTTP/1.1\" 404 Not Found\n",
      "INFO:     127.0.0.1:57182 - \"GET /docs HTTP/1.1\" 200 OK\n",
      "INFO:     127.0.0.1:57182 - \"GET /openapi.json HTTP/1.1\" 200 OK\n",
      "INFO:     127.0.0.1:57182 - \"GET /health HTTP/1.1\" 200 OK\n"
     ]
    },
    {
     "name": "stderr",
     "output_type": "stream",
     "text": [
      "INFO:     Shutting down\n",
      "INFO:     Waiting for application shutdown.\n",
      "INFO:     Application shutdown complete.\n",
      "INFO:     Finished server process [8432]\n"
     ]
    }
   ],
   "source": [
    "# ---------------------- Step 1: Basic App ----------------------\n",
    "\n",
    "from fastapi import FastAPI\n",
    "\n",
    "app = FastAPI(title=\"My Learning API\", version=\"1.0.0\")\n",
    "\n",
    "@app.get(\"/\")\n",
    "def read_root():\n",
    "    return {\"message\": \"Hello World from FastAPI in Jupyter!\"}\n",
    "\n",
    "@app.get(\"/health\")\n",
    "def health_check():\n",
    "    return {\"status\": \"healthy\", \"service\": \"FastAPI Learning\"}\n",
    "\n",
    "import uvicorn\n",
    "import nest_asyncio\n",
    "nest_asyncio.apply()\n",
    "\n",
    "# Visit http://127.0.0.1:8000/docs to see interactive documentation\n",
    "uvicorn.run(app, host=\"127.0.0.1\", port=8000)"
   ]
  },
  {
   "cell_type": "code",
   "execution_count": 8,
   "id": "1fa3b8da",
   "metadata": {},
   "outputs": [
    {
     "name": "stderr",
     "output_type": "stream",
     "text": [
      "INFO:     Started server process [8432]\n",
      "INFO:     Waiting for application startup.\n",
      "INFO:     Application startup complete.\n",
      "INFO:     Uvicorn running on http://127.0.0.1:8000 (Press CTRL+C to quit)\n"
     ]
    },
    {
     "name": "stdout",
     "output_type": "stream",
     "text": [
      "INFO:     127.0.0.1:57221 - \"GET / HTTP/1.1\" 404 Not Found\n",
      "INFO:     127.0.0.1:57221 - \"GET /favicon.ico HTTP/1.1\" 404 Not Found\n",
      "INFO:     127.0.0.1:57222 - \"GET /docs HTTP/1.1\" 200 OK\n",
      "INFO:     127.0.0.1:57222 - \"GET /openapi.json HTTP/1.1\" 200 OK\n",
      "INFO:     127.0.0.1:57224 - \"GET /items/1?q=abc HTTP/1.1\" 200 OK\n",
      "INFO:     127.0.0.1:57232 - \"GET /users/1 HTTP/1.1\" 200 OK\n"
     ]
    },
    {
     "name": "stderr",
     "output_type": "stream",
     "text": [
      "INFO:     Shutting down\n",
      "INFO:     Waiting for application shutdown.\n",
      "INFO:     Application shutdown complete.\n",
      "INFO:     Finished server process [8432]\n"
     ]
    }
   ],
   "source": [
    "# ---------------------- Step 2: Path Parameters ----------------------\n",
    "\n",
    "from typing import Optional\n",
    "from fastapi import FastAPI, HTTPException\n",
    "\n",
    "app = FastAPI()\n",
    "\n",
    "# Sample data\n",
    "users_db = {\n",
    "    1: {\"name\": \"Alice\", \"email\": \"alice@example.com\", \"age\": 25},\n",
    "    2: {\"name\": \"Bob\", \"email\": \"bob@example.com\", \"age\": 30},\n",
    "    3: {\"name\": \"Charlie\", \"email\": \"charlie@example.com\", \"age\": 35}\n",
    "}\n",
    "\n",
    "@app.get(\"/items/{item_id}\")\n",
    "def read_item(item_id: int, q: Optional[str] = None):\n",
    "    return {\n",
    "        \"item_id\": item_id,\n",
    "        \"query\": q\n",
    "    }\n",
    "\n",
    "@app.get(\"/users/{user_id}\")\n",
    "def get_user(user_id: int):\n",
    "    if user_id not in users_db:\n",
    "        raise HTTPException(status_code=404, detail=\"User not found\")\n",
    "    return users_db[user_id]\n",
    "\n",
    "@app.get(\"/users/{user_id}/profile/{section}\")\n",
    "def get_user_profile_section(user_id: int, section: str):\n",
    "    if user_id not in users_db:\n",
    "        raise HTTPException(status_code=404, detail=\"User not found\")\n",
    "    \n",
    "    user = users_db[user_id]\n",
    "    if section not in user:\n",
    "        raise HTTPException(status_code=404, detail=f\"Section '{section}' not found\")\n",
    "    \n",
    "    return {\"user_id\": user_id, \"section\": section, \"value\": user[section]}\n",
    "\n",
    "import uvicorn\n",
    "import nest_asyncio\n",
    "nest_asyncio.apply()\n",
    "\n",
    "uvicorn.run(app, host=\"127.0.0.1\", port=8000)"
   ]
  },
  {
   "cell_type": "code",
   "execution_count": null,
   "id": "fcd6d217",
   "metadata": {},
   "outputs": [],
   "source": []
  },
  {
   "cell_type": "code",
   "execution_count": null,
   "id": "d2f4df7c",
   "metadata": {},
   "outputs": [],
   "source": []
  }
 ],
 "metadata": {
  "kernelspec": {
   "display_name": "Python 3",
   "language": "python",
   "name": "python3"
  },
  "language_info": {
   "codemirror_mode": {
    "name": "ipython",
    "version": 3
   },
   "file_extension": ".py",
   "mimetype": "text/x-python",
   "name": "python",
   "nbconvert_exporter": "python",
   "pygments_lexer": "ipython3",
   "version": "3.12.4"
  }
 },
 "nbformat": 4,
 "nbformat_minor": 5
}
