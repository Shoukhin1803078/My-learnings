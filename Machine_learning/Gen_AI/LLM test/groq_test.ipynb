{
 "cells": [
  {
   "cell_type": "code",
   "execution_count": 1,
   "metadata": {},
   "outputs": [
    {
     "name": "stdout",
     "output_type": "stream",
     "text": [
      "Defaulting to user installation because normal site-packages is not writeable\n",
      "Requirement already satisfied: python-dotenv in /Users/mdalamintokder/Library/Python/3.9/lib/python/site-packages (1.1.0)\n",
      "\u001b[33mWARNING: You are using pip version 21.2.4; however, version 25.1.1 is available.\n",
      "You should consider upgrading via the '/Library/Developer/CommandLineTools/usr/bin/python3 -m pip install --upgrade pip' command.\u001b[0m\n",
      "Note: you may need to restart the kernel to use updated packages.\n"
     ]
    }
   ],
   "source": [
    "pip install python-dotenv"
   ]
  },
  {
   "cell_type": "code",
   "execution_count": 10,
   "metadata": {},
   "outputs": [
    {
     "name": "stdout",
     "output_type": "stream",
     "text": [
      "Defaulting to user installation because normal site-packages is not writeable\n",
      "Collecting groq\n",
      "  Downloading groq-0.25.0-py3-none-any.whl (129 kB)\n",
      "\u001b[K     |████████████████████████████████| 129 kB 626 kB/s eta 0:00:01\n",
      "\u001b[?25hRequirement already satisfied: pydantic<3,>=1.9.0 in /Users/mdalamintokder/Library/Python/3.9/lib/python/site-packages (from groq) (2.11.4)\n",
      "Requirement already satisfied: anyio<5,>=3.5.0 in /Users/mdalamintokder/Library/Python/3.9/lib/python/site-packages (from groq) (4.9.0)\n",
      "Requirement already satisfied: distro<2,>=1.7.0 in /Users/mdalamintokder/Library/Python/3.9/lib/python/site-packages (from groq) (1.9.0)\n",
      "Requirement already satisfied: typing-extensions<5,>=4.10 in /Users/mdalamintokder/Library/Python/3.9/lib/python/site-packages (from groq) (4.13.2)\n",
      "Requirement already satisfied: sniffio in /Users/mdalamintokder/Library/Python/3.9/lib/python/site-packages (from groq) (1.3.1)\n",
      "Requirement already satisfied: httpx<1,>=0.23.0 in /Users/mdalamintokder/Library/Python/3.9/lib/python/site-packages (from groq) (0.28.1)\n",
      "Requirement already satisfied: idna>=2.8 in /Users/mdalamintokder/Library/Python/3.9/lib/python/site-packages (from anyio<5,>=3.5.0->groq) (3.10)\n",
      "Requirement already satisfied: exceptiongroup>=1.0.2 in /Users/mdalamintokder/Library/Python/3.9/lib/python/site-packages (from anyio<5,>=3.5.0->groq) (1.2.2)\n",
      "Requirement already satisfied: httpcore==1.* in /Users/mdalamintokder/Library/Python/3.9/lib/python/site-packages (from httpx<1,>=0.23.0->groq) (1.0.9)\n",
      "Requirement already satisfied: certifi in /Users/mdalamintokder/Library/Python/3.9/lib/python/site-packages (from httpx<1,>=0.23.0->groq) (2025.4.26)\n",
      "Requirement already satisfied: h11>=0.16 in /Users/mdalamintokder/Library/Python/3.9/lib/python/site-packages (from httpcore==1.*->httpx<1,>=0.23.0->groq) (0.16.0)\n",
      "Requirement already satisfied: typing-inspection>=0.4.0 in /Users/mdalamintokder/Library/Python/3.9/lib/python/site-packages (from pydantic<3,>=1.9.0->groq) (0.4.0)\n",
      "Requirement already satisfied: pydantic-core==2.33.2 in /Users/mdalamintokder/Library/Python/3.9/lib/python/site-packages (from pydantic<3,>=1.9.0->groq) (2.33.2)\n",
      "Requirement already satisfied: annotated-types>=0.6.0 in /Users/mdalamintokder/Library/Python/3.9/lib/python/site-packages (from pydantic<3,>=1.9.0->groq) (0.7.0)\n",
      "Installing collected packages: groq\n",
      "Successfully installed groq-0.25.0\n",
      "\u001b[33mWARNING: You are using pip version 21.2.4; however, version 25.1.1 is available.\n",
      "You should consider upgrading via the '/Library/Developer/CommandLineTools/usr/bin/python3 -m pip install --upgrade pip' command.\u001b[0m\n",
      "Note: you may need to restart the kernel to use updated packages.\n"
     ]
    }
   ],
   "source": [
    "pip install groq"
   ]
  },
  {
   "cell_type": "code",
   "execution_count": null,
   "metadata": {},
   "outputs": [],
   "source": [
    "import os\n",
    "from dotenv import load_dotenv\n",
    "\n",
    "# Load the .env file\n",
    "load_dotenv()\n",
    "\n",
    "# Get the API key\n",
    "api_key1 = os.getenv(\"OPENAI_API_KEY\")\n",
    "api_key2=os.getenv(\"GROQ_API_KEY\")\n",
    "print(\"API Key 1:\", api_key1)    \n",
    "print(\"API Key 2:\", api_key2)"
   ]
  },
  {
   "cell_type": "code",
   "execution_count": null,
   "metadata": {},
   "outputs": [
    {
     "name": "stdout",
     "output_type": "stream",
     "text": [
      "Fast language models are crucial in natural language processing (NLP) and have numerous applications in various industries. Their importance can be attributed to several factors:\n",
      "\n",
      "1. **Efficient Processing**: Fast language models can process and analyze large amounts of text data quickly, making them ideal for real-time applications such as chatbots, virtual assistants, and sentiment analysis.\n",
      "2. **Improved User Experience**: Faster language models enable quicker response times, which leads to a better user experience. This is particularly important in applications where users expect instant feedback, such as customer service chatbots or language translation apps.\n",
      "3. **Increased Productivity**: Fast language models can automate tasks that would otherwise require human intervention, freeing up time and resources for more complex and high-value tasks.\n",
      "4. **Enhanced Accuracy**: Some fast language models, such as those using attention mechanisms or parallel processing, can achieve state-of-the-art accuracy while maintaining speed.\n",
      "5. **Scalability**: Fast language models can handle large volumes of data and scale to meet the needs of growing applications, making them suitable for enterprise-level deployments.\n",
      "6. **Edge AI Applications**: Fast language models are essential for edge AI applications, where models need to run on devices with limited computational resources, such as smartphones or smart home devices.\n",
      "7. **Real-time Decision Making**: Fast language models enable real-time decision making in applications such as:\n",
      "\t* Sentiment analysis: to quickly identify customer sentiment and respond accordingly.\n",
      "\t* Text classification: to categorize text into predefined categories, such as spam vs. non-spam emails.\n",
      "\t* Information retrieval: to quickly retrieve relevant information from large datasets.\n",
      "8. **Cost Savings**: Fast language models can reduce the computational resources required for NLP tasks, leading to cost savings in areas such as:\n",
      "\t* Cloud computing: by reducing the need for expensive GPU instances.\n",
      "\t* Energy consumption: by minimizing the energy required for model inference.\n",
      "9. **Accessibility**: Fast language models can be used to develop more accessible technologies, such as:\n",
      "\t* Speech-to-text systems: to enable people with disabilities to interact with devices more easily.\n",
      "\t* Language translation apps: to facilitate communication across languages.\n",
      "10. **Advancements in NLP Research**: Fast language models can accelerate research in NLP by enabling researchers to quickly experiment with new ideas, test hypotheses, and refine their models.\n",
      "\n",
      "To achieve fast language models, researchers and developers employ various techniques, such as:\n",
      "\n",
      "1. **Model pruning**: removing unnecessary weights and connections to reduce computational complexity.\n",
      "2. **Knowledge distillation**: transferring knowledge from a large, pre-trained model to a smaller, faster model.\n",
      "3. **Quantization**: representing model weights and activations using lower-precision data types to reduce computational requirements.\n",
      "4. **Parallel processing**: using multiple processing units or cores to speed up model inference.\n",
      "5. **Attention mechanisms**: using attention mechanisms to focus on relevant parts of the input data, reducing the need for computationally expensive operations.\n",
      "\n",
      "Overall, fast language models have the potential to transform numerous applications and industries, enabling more efficient, accurate, and scalable NLP capabilities.\n"
     ]
    }
   ],
   "source": [
    "import os\n",
    "\n",
    "from groq import Groq\n",
    "\n",
    "client = Groq(\n",
    "    api_key=\"\",\n",
    ")\n",
    "\n",
    "chat_completion = client.chat.completions.create(\n",
    "    messages=[\n",
    "        {\n",
    "            \"role\": \"user\",\n",
    "            \"content\": \"Explain the importance of fast language models\",\n",
    "        }\n",
    "    ],\n",
    "    model=\"llama-3.3-70b-versatile\",\n",
    ")\n",
    "\n",
    "print(chat_completion.choices[0].message.content)"
   ]
  },
  {
   "cell_type": "code",
   "execution_count": 14,
   "metadata": {},
   "outputs": [
    {
     "name": "stdout",
     "output_type": "stream",
     "text": [
      "Defaulting to user installation because normal site-packages is not writeable\n",
      "Requirement already satisfied: openai in /Users/mdalamintokder/Library/Python/3.9/lib/python/site-packages (1.77.0)\n",
      "Requirement already satisfied: python-dotenv in /Users/mdalamintokder/Library/Python/3.9/lib/python/site-packages (1.1.0)\n",
      "Requirement already satisfied: anyio<5,>=3.5.0 in /Users/mdalamintokder/Library/Python/3.9/lib/python/site-packages (from openai) (4.9.0)\n",
      "Requirement already satisfied: jiter<1,>=0.4.0 in /Users/mdalamintokder/Library/Python/3.9/lib/python/site-packages (from openai) (0.9.0)\n",
      "Requirement already satisfied: sniffio in /Users/mdalamintokder/Library/Python/3.9/lib/python/site-packages (from openai) (1.3.1)\n",
      "Requirement already satisfied: httpx<1,>=0.23.0 in /Users/mdalamintokder/Library/Python/3.9/lib/python/site-packages (from openai) (0.28.1)\n",
      "Requirement already satisfied: tqdm>4 in /Users/mdalamintokder/Library/Python/3.9/lib/python/site-packages (from openai) (4.67.1)\n",
      "Requirement already satisfied: typing-extensions<5,>=4.11 in /Users/mdalamintokder/Library/Python/3.9/lib/python/site-packages (from openai) (4.13.2)\n",
      "Requirement already satisfied: pydantic<3,>=1.9.0 in /Users/mdalamintokder/Library/Python/3.9/lib/python/site-packages (from openai) (2.11.4)\n",
      "Requirement already satisfied: distro<2,>=1.7.0 in /Users/mdalamintokder/Library/Python/3.9/lib/python/site-packages (from openai) (1.9.0)\n",
      "Requirement already satisfied: idna>=2.8 in /Users/mdalamintokder/Library/Python/3.9/lib/python/site-packages (from anyio<5,>=3.5.0->openai) (3.10)\n",
      "Requirement already satisfied: exceptiongroup>=1.0.2 in /Users/mdalamintokder/Library/Python/3.9/lib/python/site-packages (from anyio<5,>=3.5.0->openai) (1.2.2)\n",
      "Requirement already satisfied: certifi in /Users/mdalamintokder/Library/Python/3.9/lib/python/site-packages (from httpx<1,>=0.23.0->openai) (2025.4.26)\n",
      "Requirement already satisfied: httpcore==1.* in /Users/mdalamintokder/Library/Python/3.9/lib/python/site-packages (from httpx<1,>=0.23.0->openai) (1.0.9)\n",
      "Requirement already satisfied: h11>=0.16 in /Users/mdalamintokder/Library/Python/3.9/lib/python/site-packages (from httpcore==1.*->httpx<1,>=0.23.0->openai) (0.16.0)\n",
      "Requirement already satisfied: pydantic-core==2.33.2 in /Users/mdalamintokder/Library/Python/3.9/lib/python/site-packages (from pydantic<3,>=1.9.0->openai) (2.33.2)\n",
      "Requirement already satisfied: annotated-types>=0.6.0 in /Users/mdalamintokder/Library/Python/3.9/lib/python/site-packages (from pydantic<3,>=1.9.0->openai) (0.7.0)\n",
      "Requirement already satisfied: typing-inspection>=0.4.0 in /Users/mdalamintokder/Library/Python/3.9/lib/python/site-packages (from pydantic<3,>=1.9.0->openai) (0.4.0)\n",
      "\u001b[33mWARNING: You are using pip version 21.2.4; however, version 25.1.1 is available.\n",
      "You should consider upgrading via the '/Library/Developer/CommandLineTools/usr/bin/python3 -m pip install --upgrade pip' command.\u001b[0m\n",
      "Note: you may need to restart the kernel to use updated packages.\n"
     ]
    }
   ],
   "source": [
    "pip install openai python-dotenv\n"
   ]
  },
  {
   "cell_type": "code",
   "execution_count": null,
   "metadata": {},
   "outputs": [],
   "source": [
    "import os\n",
    "from dotenv import load_dotenv\n",
    "import openai\n",
    "\n",
    "# Load the .env file\n",
    "load_dotenv()\n",
    "\n",
    "# Get the API key\n",
    "api_key = os.getenv(\"OPENAI_API_KEY\")\n",
    "print(f\"Using OpenAI API key: {api_key}\")\n",
    "\n",
    "# Initialize OpenAI client\n",
    "client = openai.OpenAI(api_key=api_key)\n",
    "\n",
    "# Send a test prompt\n",
    "response = client.chat.completions.create(\n",
    "    model=\"gpt-4o\",  # Or \"gpt-3.5-turbo\"\n",
    "    messages=[\n",
    "        {\"role\": \"user\", \"content\": \"Give a short explanation of what AI is.\"}\n",
    "    ]\n",
    ")\n",
    "\n",
    "# Print the response\n",
    "print(response.choices[0].message.content)\n"
   ]
  },
  {
   "cell_type": "markdown",
   "metadata": {},
   "source": []
  },
  {
   "cell_type": "code",
   "execution_count": null,
   "metadata": {},
   "outputs": [],
   "source": []
  }
 ],
 "metadata": {
  "kernelspec": {
   "display_name": "Python 3",
   "language": "python",
   "name": "python3"
  },
  "language_info": {
   "codemirror_mode": {
    "name": "ipython",
    "version": 3
   },
   "file_extension": ".py",
   "mimetype": "text/x-python",
   "name": "python",
   "nbconvert_exporter": "python",
   "pygments_lexer": "ipython3",
   "version": "3.9.6"
  }
 },
 "nbformat": 4,
 "nbformat_minor": 2
}
