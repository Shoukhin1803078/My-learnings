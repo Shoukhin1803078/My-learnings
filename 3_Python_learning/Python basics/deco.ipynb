{
 "cells": [
  {
   "cell_type": "code",
   "execution_count": null,
   "metadata": {},
   "outputs": [
    {
     "name": "stdout",
     "output_type": "stream",
     "text": [
      "6\n"
     ]
    }
   ],
   "source": [
    "def deco(f):\n",
    "    def wrapper(*args,**kwargs):\n",
    "        print(\"Hi bestu, This gift is from tasnia\")\n",
    "        r=f(*args,**kwargs)\n",
    "        print(\"Hi this is alamin\")\n",
    "        return r\n",
    "    \n",
    "    xx=wrapper\n",
    "    return xx\n",
    "\n",
    "\n",
    "@deco\n",
    "def mobile(x,y):\n",
    "    m=x*y\n",
    "    return m\n",
    "\n",
    "if __name__ == \"__main__\":\n",
    "    result=mul(2,3)\n",
    "    print(result)\n"
   ]
  },
  {
   "cell_type": "code",
   "execution_count": null,
   "metadata": {},
   "outputs": [],
   "source": []
  }
 ],
 "metadata": {
  "kernelspec": {
   "display_name": "Python 3",
   "language": "python",
   "name": "python3"
  },
  "language_info": {
   "codemirror_mode": {
    "name": "ipython",
    "version": 3
   },
   "file_extension": ".py",
   "mimetype": "text/x-python",
   "name": "python",
   "nbconvert_exporter": "python",
   "pygments_lexer": "ipython3",
   "version": "3.12.6"
  }
 },
 "nbformat": 4,
 "nbformat_minor": 2
}
