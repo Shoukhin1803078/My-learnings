{
 "cells": [
  {
   "cell_type": "code",
   "execution_count": 1,
   "metadata": {},
   "outputs": [
    {
     "name": "stdout",
     "output_type": "stream",
     "text": [
      "hello world\n"
     ]
    }
   ],
   "source": [
    "print(\"hello world\")"
   ]
  },
  {
   "cell_type": "code",
   "execution_count": 12,
   "metadata": {},
   "outputs": [
    {
     "name": "stdout",
     "output_type": "stream",
     "text": [
      "tk====50 data username=====abc  email======shoukhin@gmail.com\n"
     ]
    }
   ],
   "source": [
    "class A:\n",
    "    def __init__(self, tk,data):\n",
    "        self.tk=tk\n",
    "        self.data=data\n",
    "    \n",
    "    def display(self):\n",
    "        print(f\"tk===={self.tk} data username====={self.data['username']}  email======{self.data['email']}\")\n",
    "    \n",
    "a=A(tk=\"50\",data={\"username\":\"abc\",\"email\":\"shoukhin@gmail.com\"})\n",
    "a.display()"
   ]
  },
  {
   "cell_type": "code",
   "execution_count": null,
   "metadata": {},
   "outputs": [],
   "source": []
  }
 ],
 "metadata": {
  "kernelspec": {
   "display_name": "Python 3",
   "language": "python",
   "name": "python3"
  },
  "language_info": {
   "codemirror_mode": {
    "name": "ipython",
    "version": 3
   },
   "file_extension": ".py",
   "mimetype": "text/x-python",
   "name": "python",
   "nbconvert_exporter": "python",
   "pygments_lexer": "ipython3",
   "version": "3.9.6"
  }
 },
 "nbformat": 4,
 "nbformat_minor": 2
}
