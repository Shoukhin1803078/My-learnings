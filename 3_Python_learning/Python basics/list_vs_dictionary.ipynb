{
 "cells": [
  {
   "cell_type": "markdown",
   "id": "3dc1fae2",
   "metadata": {},
   "source": [
    "# 1.list ----> dictionary"
   ]
  },
  {
   "cell_type": "code",
   "execution_count": null,
   "id": "2a47c313",
   "metadata": {},
   "outputs": [
    {
     "name": "stdout",
     "output_type": "stream",
     "text": [
      "{'student': ['alamin', 'tokder', 'shoukhin', {'cg': {'first_year': 3.24, 'second_year': 3.45, 'third_year': 3.46, 'fourth_year': 3.59}, 'versity': 'RUET'}]}\n",
      "['alamin', 'tokder', 'shoukhin', {'cg': {'first_year': 3.24, 'second_year': 3.45, 'third_year': 3.46, 'fourth_year': 3.59}, 'versity': 'RUET'}]\n",
      "alamin\n",
      "tokder\n",
      "shoukhin\n",
      "{'cg': {'first_year': 3.24, 'second_year': 3.45, 'third_year': 3.46, 'fourth_year': 3.59}, 'versity': 'RUET'}\n",
      "{'first_year': 3.24, 'second_year': 3.45, 'third_year': 3.46, 'fourth_year': 3.59}\n"
     ]
    }
   ],
   "source": [
    "a = [\"alamin\", \"tokder\", \"shoukhin\", {\"cg\": {\"first_year\": 3.24, \"second_year\": 3.45, \"third_year\": 3.46, \"fourth_year\": 3.59},\"versity\":\"RUET\"}]\n",
    "\n",
    "final_result = {}\n",
    "final_result[\"student\"] = a\n",
    "\n",
    "print(final_result)\n",
    "print(final_result['student'])\n",
    "print(final_result['student'][0])\n",
    "print(final_result['student'][1])\n",
    "print(final_result['student'][2])\n",
    "print(final_result['student'][3])\n",
    "print(final_result['student'][3]['cg'])\n",
    "\n"
   ]
  },
  {
   "cell_type": "markdown",
   "id": "3313a332",
   "metadata": {},
   "source": [
    "# notun ekta key_value add korte cassi in final_result e "
   ]
  },
  {
   "cell_type": "code",
   "execution_count": 43,
   "id": "220b1a71",
   "metadata": {},
   "outputs": [
    {
     "name": "stdout",
     "output_type": "stream",
     "text": [
      "{'student': ['alamin', 'tokder', 'shoukhin', {'cg': {'first_year': 3.24, 'second_year': 3.45, 'third_year': 3.46, 'fourth_year': 3.59}, 'versity': 'RUET'}], 'department': 'CSE', 'extra_info': {'advisor': 'Dr. XYZ', 'year': 2025}}\n",
      "{'student': ['alamin', 'tokder', 'shoukhin', {'cg': {'first_year': 3.24, 'second_year': 3.45, 'third_year': 3.46, 'fourth_year': 3.59}, 'versity': 'RUET'}, {'hobby': 'coding', 'city': 'Rajshahi'}], 'department': 'CSE', 'extra_info': {'advisor': 'Dr. XYZ', 'year': 2025}}\n",
      "['alamin', 'tokder', 'shoukhin', {'cg': {'first_year': 3.24, 'second_year': 3.45, 'third_year': 3.46, 'fourth_year': 3.59}, 'versity': 'RUET'}, {'hobby': 'coding', 'city': 'Rajshahi'}]\n",
      "alamin\n",
      "tokder\n",
      "shoukhin\n",
      "{'cg': {'first_year': 3.24, 'second_year': 3.45, 'third_year': 3.46, 'fourth_year': 3.59}, 'versity': 'RUET'}\n",
      "{'first_year': 3.24, 'second_year': 3.45, 'third_year': 3.46, 'fourth_year': 3.59}\n"
     ]
    }
   ],
   "source": [
    "a = [\n",
    "    \"alamin\",\n",
    "    \"tokder\",\n",
    "    \"shoukhin\",\n",
    "    {\n",
    "        \"cg\": {\n",
    "            \"first_year\": 3.24,\n",
    "            \"second_year\": 3.45,\n",
    "            \"third_year\": 3.46,\n",
    "            \"fourth_year\": 3.59\n",
    "        },\n",
    "        \"versity\": \"RUET\"\n",
    "    }\n",
    "]\n",
    "\n",
    "final_result = {}\n",
    "final_result[\"student\"] = a   # add list into dictionary\n",
    "\n",
    "\n",
    "final_result[\"department\"] = \"CSE\"  # 👈 new key-value pair\n",
    "\n",
    "\n",
    "# ---------------✅ 1. Add a new dictionary as a new key in final_result--------------\n",
    "extra_info = {\n",
    "    \"advisor\": \"Dr. XYZ\",\n",
    "    \"year\": 2025\n",
    "}\n",
    "\n",
    "final_result[\"extra_info\"] = extra_info\n",
    "\n",
    "print(final_result)\n",
    "\n",
    "\n",
    "\n",
    "# -----------------------------output---------------------------------\n",
    "\n",
    "# {\n",
    "#   \"student\": [\n",
    "#     \"alamin\",\n",
    "#     \"tokder\",\n",
    "#     \"shoukhin\",\n",
    "#     {\n",
    "#       \"cg\": {\n",
    "#         \"first_year\": 3.24,\n",
    "#         \"second_year\": 3.45,\n",
    "#         \"third_year\": 3.46,\n",
    "#         \"fourth_year\": 3.59\n",
    "#       },\n",
    "#       \"versity\": \"RUET\"\n",
    "#     }\n",
    "#   ],\n",
    "#   \"department\": \"CSE\",\n",
    "#   \"extra_info\": {\"advisor\": \"Dr. XYZ\", \"year\": 2025}\n",
    "# }\n",
    "\n",
    "\n",
    "\n",
    "\n",
    "\n",
    "# --------✅ 2. Add another dictionary into the student list------------\n",
    "\n",
    "new_dict = {\"hobby\": \"coding\", \"city\": \"Rajshahi\"}\n",
    "\n",
    "final_result[\"student\"].append(new_dict)\n",
    "\n",
    "print(final_result)\n",
    "\n",
    "\n",
    "\n",
    "# --------------------------output-------------------------------\n",
    "# {\n",
    "#   \"student\": [\n",
    "#     \"alamin\",\n",
    "#     \"tokder\",\n",
    "#     \"shoukhin\",\n",
    "#     {\n",
    "#       \"cg\": {\"first_year\": 3.24, \"second_year\": 3.45, \"third_year\": 3.46, \"fourth_year\": 3.59},\n",
    "#       \"versity\": \"RUET\"\n",
    "#     },\n",
    "#     {\"hobby\": \"coding\", \"city\": \"Rajshahi\"}   # 👈 new dictionary added here\n",
    "#   ],\n",
    "#   \"department\": \"CSE\"\n",
    "# }\n",
    "\n",
    "\n",
    "print(final_result['student'])\n",
    "print(final_result['student'][0])       # \"alamin\"\n",
    "print(final_result['student'][1])       # \"tokder\"\n",
    "print(final_result['student'][2])       # \"shoukhin\"\n",
    "print(final_result['student'][3])       # dictionary\n",
    "print(final_result['student'][3]['cg']) # nested dictionary\n",
    "\n",
    "\n"
   ]
  },
  {
   "cell_type": "markdown",
   "id": "32c42a87",
   "metadata": {},
   "source": [
    "# 2. Add a dictionary into a list"
   ]
  },
  {
   "cell_type": "markdown",
   "id": "b620a9f4",
   "metadata": {},
   "source": [
    "### Option A: Put whole dictionary into a list eita bujsi eivabe korbo\n"
   ]
  },
  {
   "cell_type": "code",
   "execution_count": 36,
   "id": "ccbe8fd9",
   "metadata": {},
   "outputs": [
    {
     "name": "stdout",
     "output_type": "stream",
     "text": [
      "[{'first_name': 'alamin', 'last_name': 'shoukhin', 'cg': {'first_year': 3.24, 'second_year': 3.56}}]\n",
      "{'first_name': 'alamin', 'last_name': 'shoukhin', 'cg': {'first_year': 3.24, 'second_year': 3.56}}\n",
      "len===1\n",
      "len of a[0]====3\n",
      "value of a[0]:\n",
      "\n",
      "{'first_name': 'alamin', 'last_name': 'shoukhin', 'cg': {'first_year': 3.24, 'second_year': 3.56}}\n",
      "alamin\n",
      "shoukhin\n",
      "{'first_year': 3.24, 'second_year': 3.56}\n",
      "3.24\n",
      "3.56\n"
     ]
    }
   ],
   "source": [
    "final_result = {\n",
    "  \"first_name\": \"alamin\",\n",
    "  \"last_name\": \"shoukhin\",\n",
    "  \"cg\": {\n",
    "      \"first_year\": 3.24,\n",
    "      \"second_year\":3.56\n",
    "      }\n",
    "}\n",
    "a=[]\n",
    "a.append(final_result)\n",
    "print(a)\n",
    "print(a[0])\n",
    "# a[0] eti ekti dictionary . So dictionary er jekono kaj a[0] er upor kora jabe\n",
    "\n",
    "\n",
    "print(f\"len==={len(a)}\")\n",
    "\n",
    "print(f\"len of a[0]===={len(a[0])}\")\n",
    "print(f\"value of a[0]:\\n\")\n",
    "for i in range(0,len(a),1):\n",
    "    print(a[i])\n",
    "\n",
    "print(a[0]['first_name'])\n",
    "print(a[0]['last_name'])\n",
    "print(a[0]['cg'])\n",
    "print(a[0]['cg']['first_year'])\n",
    "print(a[0]['cg']['second_year'])"
   ]
  },
  {
   "cell_type": "markdown",
   "id": "edff6502",
   "metadata": {},
   "source": [
    "### Option B: Convert dictionary values into a list"
   ]
  },
  {
   "cell_type": "code",
   "execution_count": 27,
   "id": "908f5d4a",
   "metadata": {},
   "outputs": [
    {
     "name": "stdout",
     "output_type": "stream",
     "text": [
      "alamin\n",
      "shoukhin\n",
      "{'first_year': 3.24, 'second_year': 3.45}\n",
      "first_name : alamin\n",
      "last_name : shoukhin\n",
      "cg : {'first_year': 3.24, 'second_year': 3.45}\n"
     ]
    }
   ],
   "source": [
    "final_result = {\n",
    "    \"first_name\": \"alamin\",\n",
    "    \"last_name\": \"shoukhin\",\n",
    "    \"cg\": {\"first_year\": 3.24, \"second_year\": 3.45}\n",
    "}\n",
    "values_list = list(final_result.values())\n",
    "\n",
    "for i in range(0, len(values_list), 1):\n",
    "    print(values_list[i])\n",
    "\n",
    "\n",
    "key_list=list(final_result.keys())\n",
    "\n",
    "for i in range(0,len(key_list),1):\n",
    "    print(key_list[i],\":\",final_result[key_list[i]])"
   ]
  },
  {
   "cell_type": "code",
   "execution_count": null,
   "id": "1ce183ac",
   "metadata": {},
   "outputs": [],
   "source": []
  }
 ],
 "metadata": {
  "kernelspec": {
   "display_name": "venv",
   "language": "python",
   "name": "python3"
  },
  "language_info": {
   "codemirror_mode": {
    "name": "ipython",
    "version": 3
   },
   "file_extension": ".py",
   "mimetype": "text/x-python",
   "name": "python",
   "nbconvert_exporter": "python",
   "pygments_lexer": "ipython3",
   "version": "3.9.6"
  }
 },
 "nbformat": 4,
 "nbformat_minor": 5
}
