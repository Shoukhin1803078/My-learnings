{
 "cells": [
  {
   "cell_type": "code",
   "execution_count": 6,
   "metadata": {},
   "outputs": [
    {
     "name": "stdout",
     "output_type": "stream",
     "text": [
      "a\n",
      "l\n",
      "a\n",
      "m\n",
      "i\n",
      "n\n",
      "len(x)======6\n",
      "a m a\n",
      "a i a\n",
      "a n a\n"
     ]
    }
   ],
   "source": [
    "def two_pointer(x):\n",
    "    for i in x:\n",
    "        print(i)\n",
    "    \n",
    "\n",
    "    print(f\"len(x)======{len(x)}\")\n",
    "\n",
    "    for i in range(3,len(x)):\n",
    "        print(\"a\",x[i],\"a\")\n",
    "    \n",
    "\n",
    "\n",
    "\n",
    "two_pointer(\"alamin\")"
   ]
  },
  {
   "cell_type": "code",
   "execution_count": null,
   "metadata": {},
   "outputs": [],
   "source": []
  }
 ],
 "metadata": {
  "kernelspec": {
   "display_name": "Python 3",
   "language": "python",
   "name": "python3"
  },
  "language_info": {
   "codemirror_mode": {
    "name": "ipython",
    "version": 3
   },
   "file_extension": ".py",
   "mimetype": "text/x-python",
   "name": "python",
   "nbconvert_exporter": "python",
   "pygments_lexer": "ipython3",
   "version": "3.12.6"
  }
 },
 "nbformat": 4,
 "nbformat_minor": 2
}
