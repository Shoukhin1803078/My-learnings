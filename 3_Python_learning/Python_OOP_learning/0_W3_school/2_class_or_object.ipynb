{
 "cells": [
  {
   "cell_type": "markdown",
   "id": "5d78a337",
   "metadata": {},
   "source": [
    "# Python Classes/Objects\n",
    "\n",
    "Python is an object oriented programming language.\n",
    "\n",
    "Almost everything in Python is an object, with its properties and methods.\n",
    "\n",
    "A Class is like an object constructor, or a \"blueprint\" for creating objects."
   ]
  },
  {
   "cell_type": "markdown",
   "id": "3da5d22a",
   "metadata": {},
   "source": [
    "# Create a Class and Obj"
   ]
  },
  {
   "cell_type": "code",
   "execution_count": 1,
   "id": "2d84345f",
   "metadata": {},
   "outputs": [
    {
     "name": "stdout",
     "output_type": "stream",
     "text": [
      "5\n"
     ]
    }
   ],
   "source": [
    "class A:\n",
    "    x=5\n",
    "\n",
    "a=A()\n",
    "print(a.x)"
   ]
  },
  {
   "cell_type": "markdown",
   "id": "83c58d19",
   "metadata": {},
   "source": [
    "# The __init__() Method\n",
    "\n",
    "- > The examples above are classes and objects in their simplest form, and are not really useful in real life applications.\n",
    "\n",
    "- > To understand the meaning of classes we have to understand the built-in __init__() method.\n",
    "\n",
    "- > All classes have a method called __init__(), which is always executed when the class is being initiated.\n",
    "\n",
    "- > Use the __init__() method to assign values to object properties, or other operations that are necessary to do when the object is being created:"
   ]
  },
  {
   "cell_type": "markdown",
   "id": "21114d7a",
   "metadata": {},
   "source": [
    "### Example\n",
    "Create a class named Person, use the __init__() method to assign values for name and age:"
   ]
  },
  {
   "cell_type": "markdown",
   "id": "e8bfe896",
   "metadata": {},
   "source": [
    "### Note: The self parameter is a reference to the current instance of the class, and is used to access variables that belong to the class."
   ]
  },
  {
   "cell_type": "code",
   "execution_count": 2,
   "id": "9e6da817",
   "metadata": {},
   "outputs": [
    {
     "name": "stdout",
     "output_type": "stream",
     "text": [
      "Alamin\n",
      "25\n"
     ]
    }
   ],
   "source": [
    "class Person:\n",
    "    def __init__(self,name,age):\n",
    "        self.name=name\n",
    "        self.age=age\n",
    "\n",
    "\n",
    "p1=Person(\"Alamin\",25)\n",
    "\n",
    "print(p1.name)\n",
    "print(p1.age)"
   ]
  },
  {
   "cell_type": "markdown",
   "id": "db9cf933",
   "metadata": {},
   "source": [
    "### Note: The __init__() method is called automatically every time the class is being used to create a new object."
   ]
  },
  {
   "cell_type": "markdown",
   "id": "0d4512bb",
   "metadata": {},
   "source": [
    "# The self Parameter\n",
    "The self parameter is a reference to the current instance of the class, and is used to access variables that belong to the class.\n",
    "\n",
    "It does not have to be named self, you can call it whatever you like, but it has to be the first parameter of any function in the class:\n",
    "### Example\n",
    "Use the words mysillyobject and abc instead of self:"
   ]
  },
  {
   "cell_type": "code",
   "execution_count": 5,
   "id": "a3e77e28",
   "metadata": {},
   "outputs": [
    {
     "name": "stdout",
     "output_type": "stream",
     "text": [
      "Hello my name is John\n",
      "Hello my name is John\n"
     ]
    }
   ],
   "source": [
    "# class Person:\n",
    "#   def __init__(self, name, age):\n",
    "#     self.name = name\n",
    "#     self.age = age\n",
    "\n",
    "#   def myfunc(self):\n",
    "#     print(\"Hello my name is \" + self.name)\n",
    "\n",
    "# p1 = Person(\"John\", 36)\n",
    "# p1.myfunc()\n",
    "\n",
    "\n",
    "\n",
    "class Person:\n",
    "  def __init__(mysillyobject_or_self, name, age):\n",
    "    mysillyobject_or_self.name = name\n",
    "    mysillyobject_or_self.age = age\n",
    "\n",
    "  def myfunc(hello):\n",
    "    print(\"Hello my name is \" + hello.name)\n",
    "\n",
    "  def myfunc2(bro):\n",
    "    print(\"Hello my name is \" + bro.name)\n",
    "\n",
    "\n",
    "\n",
    "p1 = Person(\"John\", 36)\n",
    "p1.myfunc()\n",
    "p1.myfunc2()"
   ]
  },
  {
   "cell_type": "markdown",
   "id": "72dc589c",
   "metadata": {},
   "source": [
    "# The __str__() Method\n",
    "\n",
    "- > The __str__() method controls what should be returned when the class object is represented as a string.\n",
    "\n",
    "- > If the __str__() method is not set, the string representation of the object is returned:"
   ]
  },
  {
   "cell_type": "markdown",
   "id": "cd57cd5c",
   "metadata": {},
   "source": [
    "### Example\n",
    "The string representation of an object WITH the __str__() method:"
   ]
  },
  {
   "cell_type": "code",
   "execution_count": null,
   "id": "2d915bb8",
   "metadata": {},
   "outputs": [
    {
     "name": "stdout",
     "output_type": "stream",
     "text": [
      "shoukhin 25\n"
     ]
    }
   ],
   "source": [
    "class A:\n",
    "    def __init__(self, name, age):\n",
    "        self.name=name\n",
    "        self.age=age\n",
    "    \n",
    "    def __str__(self):\n",
    "        return f\"{self.name} {self.age}\"\n",
    "    \n",
    "a1=A(\"shoukhin\",25)\n",
    "print(a1)"
   ]
  },
  {
   "cell_type": "markdown",
   "id": "9a0c1473",
   "metadata": {},
   "source": [
    "# Create Methods\n",
    "You can create your own methods inside objects. Methods in objects are functions that belong to the object.\n",
    "\n",
    "Let us create a method in the Person class:"
   ]
  },
  {
   "cell_type": "code",
   "execution_count": 4,
   "id": "bf40346b",
   "metadata": {},
   "outputs": [
    {
     "name": "stdout",
     "output_type": "stream",
     "text": [
      "hello this is= shoukhin\n"
     ]
    }
   ],
   "source": [
    "class A:\n",
    "    def __init__(self, name, age):\n",
    "        self.name=name\n",
    "        self.age=age\n",
    "    \n",
    "    def __str__(self):\n",
    "        return f\"{self.name} {self.age}\"\n",
    "    \n",
    "    def myfunc(self):\n",
    "        print(f\"hello this is= {self.name}\")\n",
    "    \n",
    "a1=A(\"shoukhin\",25)\n",
    "\n",
    "# print(a1)\n",
    "a1.myfunc()"
   ]
  },
  {
   "cell_type": "markdown",
   "id": "5487287e",
   "metadata": {},
   "source": [
    "### Note: The self parameter is a reference to the current instance of the class, and is used to access variables that belong to the class."
   ]
  },
  {
   "cell_type": "markdown",
   "id": "742dabf2",
   "metadata": {},
   "source": [
    "# Modify Object Properties\n",
    "You can modify properties on objects like this:"
   ]
  },
  {
   "cell_type": "code",
   "execution_count": 17,
   "id": "1cb83a06",
   "metadata": {},
   "outputs": [
    {
     "name": "stdout",
     "output_type": "stream",
     "text": [
      "hello this is= shoukhin\n",
      "hello this is= alamin\n"
     ]
    }
   ],
   "source": [
    "class A:\n",
    "    def __init__(self, name, age):\n",
    "        self.name=name\n",
    "        self.age=age\n",
    "    \n",
    "    # def __str__(self):\n",
    "    #     return f\"{self.name} {self.age}\"\n",
    "    \n",
    "    def myfunc(self):\n",
    "        print(f\"hello this is= {self.name}\")\n",
    "    \n",
    "\n",
    "a1=A(\"shoukhin\",25)\n",
    "a1.myfunc()\n",
    "\n",
    "a1.name=\"alamin\"\n",
    "a1.myfunc()\n"
   ]
  },
  {
   "cell_type": "markdown",
   "id": "73a70813",
   "metadata": {},
   "source": [
    "# Delete Objects\n",
    "You can delete objects by using the del keyword:\n",
    "\n",
    "\n",
    "# Delete Object Properties\n",
    "You can delete properties on objects by using the del keyword:\n",
    "\n",
    "Example\n",
    "Delete the age property from the p1 object:\n",
    "\n"
   ]
  },
  {
   "cell_type": "code",
   "execution_count": 21,
   "id": "aba10fa6",
   "metadata": {},
   "outputs": [],
   "source": [
    "# del a1.age\n",
    "del a1"
   ]
  },
  {
   "cell_type": "markdown",
   "id": "55c44f70",
   "metadata": {},
   "source": [
    "# The pass Statement\n",
    "class definitions cannot be empty, but if you for some reason have a class definition with no content, put in the pass statement to avoid getting an error."
   ]
  },
  {
   "cell_type": "code",
   "execution_count": null,
   "id": "0a7c9dff",
   "metadata": {},
   "outputs": [],
   "source": [
    "class Person:\n",
    "  pass"
   ]
  }
 ],
 "metadata": {
  "kernelspec": {
   "display_name": "Python 3",
   "language": "python",
   "name": "python3"
  },
  "language_info": {
   "codemirror_mode": {
    "name": "ipython",
    "version": 3
   },
   "file_extension": ".py",
   "mimetype": "text/x-python",
   "name": "python",
   "nbconvert_exporter": "python",
   "pygments_lexer": "ipython3",
   "version": "3.9.6"
  }
 },
 "nbformat": 4,
 "nbformat_minor": 5
}
