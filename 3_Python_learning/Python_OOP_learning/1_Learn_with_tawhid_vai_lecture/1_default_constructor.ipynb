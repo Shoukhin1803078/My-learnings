{
 "cells": [
  {
   "cell_type": "code",
   "execution_count": 8,
   "id": "a556253a",
   "metadata": {},
   "outputs": [
    {
     "name": "stdout",
     "output_type": "stream",
     "text": [
      "<__main__.E object at 0x1059e2280>\n",
      "<__main__.E object at 0x1059e2670>\n"
     ]
    }
   ],
   "source": [
    "class E:\n",
    "    pass\n",
    "\n",
    "e1=E()\n",
    "print(e1)\n",
    "e1=E()\n",
    "print(e1)\n"
   ]
  },
  {
   "cell_type": "code",
   "execution_count": null,
   "id": "33b76ccf",
   "metadata": {},
   "outputs": [
    {
     "name": "stdout",
     "output_type": "stream",
     "text": [
      "obj created\n",
      "<__main__.E object at 0x1059a2100>\n",
      "<__main__.E object at 0x1059a2100>\n",
      "\n"
     ]
    }
   ],
   "source": [
    "class E:\n",
    "    def __init__(self):\n",
    "        print(\"obj created\")\n",
    "        print(self)\n",
    "\n",
    "e1=E()\n",
    "\n",
    "print(e1)"
   ]
  },
  {
   "cell_type": "code",
   "execution_count": 12,
   "id": "545e5c60",
   "metadata": {},
   "outputs": [
    {
     "name": "stdout",
     "output_type": "stream",
     "text": [
      "obj is created\n",
      "object <__main__.E object at 0x105d81e50> name is = Alamin roll is= 1803078\n"
     ]
    }
   ],
   "source": [
    "class E:\n",
    "    #parameterized constructor\n",
    "    def __init__(self, name, roll):\n",
    "        self.name=name\n",
    "        self.roll=roll\n",
    "        print(\"obj is created\")\n",
    "\n",
    "    def details(self):\n",
    "        print(f\"object {self} name is = {self.name} roll is= {self.roll}\")\n",
    "\n",
    "e1=E(\"Alamin\",1803078) \n",
    "\n",
    "\n",
    "# details() \n",
    "e1.details()"
   ]
  },
  {
   "cell_type": "code",
   "execution_count": null,
   "id": "5ca8c6d1",
   "metadata": {},
   "outputs": [
    {
     "name": "stdout",
     "output_type": "stream",
     "text": [
      "obj is created\n",
      "object <__main__.E object at 0x105866c40> name is = Alamin roll is= 1803078 gender is= male age is= 25\n",
      "obj is created\n",
      "object <__main__.E object at 0x105c29640> name is = Shoukhin roll is= 1803079 gender is= male age is= 25\n",
      "object <__main__.E object at 0x105866c40> name is = Alamin roll is= 1803078 gender is= male age is= 25\n",
      "object <__main__.E object at 0x105866c40> name is = Alamin roll is= 1803078 gender is= male age is= 25\n",
      "object <__main__.E object at 0x105866c40> name is = Alamin roll is= 1803078 gender is= male age is= 25\n",
      "object <__main__.E object at 0x105c29640> name is = Shoukhin roll is= 1803079 gender is= male age is= 25\n",
      "object <__main__.E object at 0x105c29640> name is = Shoukhin roll is= 1803079 gender is= male age is= 25\n",
      "object <__main__.E object at 0x105866c40> name is = Mustakim roll is= 1803078 gender is= male age is= 25\n",
      "object <__main__.E object at 0x105866c40> name is = Mustakim roll is= 1803078 gender is= male age is= 25\n",
      "object <__main__.E object at 0x105866c40> name is = Mustakim roll is= 1803078 gender is= male age is= 25\n"
     ]
    }
   ],
   "source": [
    "class E:\n",
    "    #parameterized constructor\n",
    "    def __init__(self, name, roll):\n",
    "        self.name=name\n",
    "        self.roll=roll\n",
    "        self.gender=\"male\"\n",
    "        self.age=25\n",
    "        print(\"obj is created\")\n",
    "    \n",
    "    #isinstance method\n",
    "    def display(self):\n",
    "        print(f\"object {self} name is = {self.name} roll is= {self.roll} gender is= {self.gender} age is= {self.age}\")\n",
    "#----------------------------------------------------\n",
    "\n",
    "\n",
    "\n",
    "e1=E(\"Alamin\",1803078)\n",
    "e1.display()\n",
    "\n",
    "e2=E(\"Shoukhin\",1803079)\n",
    "e2.display()\n",
    "\n",
    "# print(e1)\n",
    "# print(e2)\n",
    "\n",
    "e1.display()\n",
    "e1.display()\n",
    "e1.display()\n",
    "e2.display()\n",
    "e2.display()\n",
    "\n",
    "e1.name=\"Mustakim\"\n",
    "e1.display()\n",
    "e1.display()\n",
    "e1.display()"
   ]
  },
  {
   "cell_type": "code",
   "execution_count": 26,
   "id": "607a01ae",
   "metadata": {},
   "outputs": [
    {
     "name": "stdout",
     "output_type": "stream",
     "text": [
      "book_name: Opekkha \n",
      " author: Humayoun Ahmed \n",
      "Price: 0 Taka\n",
      "255\n",
      "book_name: Opekkha \n",
      " author: Humayoun Ahmed \n",
      "Price: 255 Taka\n"
     ]
    }
   ],
   "source": [
    "class Book:\n",
    "    def __init__(self,name,author):\n",
    "        self.name=name\n",
    "        self.author=author\n",
    "        self.price=0\n",
    "\n",
    "    def set_price(self,price):\n",
    "        self.price=price\n",
    "    \n",
    "    def get_price(self):\n",
    "        return self.price\n",
    "    \n",
    "    def details(self):\n",
    "        print(\"book_name:\",self.name,\"\\n author:\",self.author,\"\\nPrice:\",self.price, \"Taka\")\n",
    "#==============================================================================================\n",
    "\n",
    "\n",
    "b1=Book(\"Opekkha\",\"Humayoun Ahmed\")\n",
    "b1.details()\n",
    "\n",
    "\n",
    "\n",
    "\n",
    "b1.set_price(255)\n",
    "x=b1.get_price()\n",
    "print(x)\n",
    "b1.details()"
   ]
  },
  {
   "cell_type": "code",
   "execution_count": null,
   "id": "1de0b5ef",
   "metadata": {},
   "outputs": [],
   "source": []
  }
 ],
 "metadata": {
  "kernelspec": {
   "display_name": "Python 3",
   "language": "python",
   "name": "python3"
  },
  "language_info": {
   "codemirror_mode": {
    "name": "ipython",
    "version": 3
   },
   "file_extension": ".py",
   "mimetype": "text/x-python",
   "name": "python",
   "nbconvert_exporter": "python",
   "pygments_lexer": "ipython3",
   "version": "3.9.6"
  }
 },
 "nbformat": 4,
 "nbformat_minor": 5
}
