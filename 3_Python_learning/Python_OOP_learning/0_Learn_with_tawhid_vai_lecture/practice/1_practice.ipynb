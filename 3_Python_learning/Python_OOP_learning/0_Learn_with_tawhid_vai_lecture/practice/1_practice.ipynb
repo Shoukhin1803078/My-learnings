{
 "cells": [
  {
   "cell_type": "code",
   "execution_count": null,
   "metadata": {},
   "outputs": [],
   "source": [
    "int x=8\n",
    "int y=10\n",
    "print(x+y)"
   ]
  },
  {
   "cell_type": "code",
   "execution_count": 38,
   "metadata": {},
   "outputs": [
    {
     "name": "stdout",
     "output_type": "stream",
     "text": [
      "<class 'int'>\n"
     ]
    }
   ],
   "source": [
    "x=9\n",
    "print(type(x))\n"
   ]
  },
  {
   "cell_type": "code",
   "execution_count": null,
   "metadata": {},
   "outputs": [
    {
     "name": "stdout",
     "output_type": "stream",
     "text": [
      "(2, 3, 5, 6)\n",
      "5\n"
     ]
    }
   ],
   "source": [
    "def Add(*arg)-> int:\n",
    "    print(arg)\n",
    "    if arg[0]==int\n",
    "    \n",
    "\n",
    "x=Add(2,3,5,6)\n",
    "print(x)"
   ]
  },
  {
   "cell_type": "markdown",
   "metadata": {},
   "source": [
    "# class with out constructor"
   ]
  },
  {
   "cell_type": "code",
   "execution_count": 52,
   "metadata": {},
   "outputs": [
    {
     "name": "stdout",
     "output_type": "stream",
     "text": [
      "Hello from class A\n"
     ]
    }
   ],
   "source": [
    "class A:\n",
    "    def display(self):\n",
    "        print(\"Hello from class A\")\n",
    "    pass\n",
    "a1= A()\n",
    "a1.display()"
   ]
  },
  {
   "cell_type": "markdown",
   "metadata": {},
   "source": [
    "# class with without parameter constructor"
   ]
  },
  {
   "cell_type": "code",
   "execution_count": null,
   "metadata": {},
   "outputs": [],
   "source": [
    "class Car:\n",
    "    def __init__(self):\n",
    "        print(\"this is constructor\")\n",
    "\n",
    "bmw=Car()\n",
    "toyota=Car()"
   ]
  },
  {
   "cell_type": "markdown",
   "metadata": {},
   "source": [
    "# class with with parameter constructor"
   ]
  },
  {
   "cell_type": "code",
   "execution_count": 111,
   "metadata": {},
   "outputs": [
    {
     "name": "stdout",
     "output_type": "stream",
     "text": [
      "brand name is=BMW\n",
      "window==4\n"
     ]
    }
   ],
   "source": [
    "class Car:\n",
    "    def __init__(self, brand):\n",
    "        self.brand = brand\n",
    "        self.w=4\n",
    "\n",
    "    def display(self):\n",
    "        print(f\"this is {self.brand}\")\n",
    "\n",
    "\n",
    "b=Car(\"BMW\")\n",
    "print(f\"brand name is={b.brand}\")\n",
    "print(f\"window=={b.w}\")\n",
    "# b.display()"
   ]
  },
  {
   "cell_type": "code",
   "execution_count": 14,
   "metadata": {},
   "outputs": [
    {
     "name": "stdout",
     "output_type": "stream",
     "text": [
      "obj is created\n",
      "object name is = Alamin\n"
     ]
    }
   ],
   "source": [
    "class E:\n",
    "    #parameterized constructor\n",
    "    def __init__(self, name):\n",
    "        self.name=name\n",
    "        # self.roll=roll\n",
    "        print(\"obj is created\")\n",
    "\n",
    "    def details(self):\n",
    "        print(f\"object name is = {self.name}\")\n",
    "\n",
    "e1=E(\"Alamin\") \n",
    "\n",
    "\n",
    "# details() \n",
    "e1.details()"
   ]
  },
  {
   "cell_type": "code",
   "execution_count": 23,
   "metadata": {},
   "outputs": [
    {
     "name": "stdout",
     "output_type": "stream",
     "text": [
      "Student name is alamin and roll is 1803078 and yes he is human\n",
      "Student name is tasnia and roll is 1803054 and yes he is human\n"
     ]
    }
   ],
   "source": [
    "class Student:\n",
    "    def __init__(self,N,R):\n",
    "        self.nam=N\n",
    "        self.roll=R\n",
    "        self.human=\"yes he is human\"\n",
    "    \n",
    "    def display(self):\n",
    "        print(f\"Student name is {self.nam} and roll is {self.roll} and {self.human}\")\n",
    "\n",
    "    def add(self, a, b):\n",
    "        print(f\"Sum is {a+b}\")\n",
    "\n",
    "\n",
    "#-------------------------------------------\n",
    "a1=Student(\"alamin\",1803078)\n",
    "a1.display()\n",
    "\n",
    "\n",
    "\n",
    "b1=Student(\"tasnia\",1803054)\n",
    "b1.display()"
   ]
  },
  {
   "cell_type": "markdown",
   "metadata": {},
   "source": [
    "# Topic-1: Encapsulation\n"
   ]
  },
  {
   "cell_type": "code",
   "execution_count": 115,
   "metadata": {},
   "outputs": [
    {
     "name": "stdout",
     "output_type": "stream",
     "text": [
      "alamin\n",
      "1803078\n",
      "Student name is alamin and roll is 1803078 and yes he is human\n",
      "Student name is shoukhin and roll is -112 and yes he is human\n"
     ]
    }
   ],
   "source": [
    "class Student:\n",
    "    def __init__(self,N,R):\n",
    "        self.nam=N\n",
    "        self.roll=R\n",
    "        self.human=\"yes he is human\"\n",
    "    \n",
    "    def display(self):\n",
    "        print(f\"Student name is {self.nam} and roll is {self.roll} and {self.human}\")\n",
    "\n",
    "#-------------------------------------------\n",
    "a1=Student(\"alamin\",1803078)\n",
    "print(a1.nam)\n",
    "print(a1.roll)\n",
    "\n",
    "a1.display()\n",
    " \n",
    "a1.roll=-112 # roll vul kore / accidentally negative kore felse . Roll kokhono negative hote pare na\n",
    "a1.nam=\"shoukhin\"\n",
    "a1.display()  \n"
   ]
  },
  {
   "cell_type": "markdown",
   "metadata": {},
   "source": [
    "### Negative Roll kora atkano : with Encapsulation (private variable kore)"
   ]
  },
  {
   "cell_type": "code",
   "execution_count": null,
   "metadata": {},
   "outputs": [
    {
     "ename": "AttributeError",
     "evalue": "'Student' object has no attribute 'nam'",
     "output_type": "error",
     "traceback": [
      "\u001b[0;31m---------------------------------------------------------------------------\u001b[0m",
      "\u001b[0;31mAttributeError\u001b[0m                            Traceback (most recent call last)",
      "Cell \u001b[0;32mIn[117], line 12\u001b[0m\n\u001b[1;32m     10\u001b[0m \u001b[38;5;66;03m#-------------------------------------------\u001b[39;00m\n\u001b[1;32m     11\u001b[0m a1\u001b[38;5;241m=\u001b[39mStudent(\u001b[38;5;124m\"\u001b[39m\u001b[38;5;124malamin\u001b[39m\u001b[38;5;124m\"\u001b[39m,\u001b[38;5;241m1803078\u001b[39m)\n\u001b[0;32m---> 12\u001b[0m \u001b[38;5;28mprint\u001b[39m(\u001b[43ma1\u001b[49m\u001b[38;5;241;43m.\u001b[39;49m\u001b[43mnam\u001b[49m)\n\u001b[1;32m     13\u001b[0m \u001b[38;5;28mprint\u001b[39m(a1\u001b[38;5;241m.\u001b[39mroll)\n\u001b[1;32m     15\u001b[0m a1\u001b[38;5;241m.\u001b[39mdisplay()\n",
      "\u001b[0;31mAttributeError\u001b[0m: 'Student' object has no attribute 'nam'"
     ]
    }
   ],
   "source": [
    "class Student:\n",
    "    def __init__(self,N,R):\n",
    "        self.__nam=N    # private variable class er baire theke access kora jay na eitake\n",
    "        self.__roll=R   # private variable \n",
    "        self.human=\"yes he is human\"\n",
    "    \n",
    "    def display(self):\n",
    "        print(f\"Student name is {self.nam} and roll is {self.roll} and {self.human}\")\n",
    "\n",
    "#-------------------------------------------\n",
    "a1=Student(\"alamin\",1803078)\n",
    "print(a1.nam) # private variable ke class er baire access kora jabe na\n",
    "print(a1.roll)\n",
    "\n",
    "a1.display()\n",
    " \n",
    "a1.__roll=-112 # accidentally change \n",
    "a1.__nam=\"shoukhin\"\n",
    "a1.display() \n",
    "\n",
    "# Error: Student' object has no attribute 'nam' that means nam varaible ke only class er moddhe access kora jabe clas er baire access kora possible na\n",
    "# setter getter method diye class er vitore method diye access/change kora jabe"
   ]
  },
  {
   "cell_type": "markdown",
   "metadata": {},
   "source": [
    "### Setter getter method diye private variable access kora inside class"
   ]
  },
  {
   "cell_type": "code",
   "execution_count": 123,
   "metadata": {},
   "outputs": [
    {
     "name": "stdout",
     "output_type": "stream",
     "text": [
      "Student name is alamin and roll is 1803078 and yes he is human\n",
      "Student name is pettol and roll is 1803054 and yes he is human\n"
     ]
    }
   ],
   "source": [
    "class Student:\n",
    "    def __init__(self,N,R):\n",
    "        self.__nam=N    # private variable class er baire theke access kora jay na eitake\n",
    "        self.__roll=R   # private variable \n",
    "        self.human=\"yes he is human\"\n",
    "    \n",
    "    def setter_update(self,changeable_name,changeable_roll):\n",
    "        self.__nam=changeable_name\n",
    "        if self.__roll<0:\n",
    "            print(\"Roll cannot be negative . Give Roll again\")\n",
    "        else:\n",
    "            self.__roll=changeable_roll\n",
    "    \n",
    "\n",
    "        \n",
    "    \n",
    "    def display(self):\n",
    "        print(f\"Student name is {self.__nam} and roll is {self.__roll} and {self.human}\")\n",
    "\n",
    "#-------------------------------------------\n",
    "a1=Student(\"alamin\",1803078)\n",
    "# print(a1.__nam)\n",
    "# print(a1.__roll)\n",
    "\n",
    "a1.display()\n",
    " \n",
    "# a1.__roll=-112 # accidentally change \n",
    "# a1.__nam=\"shoukhin\"\n",
    "\n",
    "a1.setter_update(\"pettol\",1803054)\n",
    "\n",
    "a1.display() "
   ]
  },
  {
   "cell_type": "markdown",
   "metadata": {},
   "source": [
    "# Topic-2: Pass by value Pass by Reference"
   ]
  },
  {
   "cell_type": "code",
   "execution_count": null,
   "metadata": {},
   "outputs": [
    {
     "name": "stdout",
     "output_type": "stream",
     "text": [
      "tasnia has 3.34 CGPA\n",
      "tasnia and alamin are married couple\n"
     ]
    }
   ],
   "source": [
    "class Student:\n",
    "    def __init__(self,N,D):\n",
    "        self.nam=N\n",
    "        self.TK=D\n",
    "        self.human=\"yes he is human\"\n",
    "    \n",
    "    def display(self):\n",
    "        print(f\"Student name is {self.nam} and He has  {self.TK}  tk and {self.human}\")\n",
    "\n",
    "    def compare(self,a):\n",
    "        if self.TK == a.TK:\n",
    "            print(f\"{self.nam} and {a.nam} are married couple\")\n",
    "    \n",
    "    def see_cgpa(self,cgpa):\n",
    "        print(f\"{self.nam} has {cgpa} CGPA\")\n",
    "    \n",
    "\n",
    "\n",
    "\n",
    "#-------------------------------------------\n",
    "a1=Student(\"alamin\",25478) # pass by value\n",
    "b1=Student(\"tasnia\",25478)\n",
    "\n",
    "\n",
    "\n",
    "b1.see_cgpa(3.34)  # pass by value\n",
    "b1.compare(a1)  # pass by reference\n",
    "\n",
    "\n"
   ]
  },
  {
   "cell_type": "code",
   "execution_count": null,
   "metadata": {},
   "outputs": [
    {
     "name": "stdout",
     "output_type": "stream",
     "text": [
      "Before  going method=== ['red', 'blue', 'green']\n",
      "Inside method temp_list after insertion === ['pink', 'blue', 'green']\n",
      "After going method=== ['pink', 'blue', 'green']\n"
     ]
    }
   ],
   "source": [
    "def A(D):\n",
    "    temp_list=D\n",
    "    temp_list[0]=\"pink\"\n",
    "    print(f\"Inside method temp_list after insertion === {temp_list}\")\n",
    "\n",
    "\n",
    "\n",
    "dress=['red','blue','green'] \n",
    "print(f\"Before  going method=== {dress}\")\n",
    "A(dress)\n",
    "print(f\"After going method=== {dress}\")\n",
    "\n",
    "# This will modify the original list since lists are mutable in Python.\n",
    "# Before and after the method call, the list change houar kotha silo na but change hoye gelo"
   ]
  },
  {
   "cell_type": "code",
   "execution_count": 90,
   "metadata": {},
   "outputs": [
    {
     "name": "stdout",
     "output_type": "stream",
     "text": [
      "Before  going method=== ['red', 'blue', 'green']\n",
      "Dress in method=== ['red', 'blue', 'green']\n",
      "temp_list in method==== ['pink', 'blue', 'green']\n",
      "After going method=== ['pink', 'blue', 'green']\n"
     ]
    }
   ],
   "source": [
    "class Student:\n",
    "    def __init__(self,N,Den):\n",
    "        self.nam=N\n",
    "        self.TK=Den\n",
    "        self.human=\"yes he is human\"\n",
    "    \n",
    "    def display(self):\n",
    "        print(f\"Student name is {self.nam} and roll is {self.roll} and {self.human}\")\n",
    "\n",
    "    def compare(self,a):\n",
    "        if self.TK == a.TK:\n",
    "            print(f\"{self.nam} and {a.nam} are married couple\")\n",
    "    \n",
    "    def see_cgpa(self,cgpa):\n",
    "        print(f\"{self.nam} has {cgpa} CGPA\")\n",
    "\n",
    "    def wears(self,D):\n",
    "        print(f\"Dress in method=== {D}\")\n",
    "        self.temp_list=D\n",
    "        self.temp_list[0]=\"pink\"\n",
    "        print(f\"temp_list in method==== {self.temp_list}\")\n",
    "\n",
    "\n",
    "\n",
    "        \n",
    "\n",
    "    \n",
    "\n",
    "\n",
    "\n",
    "#-------------------------------------------\n",
    "a1=Student(\"alamin\",25478) # pass by value int , string , list\n",
    "b1=Student(\"tasnia\",25478)\n",
    "\n",
    "\n",
    "\n",
    "# b1.see_cgpa(3.34)  # pass by value\n",
    "# b1.compare(a1)  # pass by reference\n",
    "\n",
    "\n",
    "dress=['red','blue','green'] \n",
    "\n",
    "print(f\"Before  going method=== {dress}\")\n",
    "b1.wears(dress)  # pass by value (list)\n",
    "print(f\"After going method=== {dress}\")\n",
    "\n",
    "\n",
    "\n"
   ]
  },
  {
   "cell_type": "markdown",
   "metadata": {},
   "source": [
    "# Topic-3: Method and Constructor and Operator overloading "
   ]
  },
  {
   "cell_type": "code",
   "execution_count": 64,
   "metadata": {},
   "outputs": [
    {
     "name": "stdout",
     "output_type": "stream",
     "text": [
      "Requirement already satisfied: multipledispatch in /Library/Frameworks/Python.framework/Versions/3.12/lib/python3.12/site-packages (1.0.0)\n",
      "\n",
      "\u001b[1m[\u001b[0m\u001b[34;49mnotice\u001b[0m\u001b[1;39;49m]\u001b[0m\u001b[39;49m A new release of pip is available: \u001b[0m\u001b[31;49m24.2\u001b[0m\u001b[39;49m -> \u001b[0m\u001b[32;49m25.2\u001b[0m\n",
      "\u001b[1m[\u001b[0m\u001b[34;49mnotice\u001b[0m\u001b[1;39;49m]\u001b[0m\u001b[39;49m To update, run: \u001b[0m\u001b[32;49mpip3.12 install --upgrade pip\u001b[0m\n",
      "Note: you may need to restart the kernel to use updated packages.\n"
     ]
    }
   ],
   "source": [
    "%pip install multipledispatch"
   ]
  },
  {
   "cell_type": "markdown",
   "metadata": {},
   "source": [
    "### method overloading with dispatch"
   ]
  },
  {
   "cell_type": "code",
   "execution_count": 66,
   "metadata": {},
   "outputs": [
    {
     "name": "stdout",
     "output_type": "stream",
     "text": [
      "Sum is 310\n"
     ]
    }
   ],
   "source": [
    "\n",
    "from multipledispatch import dispatch\n",
    "class A:\n",
    "\n",
    "    @dispatch(int,int)\n",
    "    def add(self,x,y):\n",
    "        print(f\"Sum is {x+y}\")\n",
    "    @dispatch(int,int,int)\n",
    "    def add(self,x,y,z):\n",
    "        print(f\"Sum is {x+y+z}\")\n",
    "    @dispatch( int,int,int,int)\n",
    "    def add(self,x,y,z,w):\n",
    "        print(f\"Sum is {x+y+z+w}\")\n",
    "#-------------------------------------------\n",
    "\n",
    "a1=A()\n",
    "a1.add(4,5,8,293)"
   ]
  },
  {
   "cell_type": "markdown",
   "metadata": {},
   "source": [
    "### method with logic and condition"
   ]
  },
  {
   "cell_type": "code",
   "execution_count": null,
   "metadata": {},
   "outputs": [],
   "source": [
    "class A:\n",
    "\n",
    "    \n",
    "    def add(self,*a):\n",
    "\n",
    "        if len(a)==1:\n",
    "            print(f\"Sum is {a[0]}\")\n",
    "        elif len(a)==2:\n",
    "            print(f\"Sum is {a[0]+a[1]}\")\n",
    "        elif len(a)==3: \n",
    "            print(f\"Sum is {a[0]+a[1]+a[2]}\")\n",
    "        \n",
    "\n",
    "#-------------------------------------------\n",
    "\n",
    "a1=A()\n",
    "a1.add(4,5,9)"
   ]
  },
  {
   "cell_type": "markdown",
   "metadata": {},
   "source": [
    "####  Arbitrary and Keyward argument"
   ]
  },
  {
   "cell_type": "code",
   "execution_count": null,
   "metadata": {},
   "outputs": [],
   "source": [
    "# --------------------Arbitrary argument------------------\n",
    "# def my_function(fname, lname):\n",
    "#   print(fname + \" \" + lname)\n",
    "\n",
    "# my_function(\"Emil\", \"Refsnes\")\n",
    "\n",
    "\n",
    "\n",
    "\n",
    "def my_function(*kids):\n",
    "  print(\"The youngest child is \" + kids[2])\n",
    "\n",
    "my_function(\"Emil\", \"Tobias\", \"Linus\")\n",
    "\n",
    "#---------------------------------------- Keyward argument--------------------\n",
    "\n",
    "# def my_function(child3, child2, child1):\n",
    "#   print(\"The youngest child is \" + child3)\n",
    "\n",
    "# my_function(child1 = \"Emil\", child2 = \"Tobias\", child3 = \"Linus\")\n",
    "\n",
    "\n",
    "\n",
    "def my_function(**kid):\n",
    "  print(\"His last name is \" + kid[\"lname\"])\n",
    "\n",
    "my_function(fname = \"Tobias\", lname = \"Refsnes\")"
   ]
  },
  {
   "cell_type": "code",
   "execution_count": 80,
   "metadata": {},
   "outputs": [
    {
     "ename": "KeyError",
     "evalue": "0",
     "output_type": "error",
     "traceback": [
      "\u001b[0;31m---------------------------------------------------------------------------\u001b[0m",
      "\u001b[0;31mKeyError\u001b[0m                                  Traceback (most recent call last)",
      "Cell \u001b[0;32mIn[80], line 18\u001b[0m\n\u001b[1;32m     15\u001b[0m \u001b[38;5;66;03m#-------------------------------------------\u001b[39;00m\n\u001b[1;32m     17\u001b[0m a1\u001b[38;5;241m=\u001b[39mA()\n\u001b[0;32m---> 18\u001b[0m \u001b[43ma1\u001b[49m\u001b[38;5;241;43m.\u001b[39;49m\u001b[43madd\u001b[49m\u001b[43m(\u001b[49m\u001b[38;5;28;43mid\u001b[39;49m\u001b[38;5;241;43m=\u001b[39;49m\u001b[38;5;241;43m1803078\u001b[39;49m\u001b[43m,\u001b[49m\u001b[43mname\u001b[49m\u001b[38;5;241;43m=\u001b[39;49m\u001b[38;5;124;43m\"\u001b[39;49m\u001b[38;5;124;43malamin\u001b[39;49m\u001b[38;5;124;43m\"\u001b[39;49m\u001b[43m)\u001b[49m\n",
      "Cell \u001b[0;32mIn[80], line 9\u001b[0m, in \u001b[0;36mA.add\u001b[0;34m(self, **a)\u001b[0m\n\u001b[1;32m      7\u001b[0m     \u001b[38;5;28mprint\u001b[39m(\u001b[38;5;124mf\u001b[39m\u001b[38;5;124m\"\u001b[39m\u001b[38;5;124mSum is \u001b[39m\u001b[38;5;132;01m{\u001b[39;00ma[\u001b[38;5;241m0\u001b[39m]\u001b[38;5;132;01m}\u001b[39;00m\u001b[38;5;124m\"\u001b[39m)\n\u001b[1;32m      8\u001b[0m \u001b[38;5;28;01melif\u001b[39;00m \u001b[38;5;28mlen\u001b[39m(a)\u001b[38;5;241m==\u001b[39m\u001b[38;5;241m2\u001b[39m:\n\u001b[0;32m----> 9\u001b[0m     \u001b[38;5;28mprint\u001b[39m(\u001b[38;5;124mf\u001b[39m\u001b[38;5;124m\"\u001b[39m\u001b[38;5;124mid=\u001b[39m\u001b[38;5;132;01m{\u001b[39;00m\u001b[43ma\u001b[49m\u001b[43m[\u001b[49m\u001b[38;5;241;43m0\u001b[39;49m\u001b[43m]\u001b[49m\u001b[38;5;132;01m}\u001b[39;00m\u001b[38;5;124m\"\u001b[39m)\n\u001b[1;32m     10\u001b[0m     \u001b[38;5;28mprint\u001b[39m(\u001b[38;5;124mf\u001b[39m\u001b[38;5;124m\"\u001b[39m\u001b[38;5;124mname=\u001b[39m\u001b[38;5;132;01m{\u001b[39;00ma[\u001b[38;5;241m1\u001b[39m]\u001b[38;5;132;01m}\u001b[39;00m\u001b[38;5;124m\"\u001b[39m)\n\u001b[1;32m     11\u001b[0m \u001b[38;5;28;01melif\u001b[39;00m \u001b[38;5;28mlen\u001b[39m(a)\u001b[38;5;241m==\u001b[39m\u001b[38;5;241m3\u001b[39m: \n",
      "\u001b[0;31mKeyError\u001b[0m: 0"
     ]
    }
   ],
   "source": [
    "class A:\n",
    "\n",
    "    \n",
    "    def add(self,**a):\n",
    "\n",
    "        if len(a)==1:\n",
    "            print(f\"Sum is {a[0]}\")\n",
    "        elif len(a)==2:\n",
    "            print(f\"id={a[0]}\")\n",
    "            print(f\"name={a[1]}\")\n",
    "        elif len(a)==3: \n",
    "            print(f\"Sum is {a[0]+a[1]+a[2]}\")\n",
    "        \n",
    "\n",
    "#-------------------------------------------\n",
    "\n",
    "a1=A()\n",
    "a1.add(id=1803078,name=\"alamin\")"
   ]
  },
  {
   "cell_type": "markdown",
   "metadata": {},
   "source": [
    "### constructor overloading with logic"
   ]
  },
  {
   "cell_type": "code",
   "execution_count": 74,
   "metadata": {},
   "outputs": [
    {
     "name": "stdout",
     "output_type": "stream",
     "text": [
      "('alamin', 1803078, 3.78)\n",
      "Constructor is called with value alamin, 1803078 and 3.78\n"
     ]
    }
   ],
   "source": [
    "class A:\n",
    "\n",
    "    # def __init__(self):\n",
    "\n",
    "    #     print(\"Constructor is called\")\n",
    "    \n",
    "    # def __init__(self, x):\n",
    "    #     self.x=x\n",
    "    #     print(f\"Constructor is called with value {x}\")\n",
    "    \n",
    "    # def __init__(self, x, y):\n",
    "    #     self.x=x\n",
    "    #     self.y=y\n",
    "    #     print(f\"Constructor is called with value {x} and {y}\")\n",
    "\n",
    "\n",
    "\n",
    "    def __init__(self, *args):\n",
    "        if len(args)==1:\n",
    "            self.x = args[0]\n",
    "            print(f\"Constructor is called with value {self.x}\")\n",
    "        elif len(args)==2:\n",
    "            self.x = args[0]\n",
    "            self.y = args[1]\n",
    "            print(f\"Constructor is called with value {self.x} and {self.y}\")\n",
    "        elif len(args)==3:\n",
    "            print(args)\n",
    "            self.x = args[0]\n",
    "            self.y = args[1]\n",
    "            self.z = args[2]\n",
    "            print(f\"Constructor is called with value {self.x}, {self.y} and {self.z}\")\n",
    "        else:\n",
    "            print(\"Constructor is called with no arguments\")\n",
    "\n",
    "\n",
    "    \n",
    "\n",
    "    \n",
    "    # def add(self,*a):\n",
    "\n",
    "    #     if len(a)==1:\n",
    "    #         print(f\"Sum is {a[0]}\")\n",
    "    #     elif len(a)==2:\n",
    "    #         print(f\"Sum is {a[0]+a[1]}\")\n",
    "    #     elif len(a)==3: \n",
    "    #         print(f\"Sum is {a[0]+a[1]+a[2]}\")\n",
    "        \n",
    "\n",
    "#-------------------------------------------\n",
    "\n",
    "a1=A(\"alamin\",1803078,3.78)\n",
    "\n",
    "# a1.add(4,5,9)"
   ]
  },
  {
   "cell_type": "markdown",
   "metadata": {},
   "source": [
    "### Operator overloading"
   ]
  },
  {
   "cell_type": "code",
   "execution_count": null,
   "metadata": {},
   "outputs": [
    {
     "name": "stdout",
     "output_type": "stream",
     "text": [
      "<class 'int'>\n",
      "<class 'int'>\n",
      "<class 'int'>\n",
      "15\n"
     ]
    }
   ],
   "source": [
    "x=5 # eita integer class er ekti object\n",
    "print(type(x))\n",
    "y=10\n",
    "print(type(y))\n",
    "z=x+y\n",
    "print(type(z))\n",
    "print(z)"
   ]
  },
  {
   "cell_type": "code",
   "execution_count": null,
   "metadata": {},
   "outputs": [
    {
     "name": "stdout",
     "output_type": "stream",
     "text": [
      "25\n"
     ]
    },
    {
     "ename": "TypeError",
     "evalue": "unsupported operand type(s) for *: 'data' and 'data'",
     "output_type": "error",
     "traceback": [
      "\u001b[0;31m---------------------------------------------------------------------------\u001b[0m",
      "\u001b[0;31mTypeError\u001b[0m                                 Traceback (most recent call last)",
      "Cell \u001b[0;32mIn[96], line 5\u001b[0m\n\u001b[1;32m      2\u001b[0m y\u001b[38;5;241m=\u001b[39mdata(\u001b[38;5;241m5\u001b[39m) \u001b[38;5;66;03m# eita data class er ekti object not integer class \u001b[39;00m\n\u001b[1;32m      4\u001b[0m \u001b[38;5;28mprint\u001b[39m(x\u001b[38;5;241m*\u001b[39mx)\n\u001b[0;32m----> 5\u001b[0m \u001b[38;5;28mprint\u001b[39m(\u001b[43my\u001b[49m\u001b[38;5;241;43m*\u001b[39;49m\u001b[43my\u001b[49m)\n",
      "\u001b[0;31mTypeError\u001b[0m: unsupported operand type(s) for *: 'data' and 'data'"
     ]
    }
   ],
   "source": [
    "x=5 # eita integer class er ekti object ja python companyr banano class \n",
    "y=data(5) # eita data class er ekti object not integer class  data class amr banano\n",
    "\n",
    "print(x+x) # duiti integer add korar jonno python company __add__  builtin method internally build kore rakhse\n",
    "print(y+y) # __add__ ei method internally build  korte hobe\n"
   ]
  },
  {
   "cell_type": "markdown",
   "metadata": {},
   "source": [
    "### '+' operator diye duiti object ke jog korlam (overloading)"
   ]
  },
  {
   "cell_type": "code",
   "execution_count": 105,
   "metadata": {},
   "outputs": [
    {
     "name": "stdout",
     "output_type": "stream",
     "text": [
      "15\n"
     ]
    }
   ],
   "source": [
    "class data:\n",
    "    def __init__(self,x):\n",
    "        self.x = x\n",
    "\n",
    "    def __add__(self, other):\n",
    "        return self.x + other.x\n",
    "        \n",
    "x=data(5) # eita data class er ekti object not integer class\n",
    "y=data(10) # eita data class er ekti object not integer class\n",
    "\n",
    "# x.__add__(y) \n",
    "print(x+y)   # x.add(y)\n",
    "\n",
    "\n",
    "# duiti object jog korte cassi + operator diye ---------> #TypeError: unsupported operand type(s) for +: 'data' and 'data'\n"
   ]
  },
  {
   "cell_type": "markdown",
   "metadata": {},
   "source": [
    "# Topic-4: Encapsulation"
   ]
  },
  {
   "cell_type": "code",
   "execution_count": null,
   "metadata": {},
   "outputs": [],
   "source": []
  }
 ],
 "metadata": {
  "kernelspec": {
   "display_name": "Python 3",
   "language": "python",
   "name": "python3"
  },
  "language_info": {
   "codemirror_mode": {
    "name": "ipython",
    "version": 3
   },
   "file_extension": ".py",
   "mimetype": "text/x-python",
   "name": "python",
   "nbconvert_exporter": "python",
   "pygments_lexer": "ipython3",
   "version": "3.12.6"
  }
 },
 "nbformat": 4,
 "nbformat_minor": 2
}
