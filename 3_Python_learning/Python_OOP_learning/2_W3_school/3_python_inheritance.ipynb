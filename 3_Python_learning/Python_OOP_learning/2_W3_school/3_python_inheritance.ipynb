{
 "cells": [
  {
   "cell_type": "markdown",
   "id": "50103d3a",
   "metadata": {},
   "source": [
    "# Python Inheritance\n",
    "Inheritance allows us to define a class that inherits all the methods and properties from another class.\n",
    "\n",
    "Parent class is the class being inherited from, also called base class.\n",
    "\n",
    "Child class is the class that inherits from another class, also called derived class."
   ]
  },
  {
   "cell_type": "code",
   "execution_count": 2,
   "id": "8ee098f3",
   "metadata": {},
   "outputs": [
    {
     "name": "stdout",
     "output_type": "stream",
     "text": [
      "alamin tokder\n",
      "abutaher mustakim\n"
     ]
    }
   ],
   "source": [
    "class Person:\n",
    "  def __init__(self, fname, lname):\n",
    "    self.firstname = fname\n",
    "    self.lastname = lname\n",
    "\n",
    "  def printname(self):\n",
    "    print(self.firstname, self.lastname)\n",
    "\n",
    "\n",
    "class Student(Person):\n",
    "  pass\n",
    "\n",
    "#Use the Person class to create an object, and then execute the printname method:\n",
    "# ----------------------------------------------------------\n",
    "x1 = Person(\"alamin\", \"tokder\")\n",
    "x1.printname()\n",
    "\n",
    "x2 = Student(\"abutaher\", \"mustakim\")\n",
    "x2.printname()"
   ]
  },
  {
   "cell_type": "markdown",
   "id": "8f4bcab0",
   "metadata": {},
   "source": [
    "### Note: Use the pass keyword when you do not want to add any other properties or methods to the class."
   ]
  },
  {
   "cell_type": "markdown",
   "id": "85d893c6",
   "metadata": {},
   "source": [
    "# Add the __init__() Function\n",
    "So far we have created a child class that inherits the properties and methods from its parent.\n",
    "\n",
    "We want to add the __init__() function to the child class (instead of the pass keyword).\n",
    "\n",
    "Note: The __init__() function is called automatically every time the class is being used to create a new object."
   ]
  },
  {
   "cell_type": "markdown",
   "id": "e687e5d1",
   "metadata": {},
   "source": [
    "# Example\n",
    "Add the __init__() function to the Student class:\n",
    "\n"
   ]
  },
  {
   "cell_type": "code",
   "execution_count": null,
   "id": "ce0707d0",
   "metadata": {},
   "outputs": [],
   "source": [
    "class Student(Person):\n",
    "  def __init__(self, fname, lname):\n",
    "    #add properties etc."
   ]
  },
  {
   "cell_type": "markdown",
   "id": "e50a6afb",
   "metadata": {},
   "source": [
    "## When you add the __init__() function, the child class will no longer inherit the parent's __init__() function.\n",
    "\n",
    "## Note: The child's __init__() function overrides the inheritance of the parent's __init__() function."
   ]
  },
  {
   "cell_type": "markdown",
   "id": "eaf139d3",
   "metadata": {},
   "source": [
    "To keep the inheritance of the parent's __init__() function, add a call to the parent's __init__() function:"
   ]
  },
  {
   "cell_type": "code",
   "execution_count": null,
   "id": "2b8cbdbe",
   "metadata": {},
   "outputs": [],
   "source": [
    "class Student(Person):\n",
    "  def __init__(self, fname, lname):\n",
    "    Person.__init__(self, fname, lname)"
   ]
  },
  {
   "cell_type": "markdown",
   "id": "f066feed",
   "metadata": {},
   "source": [
    "Now we have successfully added the __init__() function, and kept the inheritance of the parent class, and we are ready to add functionality in the __init__() function."
   ]
  },
  {
   "cell_type": "markdown",
   "id": "71596dbb",
   "metadata": {},
   "source": [
    "# Use the super() Function\n",
    "Python also has a super() function that will make the child class inherit all the methods and properties from its parent:"
   ]
  },
  {
   "cell_type": "code",
   "execution_count": null,
   "id": "802fa117",
   "metadata": {},
   "outputs": [],
   "source": [
    "class Student(Person):\n",
    "  def __init__(self, fname, lname):\n",
    "    super().__init__(fname, lname)"
   ]
  },
  {
   "cell_type": "markdown",
   "id": "39477a47",
   "metadata": {},
   "source": [
    "By using the super() function, you do not have to use the name of the parent element, it will automatically inherit the methods and properties from its parent.\n",
    "\n"
   ]
  },
  {
   "cell_type": "markdown",
   "id": "1ef04fb6",
   "metadata": {},
   "source": [
    "# Add Properties\n",
    "Example\n",
    "Add a property called graduationyear to the Student class:\n",
    "\n"
   ]
  },
  {
   "cell_type": "code",
   "execution_count": null,
   "id": "34e430bd",
   "metadata": {},
   "outputs": [],
   "source": [
    "class Student(Person):\n",
    "  def __init__(self, fname, lname):\n",
    "    super().__init__(fname, lname)\n",
    "    self.graduationyear = 2019"
   ]
  },
  {
   "cell_type": "markdown",
   "id": "fe7ceb91",
   "metadata": {},
   "source": [
    "In the example below, the year 2019 should be a variable, and passed into the Student class when creating student objects. To do so, add another parameter in the __init__() function:"
   ]
  },
  {
   "cell_type": "markdown",
   "id": "fea74030",
   "metadata": {},
   "source": [
    "### Example\n",
    "Add a year parameter, and pass the correct year when creating objects:"
   ]
  },
  {
   "cell_type": "code",
   "execution_count": null,
   "id": "5bce94c3",
   "metadata": {},
   "outputs": [],
   "source": [
    "\n",
    "\n",
    "class Student(Person):\n",
    "  def __init__(self, fname, lname, year):\n",
    "    super().__init__(fname, lname)\n",
    "    self.graduationyear = year\n",
    "\n",
    "x = Student(\"Mike\", \"Olsen\", 2019)"
   ]
  },
  {
   "cell_type": "markdown",
   "id": "76a74632",
   "metadata": {},
   "source": [
    "# Add Methods\n",
    "### Example\n",
    "Add a method called welcome to the Student class:\n"
   ]
  },
  {
   "cell_type": "code",
   "execution_count": null,
   "id": "68a39c9e",
   "metadata": {},
   "outputs": [],
   "source": [
    "\n",
    "class Student(Person):\n",
    "  def __init__(self, fname, lname, year):\n",
    "    super().__init__(fname, lname)\n",
    "    self.graduationyear = year\n",
    "\n",
    "  def welcome(self):\n",
    "    print(\"Welcome\", self.firstname, self.lastname, \"to the class of\", self.graduationyear)"
   ]
  },
  {
   "cell_type": "markdown",
   "id": "a31df371",
   "metadata": {},
   "source": [
    "# -------------------- All Example Practice -----------------------"
   ]
  },
  {
   "cell_type": "code",
   "execution_count": 3,
   "id": "b16886f9",
   "metadata": {},
   "outputs": [
    {
     "name": "stdout",
     "output_type": "stream",
     "text": [
      "alamin tokder\n",
      "abutaher mustakim\n"
     ]
    }
   ],
   "source": [
    "class Person:\n",
    "  def __init__(self, fname, lname):\n",
    "    self.firstname = fname\n",
    "    self.lastname = lname\n",
    "\n",
    "  def printname(self):\n",
    "    print(self.firstname, self.lastname)\n",
    "\n",
    "\n",
    "class Student(Person):\n",
    "  pass\n",
    "\n",
    "#Use the Person class to create an object, and then execute the printname method:\n",
    "# ----------------------------------------------------------\n",
    "x1 = Person(\"alamin\", \"tokder\")\n",
    "x1.printname()\n",
    "\n",
    "x2 = Student(\"abutaher\", \"mustakim\")\n",
    "x2.printname()"
   ]
  },
  {
   "cell_type": "code",
   "execution_count": 8,
   "id": "4d3c919f",
   "metadata": {},
   "outputs": [
    {
     "name": "stdout",
     "output_type": "stream",
     "text": [
      "<__main__.A object at 0x10c9f6ac0>\n",
      "alamin tokder\n",
      "<__main__.B object at 0x10c9f68e0>\n",
      "abutaher mustakim\n"
     ]
    }
   ],
   "source": [
    "class A:\n",
    "    def __init__(self,fname,lname):\n",
    "        self.fname=fname\n",
    "        self.lname=lname\n",
    "    def display(self):\n",
    "        print(f\"{self.fname} {self.lname}\")\n",
    "    \n",
    "\n",
    "class B (A):\n",
    "    pass\n",
    "\n",
    "# -------------------------------\n",
    "\n",
    "\n",
    "\n",
    "a=A(\"alamin\",\"tokder\")\n",
    "print(a)\n",
    "a.display()\n",
    "\n",
    "\n",
    "b=B(\"abutaher\",\"mustakim\")\n",
    "print(b)\n",
    "b.display()\n"
   ]
  },
  {
   "cell_type": "code",
   "execution_count": 19,
   "id": "ac84b550",
   "metadata": {},
   "outputs": [
    {
     "name": "stdout",
     "output_type": "stream",
     "text": [
      "<__main__.D object at 0x10c9785b0>\n"
     ]
    },
    {
     "ename": "AttributeError",
     "evalue": "'D' object has no attribute 'fname'",
     "output_type": "error",
     "traceback": [
      "\u001b[0;31m---------------------------------------------------------------------------\u001b[0m",
      "\u001b[0;31mAttributeError\u001b[0m                            Traceback (most recent call last)",
      "Cell \u001b[0;32mIn[19], line 32\u001b[0m\n\u001b[1;32m     30\u001b[0m d\u001b[38;5;241m=\u001b[39mD(\u001b[38;5;124m\"\u001b[39m\u001b[38;5;124mabutaher\u001b[39m\u001b[38;5;124m\"\u001b[39m,\u001b[38;5;124m\"\u001b[39m\u001b[38;5;124mmustakim\u001b[39m\u001b[38;5;124m\"\u001b[39m)\n\u001b[1;32m     31\u001b[0m \u001b[38;5;28mprint\u001b[39m(d)\n\u001b[0;32m---> 32\u001b[0m \u001b[43md\u001b[49m\u001b[38;5;241;43m.\u001b[39;49m\u001b[43mdisplay\u001b[49m\u001b[43m(\u001b[49m\u001b[43m)\u001b[49m\n\u001b[1;32m     33\u001b[0m d\u001b[38;5;241m.\u001b[39mdisplay1()\n",
      "Cell \u001b[0;32mIn[19], line 6\u001b[0m, in \u001b[0;36mC.display\u001b[0;34m(self)\u001b[0m\n\u001b[1;32m      5\u001b[0m \u001b[38;5;28;01mdef\u001b[39;00m\u001b[38;5;250m \u001b[39m\u001b[38;5;21mdisplay\u001b[39m(\u001b[38;5;28mself\u001b[39m):\n\u001b[0;32m----> 6\u001b[0m     \u001b[38;5;28mprint\u001b[39m(\u001b[38;5;124mf\u001b[39m\u001b[38;5;124m\"\u001b[39m\u001b[38;5;132;01m{\u001b[39;00m\u001b[38;5;28mself\u001b[39m\u001b[38;5;241m.\u001b[39mfname\u001b[38;5;132;01m}\u001b[39;00m\u001b[38;5;124m \u001b[39m\u001b[38;5;132;01m{\u001b[39;00m\u001b[38;5;28mself\u001b[39m\u001b[38;5;241m.\u001b[39mlname\u001b[38;5;132;01m}\u001b[39;00m\u001b[38;5;124m\"\u001b[39m)\n",
      "\u001b[0;31mAttributeError\u001b[0m: 'D' object has no attribute 'fname'"
     ]
    }
   ],
   "source": [
    "class C:\n",
    "    def __init__(self,fname,lname):\n",
    "        self.fname=fname\n",
    "        self.lname=lname\n",
    "    def display(self):\n",
    "        print(f\"{self.fname} {self.lname}\")\n",
    "    \n",
    "\n",
    "class D (C):\n",
    "    # pass\n",
    "    def __init__(self,fname1,lname1):\n",
    "        self.fname1=fname1\n",
    "        self.lname1=lname1\n",
    "        # A.__init__(self,fname,lname)\n",
    "        # super().__init__(self,fname,lname)\n",
    "    \n",
    "    def display1(self):\n",
    "        print(f\"{self.fname1} {self.lname1}\")\n",
    "\n",
    "\n",
    "# -------------------------------\n",
    "\n",
    "\n",
    "\n",
    "# c=C(\"alamin\",\"tokder\")\n",
    "# print(c)\n",
    "# c.display()\n",
    "\n",
    "\n",
    "d=D(\"abutaher\",\"mustakim\")\n",
    "print(d)\n",
    "d.display()\n",
    "d.display1()\n"
   ]
  },
  {
   "cell_type": "code",
   "execution_count": null,
   "id": "b7aecf3d",
   "metadata": {},
   "outputs": [],
   "source": []
  },
  {
   "cell_type": "code",
   "execution_count": null,
   "id": "58514c6c",
   "metadata": {},
   "outputs": [],
   "source": []
  }
 ],
 "metadata": {
  "kernelspec": {
   "display_name": "Python 3",
   "language": "python",
   "name": "python3"
  },
  "language_info": {
   "codemirror_mode": {
    "name": "ipython",
    "version": 3
   },
   "file_extension": ".py",
   "mimetype": "text/x-python",
   "name": "python",
   "nbconvert_exporter": "python",
   "pygments_lexer": "ipython3",
   "version": "3.9.6"
  }
 },
 "nbformat": 4,
 "nbformat_minor": 5
}
