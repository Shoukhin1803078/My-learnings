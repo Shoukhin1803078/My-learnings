{
 "cells": [
  {
   "cell_type": "markdown",
   "id": "212ca20d",
   "metadata": {},
   "source": [
    "Python is an object-oriented language, allowing you to structure your code using classes and objects for better organization and reusability.\n",
    "# Advantages of OOP\n",
    "- > Provides a clear structure to programs\n",
    "- > Makes code easier to maintain, reuse, and debug\n",
    "- > Helps keep your code DRY (Don't Repeat Yourself)\n",
    "- > Allows you to build reusable applications with less code\n",
    "\n",
    "\n",
    "# What are Classes and Objects?\n",
    "A class defines what an object should look like, and an object is created based on that class.\n",
    "\n",
    "# Class\tObjects\n",
    "- > class: Fruit\t    Obj: Apple, Banana, Mango\n",
    "- > Class: Car\t        Obj: Volvo, Audi, Toyota"
   ]
  },
  {
   "cell_type": "code",
   "execution_count": null,
   "id": "3a3c3402",
   "metadata": {},
   "outputs": [],
   "source": []
  }
 ],
 "metadata": {
  "language_info": {
   "name": "python"
  }
 },
 "nbformat": 4,
 "nbformat_minor": 5
}
