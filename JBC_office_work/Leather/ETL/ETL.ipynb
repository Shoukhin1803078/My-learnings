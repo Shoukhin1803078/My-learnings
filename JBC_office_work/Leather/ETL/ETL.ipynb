{
 "cells": [
  {
   "cell_type": "code",
   "execution_count": 1,
   "metadata": {},
   "outputs": [
    {
     "name": "stdout",
     "output_type": "stream",
     "text": [
      "Defaulting to user installation because normal site-packages is not writeable\n",
      "Requirement already satisfied: pandas in /Users/mdalamintokder/Library/Python/3.9/lib/python/site-packages (2.2.3)\n",
      "Requirement already satisfied: pymysql in /Users/mdalamintokder/Library/Python/3.9/lib/python/site-packages (1.1.1)\n",
      "Requirement already satisfied: openpyxl in /Users/mdalamintokder/Library/Python/3.9/lib/python/site-packages (3.1.5)\n",
      "Requirement already satisfied: numpy>=1.22.4 in /Users/mdalamintokder/Library/Python/3.9/lib/python/site-packages (from pandas) (2.0.2)\n",
      "Requirement already satisfied: pytz>=2020.1 in /Users/mdalamintokder/Library/Python/3.9/lib/python/site-packages (from pandas) (2025.2)\n",
      "Requirement already satisfied: python-dateutil>=2.8.2 in /Users/mdalamintokder/Library/Python/3.9/lib/python/site-packages (from pandas) (2.9.0.post0)\n",
      "Requirement already satisfied: tzdata>=2022.7 in /Users/mdalamintokder/Library/Python/3.9/lib/python/site-packages (from pandas) (2025.2)\n",
      "Requirement already satisfied: et-xmlfile in /Users/mdalamintokder/Library/Python/3.9/lib/python/site-packages (from openpyxl) (2.0.0)\n",
      "Requirement already satisfied: six>=1.5 in /Users/mdalamintokder/Library/Python/3.9/lib/python/site-packages (from python-dateutil>=2.8.2->pandas) (1.17.0)\n",
      "\u001b[33mWARNING: You are using pip version 21.2.4; however, version 25.1.1 is available.\n",
      "You should consider upgrading via the '/Library/Developer/CommandLineTools/usr/bin/python3 -m pip install --upgrade pip' command.\u001b[0m\n",
      "Note: you may need to restart the kernel to use updated packages.\n",
      "Defaulting to user installation because normal site-packages is not writeable\n",
      "Requirement already satisfied: tabulate in /Users/mdalamintokder/Library/Python/3.9/lib/python/site-packages (0.9.0)\n",
      "\u001b[33mWARNING: You are using pip version 21.2.4; however, version 25.1.1 is available.\n",
      "You should consider upgrading via the '/Library/Developer/CommandLineTools/usr/bin/python3 -m pip install --upgrade pip' command.\u001b[0m\n",
      "Note: you may need to restart the kernel to use updated packages.\n"
     ]
    }
   ],
   "source": [
    "%pip install pandas pymysql openpyxl\n",
    "%pip install tabulate\n"
   ]
  },
  {
   "cell_type": "markdown",
   "metadata": {},
   "source": [
    "# Additional Translation sheet"
   ]
  },
  {
   "cell_type": "code",
   "execution_count": 10,
   "metadata": {},
   "outputs": [
    {
     "name": "stdout",
     "output_type": "stream",
     "text": [
      "Defaulting to user installation because normal site-packages is not writeable\n",
      "Collecting googletrans==4.0.0-rc1\n",
      "  Downloading googletrans-4.0.0rc1.tar.gz (20 kB)\n",
      "Collecting httpx==0.13.3\n",
      "  Downloading httpx-0.13.3-py3-none-any.whl (55 kB)\n",
      "\u001b[K     |████████████████████████████████| 55 kB 1.1 MB/s eta 0:00:01\n",
      "\u001b[?25hCollecting httpcore==0.9.*\n",
      "  Downloading httpcore-0.9.1-py3-none-any.whl (42 kB)\n",
      "\u001b[K     |████████████████████████████████| 42 kB 3.9 MB/s eta 0:00:01\n",
      "\u001b[?25hCollecting hstspreload\n",
      "  Downloading hstspreload-2025.1.1-py3-none-any.whl (1.3 MB)\n",
      "\u001b[K     |████████████████████████████████| 1.3 MB 1.9 MB/s eta 0:00:01\n",
      "\u001b[?25hCollecting rfc3986<2,>=1.3\n",
      "  Downloading rfc3986-1.5.0-py2.py3-none-any.whl (31 kB)\n",
      "Requirement already satisfied: chardet==3.* in /Users/mdalamintokder/Library/Python/3.9/lib/python/site-packages (from httpx==0.13.3->googletrans==4.0.0-rc1) (3.0.4)\n",
      "Requirement already satisfied: certifi in /Users/mdalamintokder/Library/Python/3.9/lib/python/site-packages (from httpx==0.13.3->googletrans==4.0.0-rc1) (2025.4.26)\n",
      "Requirement already satisfied: sniffio in /Users/mdalamintokder/Library/Python/3.9/lib/python/site-packages (from httpx==0.13.3->googletrans==4.0.0-rc1) (1.3.1)\n",
      "Collecting idna==2.*\n",
      "  Downloading idna-2.10-py2.py3-none-any.whl (58 kB)\n",
      "\u001b[K     |████████████████████████████████| 58 kB 13.3 MB/s eta 0:00:01\n",
      "\u001b[?25hCollecting h11<0.10,>=0.8\n",
      "  Downloading h11-0.9.0-py2.py3-none-any.whl (53 kB)\n",
      "\u001b[K     |████████████████████████████████| 53 kB 8.0 MB/s  eta 0:00:01\n",
      "\u001b[?25hCollecting h2==3.*\n",
      "  Downloading h2-3.2.0-py2.py3-none-any.whl (65 kB)\n",
      "\u001b[K     |████████████████████████████████| 65 kB 11.2 MB/s eta 0:00:01\n",
      "\u001b[?25hCollecting hpack<4,>=3.0\n",
      "  Downloading hpack-3.0.0-py2.py3-none-any.whl (38 kB)\n",
      "Collecting hyperframe<6,>=5.2.0\n",
      "  Downloading hyperframe-5.2.0-py2.py3-none-any.whl (12 kB)\n",
      "Building wheels for collected packages: googletrans\n",
      "  Building wheel for googletrans (setup.py) ... \u001b[?25ldone\n",
      "\u001b[?25h  Created wheel for googletrans: filename=googletrans-4.0.0rc1-py3-none-any.whl size=17415 sha256=91ba68cdfcf78eed9a501768fa01e874e6bb92030be710c53c454109dc7f33a4\n",
      "  Stored in directory: /Users/mdalamintokder/Library/Caches/pip/wheels/60/b3/27/d8aff3e2d5c2d0d97a117cdf0d5f13cd121e2c2b5fb49b55a0\n",
      "Successfully built googletrans\n",
      "Installing collected packages: hyperframe, hpack, h2, h11, rfc3986, idna, httpcore, hstspreload, httpx, googletrans\n",
      "  Attempting uninstall: h11\n",
      "    Found existing installation: h11 0.16.0\n",
      "    Uninstalling h11-0.16.0:\n",
      "      Successfully uninstalled h11-0.16.0\n",
      "  Attempting uninstall: idna\n",
      "    Found existing installation: idna 3.10\n",
      "    Uninstalling idna-3.10:\n",
      "      Successfully uninstalled idna-3.10\n",
      "  Attempting uninstall: httpcore\n",
      "    Found existing installation: httpcore 1.0.9\n",
      "    Uninstalling httpcore-1.0.9:\n",
      "      Successfully uninstalled httpcore-1.0.9\n",
      "  Attempting uninstall: httpx\n",
      "    Found existing installation: httpx 0.28.1\n",
      "    Uninstalling httpx-0.28.1:\n",
      "      Successfully uninstalled httpx-0.28.1\n",
      "\u001b[31mERROR: pip's dependency resolver does not currently take into account all the packages that are installed. This behaviour is the source of the following dependency conflicts.\n",
      "unstructured-client 0.34.0 requires httpx>=0.27.0, but you have httpx 0.13.3 which is incompatible.\n",
      "openai 1.77.0 requires httpx<1,>=0.23.0, but you have httpx 0.13.3 which is incompatible.\n",
      "langsmith 0.3.42 requires httpx<1,>=0.23.0, but you have httpx 0.13.3 which is incompatible.\n",
      "groq 0.25.0 requires httpx<1,>=0.23.0, but you have httpx 0.13.3 which is incompatible.\u001b[0m\n",
      "Successfully installed googletrans-4.0.0rc1 h11-0.9.0 h2-3.2.0 hpack-3.0.0 hstspreload-2025.1.1 httpcore-0.9.1 httpx-0.13.3 hyperframe-5.2.0 idna-2.10 rfc3986-1.5.0\n",
      "\u001b[33mWARNING: You are using pip version 21.2.4; however, version 25.1.1 is available.\n",
      "You should consider upgrading via the '/Library/Developer/CommandLineTools/usr/bin/python3 -m pip install --upgrade pip' command.\u001b[0m\n",
      "Note: you may need to restart the kernel to use updated packages.\n"
     ]
    }
   ],
   "source": [
    "%pip install googletrans==4.0.0-rc1\n"
   ]
  },
  {
   "cell_type": "code",
   "execution_count": 2,
   "metadata": {},
   "outputs": [
    {
     "name": "stdout",
     "output_type": "stream",
     "text": [
      "Defaulting to user installation because normal site-packages is not writeable\n",
      "Requirement already satisfied: tqdm in /Users/mdalamintokder/Library/Python/3.9/lib/python/site-packages (4.67.1)\n",
      "\u001b[33mWARNING: You are using pip version 21.2.4; however, version 25.1.1 is available.\n",
      "You should consider upgrading via the '/Library/Developer/CommandLineTools/usr/bin/python3 -m pip install --upgrade pip' command.\u001b[0m\n",
      "Note: you may need to restart the kernel to use updated packages.\n"
     ]
    }
   ],
   "source": [
    "%pip install tqdm"
   ]
  },
  {
   "cell_type": "markdown",
   "metadata": {},
   "source": [
    "# Any hybrid query test\n",
    "\n",
    "SELECT\n",
    "  orders.id AS order_id_or_management_number,\n",
    "  order_items.description AS expert_description,\n",
    "  order_items.id AS order_items_id,\n",
    "  template_insert_histories.description_template_id\n",
    "FROM\n",
    "  orders\n",
    "JOIN\n",
    "  order_items ON orders.id = order_items.order_id\n",
    "JOIN\n",
    "  template_insert_histories ON order_items.id = template_insert_histories.order_item_id\n",
    "WHERE\n",
    "  orders.id = 44206\n",
    "GROUP BY\n",
    "  template_insert_histories.description_template_id;\n",
    "\n",
    "- SELECT\n",
    "-   orders.id AS order_id_or_management_number,\n",
    "-   order_items.description AS expert_description,\n",
    "-   order_items.id AS order_items_id,\n",
    "-   template_insert_histories.description_template_id\n",
    "- FROM\n",
    "-   orders\n",
    "- JOIN\n",
    "-   order_items ON orders.id = order_items.order_id\n",
    "- JOIN\n",
    "-   template_insert_histories ON order_items.id = template_insert_histories.order_item_id\n",
    "- WHERE\n",
    "-   orders.id = 44206\n",
    "- GROUP BY\n",
    "-   template_insert_histories.description_template_id;"
   ]
  },
  {
   "cell_type": "code",
   "execution_count": 10,
   "metadata": {},
   "outputs": [
    {
     "name": "stdout",
     "output_type": "stream",
     "text": [
      "✅ Data fetched successfully!\n",
      "📁 Excel file saved successfully as 'universal_table.xlsx'\n"
     ]
    },
    {
     "name": "stderr",
     "output_type": "stream",
     "text": [
      "/var/folders/05/dcqg5c4d6_b827xfj3z40j0w0000gn/T/ipykernel_1685/4046520415.py:38: UserWarning: pandas only supports SQLAlchemy connectable (engine/connection) or database string URI or sqlite3 DBAPI2 connection. Other DBAPI2 objects are not tested. Please consider using SQLAlchemy.\n",
      "  df = pd.read_sql(query, connection)\n"
     ]
    }
   ],
   "source": [
    "\n",
    "\n",
    "\n",
    "# 📦 Step 2: Import required libraries\n",
    "import pandas as pd\n",
    "import pymysql\n",
    "\n",
    "# 🔐 Step 3: Define your DB config\n",
    "db_config = {\n",
    "    'host': 'localhost',       # Local MySQL\n",
    "    'user': 'root',\n",
    "    'password': '',\n",
    "    'database': 'Leather_repair_db',\n",
    "    'port': 3306\n",
    "}\n",
    "\n",
    "# 🧾 Step 4: Write your SQL query\n",
    "query = \"\"\"\n",
    "SELECT\n",
    "  orders.id AS order_id,\n",
    "  orders.internal_memo AS internal_memo,\n",
    "  orders.customer_memo AS customer_memo,\n",
    "  order_items.description AS expert_description,\n",
    "  order_items.id AS order_items_id,\n",
    "  template_insert_histories.description_template_id\n",
    "FROM\n",
    "  orders\n",
    "JOIN\n",
    "  order_items ON orders.id = order_items.order_id\n",
    "JOIN\n",
    "  template_insert_histories ON order_items.id = template_insert_histories.order_item_id\n",
    "WHERE\n",
    "  orders.id = 44206\n",
    "GROUP BY\n",
    "  template_insert_histories.description_template_id;\n",
    "\"\"\"\n",
    "\n",
    "# ⚙️ Step 5: Connect to DB and fetch data\n",
    "try:\n",
    "    connection = pymysql.connect(**db_config)\n",
    "    df = pd.read_sql(query, connection)\n",
    "    # print(df.head())  # Display first few rows of the DataFrame\n",
    "    connection.close()\n",
    "\n",
    "    print(\"✅ Data fetched successfully!\")\n",
    "except Exception as e:\n",
    "    print(\"❌ Error while connecting or fetching:\", e)\n",
    "\n",
    "\n",
    "# 💾 Step 6: Save to Excel\n",
    "output_file = \"universal_table.xlsx\"\n",
    "try:\n",
    "    df.to_excel(output_file, index=False)\n",
    "    print(f\"📁 Excel file saved successfully as '{output_file}'\")\n",
    "except Exception as e:\n",
    "    print(\"❌ Error while saving to Excel:\", e)"
   ]
  },
  {
   "cell_type": "code",
   "execution_count": 11,
   "metadata": {},
   "outputs": [
    {
     "data": {
      "application/vnd.microsoft.datawrangler.viewer.v0+json": {
       "columns": [
        {
         "name": "index",
         "rawType": "int64",
         "type": "integer"
        },
        {
         "name": "internal_memo",
         "rawType": "object",
         "type": "string"
        },
        {
         "name": "customer_memo",
         "rawType": "object",
         "type": "string"
        },
        {
         "name": "order_id_or_management_number",
         "rawType": "int64",
         "type": "integer"
        },
        {
         "name": "expert_description",
         "rawType": "object",
         "type": "string"
        },
        {
         "name": "order_items_id",
         "rawType": "int64",
         "type": "integer"
        },
        {
         "name": "description_template_id",
         "rawType": "int64",
         "type": "integer"
        }
       ],
       "ref": "727a46b9-2065-47da-8d68-6ed617831fcb",
       "rows": [
        [
         "0",
         "▼ミュウミュウ財布、早速のお見積もりありがとうございます。\r\nこちらは、表面のみご提案いただいたメンテナンスをお願いしたいと思います。\r\nグッチの財布は内部もあわせて、補修をお願いしたいと\r\n思います。\r\n今回は、この２点をお願いいたします。\r\n\r\n\r\n10年位使用しておらず、\r\n札入れ、小銭入れの中にカビがあります。\r\n思い出がある品物のため、また使いたいと思っています。\r\nよろしくお願いします。",
         "【初めてご利用の方につきまして】\r\nhttps://kawasyuri.com/company/beginner.html\r\n\r\n【お支払い方法・送料につきまして】\r\nhttps://kawasyuri.com/company/tokutei.html#shiharai\r\n\r\n【安心現物診断につきまして】\r\nhttps://kawasyuri.com/form/tel_toi.html\r\n\r\n【送り方：財布の場合】\r\nhttps://kawasyuri.com/curation/wp-content/uploads/2021/09/46932fe992a3bc4fdc2ceecc7e1df42d.mp4\r\n【送り方：バッグの場合】\r\nhttps://kawasyuri.com/curation/wp-content/uploads/2021/09/1bda68c9af3a1f8c7cde6c49b549771f.mp4\r\n\r\n【ご依頼にあたり】\r\n\r\n・画像診断の内容でよろしければ、お品物を【お品物発送先】住所宛てにお送りください。\r\n\r\n完了後の発送先(ご住所）やお支払方法などにつきましては、現物診断後にご登録いただく流れになります。\r\n\r\n・お送り頂く際に発送伝票に記載頂くお電話番号とお名前はご登録時とご一緒でお願い致します。\r\n\r\n・取り外し可能な部品につきまして\r\nお財布の場合は、コインケースなど内部に入れてバッグの場合は、バッグの中に入れて輸送中に飛び出さないよう、梱包をお願いします。\r\n中に入れずにお送りいただきますと、紛失に繋がります。\r\n内部に入れずにお送りいただいた際の紛失は、賠償の対象外となります。\r\n予めご了承いただきたく存じます。\r\n\r\n・保存袋や製品のブランド箱は、ご自宅で保管をお願いします。\r\n\r\n・梱包にてご使用いただく箱やタオル類は、こちらで処分いたしますので、ご使用されるものは梱包しないようにお願いします。\r\n\r\n・お品物が当店に到着しましたら、現物診断の後、仕上がり感など詳細をご案内をさせていただきます。\r\n\r\n到着順に診断をさせて頂いておりますが、到着後、診断終了までの日数でございますが、5～7営業日程度、お時間が掛かかります。\r\n\r\nご不明な点等、チャットからご連絡いただけたらと存じます。\r\n\r\n\r\n【革修復どっとコム】\r\n\r\nhttps://kawasyuri.com/",
         "44206",
         "革修復どっとコムの齋藤と申します。\r\n\r\nこの度は、お問い合わせ頂きまして、誠に有難うございます。\r\n\r\n添付頂いた画像を拝見させて頂きました。\r\n\r\nお手数をお掛けいただきまして、誠に有難うございます。\r\n\r\n状態を見ますと、外周のふち革を交換する修理とキャンパス部分のクレンジング、他レザー部分のクレンジングと補色が必要になるかと存じます。\r\n\r\n上記の工程で、概ね修復可能かと存じますが、以下の通り、工程など詳細をご確認いただきまして、ご検討いただけたらと存じます。\r\n\r\n■ふち革部分の修理につきまして\r\n\r\n状態を見ますと、外周トリミング（ふち革）を交換する修理が必要な状態かと存じますが、劣化具合などから、以下の点、ご了承いただく必要がございます。\r\n\r\n新品の生地で一から作る工程と違い劣化した上から縫い付ける上で、直線のふち革を縫い付けていきますが、レザーを直線にすると、お財布自体に歪みが出てしまいます。\r\n\r\n歪みをどこかに逃がす必要があるため、裏面にレザーの歪みが出てしまいます。\r\n\r\n表生地と裏生地を重ねて縫い込みする上で綺麗なラインが出せない場合があるため、細部の美観に影響がある仕上がりになってしまいます。\r\n\r\n使用するレザーにつきましては、違和感の出ない範囲の類似のレザーにて制作させていただきます。\r\n\r\nご了承の上、ご検討を頂きたく存じます。\r\n\r\n▽料金です。（税込）\r\n\r\nふち革製作交換 　29700円\r\n\r\n■クレンジングと補色につきまして\r\n\r\n・キャンパス部分のメンテナンス\r\n\r\n全体的なクレンジングの後にシミヌキを施すメンテナンスになります。\r\n\r\n擦れやキズがございますと、残りますがサッパリとして現状よりは良くなるかと存じます。\r\n\r\n・レザー部分のメンテナンス\r\n\r\n※レザーは、シミが浸透してしまうため、完全に修復することは難しく存じますが、素材を痛めない範囲でしみ抜きを施し、浸透したシミを染色補正で目立たなくすることで、擦り傷や色褪せも含め、現状よりは良くなるかと存じます。\r\n\r\n画像で見ますと、概ね修復可能かと存じます。\r\n\r\n革の構造ですが、大きく分けますと、3つの層に分かれております。\r\n\r\n①革\r\n②革の上にバインダー層（着色された層）\r\n③バインダー層の上にトップ層（光沢調整と色止めの役割がある層）\r\n\r\n上記の様に構成されているレザーになります。\r\n\r\n工程でございますが、クレンジングの後、バインダー層に馴染むように補色を施し、艶感を調整するメンテナンスになります。\r\n\r\n上記の工程で、仕上がり感としまして考えられる点がございます。\r\n\r\n・凹み傷や表面が捲れ革まで達している深い傷、革の裂け破れは、痕が残る場合がございます。\r\n\r\n・革シボ（しわ状の柄や革のシワ）の凹凸が擦れて無くなっている場合、ツルっとした感が出る場合がございます。\r\n　\r\n・シミが革に深く浸透している場合、新たに作る表面層を出来るだけ薄く作り、質感、風合いを優先しますので、薄く透けた感じで残る場合がございます。\r\n　極端に色褪せしたキワも薄く透けた感じで残る場合もございます。\r\n\r\n・若干ですが、質感が硬くなるなど変わる場合がございます。\r\n\r\n・傷、しみを隠す為に表面層を厚くしたり染料の濃度を濃くしますと、革シボ（しわ状の柄や革のシワ）の凹凸や革のシワが無くなり、不自然な仕上がりになる為、質感を重視し、バランスを見ながらの修復なります。\r\n\r\n上記の事が考えられますが、現状より良くするメンテナンスとしてお考え頂けたらと存じます。\r\n\r\n色合いにつきましては、状態の良い部分に合わせ配合させて頂きます。\r\n\r\n画像で判断出来ない部分もある為、細かな部分につきましては、実際に拝見させて頂いてから、ご案内させて頂きます。\r\n\r\nご不明な点は遠慮なくお申し出ください。\r\n\r\n・料金です。（税込）\r\n\r\n全体クレンジング・レザー銀面生成（染め直し・艶調整）\r\n\r\n11000円～13200円まで\r\n\r\n■納期：約50日程度\r\n\r\nご不明な点や確認事項がございましたら、遠慮なくお申し出ください。\r\n\r\n※チャットにて、ご連絡いただけたらと存じます。\r\n\r\n【事例で確認】\r\n\r\n https://kawasyuri.com/curation/%e3%82%b0%e3%83%83%e3%83%81%e8%b2%a1%e5%b8%83%e3%81%ae%e3%80%8e%e3%81%b5%e3%81%a1%e5%91%a8%e3%82%8a%e3%81%ae%e9%9d%a9%e3%80%8f%e3%81%8c%e3%83%9c%e3%83%ad%e3%83%9c%e3%83%ad%e3%81%ab%e3%81%aa%e3%81%a3/",
         "46909",
         "405"
        ],
        [
         "1",
         "▼ミュウミュウ財布、早速のお見積もりありがとうございます。\r\nこちらは、表面のみご提案いただいたメンテナンスをお願いしたいと思います。\r\nグッチの財布は内部もあわせて、補修をお願いしたいと\r\n思います。\r\n今回は、この２点をお願いいたします。\r\n\r\n\r\n10年位使用しておらず、\r\n札入れ、小銭入れの中にカビがあります。\r\n思い出がある品物のため、また使いたいと思っています。\r\nよろしくお願いします。",
         "【初めてご利用の方につきまして】\r\nhttps://kawasyuri.com/company/beginner.html\r\n\r\n【お支払い方法・送料につきまして】\r\nhttps://kawasyuri.com/company/tokutei.html#shiharai\r\n\r\n【安心現物診断につきまして】\r\nhttps://kawasyuri.com/form/tel_toi.html\r\n\r\n【送り方：財布の場合】\r\nhttps://kawasyuri.com/curation/wp-content/uploads/2021/09/46932fe992a3bc4fdc2ceecc7e1df42d.mp4\r\n【送り方：バッグの場合】\r\nhttps://kawasyuri.com/curation/wp-content/uploads/2021/09/1bda68c9af3a1f8c7cde6c49b549771f.mp4\r\n\r\n【ご依頼にあたり】\r\n\r\n・画像診断の内容でよろしければ、お品物を【お品物発送先】住所宛てにお送りください。\r\n\r\n完了後の発送先(ご住所）やお支払方法などにつきましては、現物診断後にご登録いただく流れになります。\r\n\r\n・お送り頂く際に発送伝票に記載頂くお電話番号とお名前はご登録時とご一緒でお願い致します。\r\n\r\n・取り外し可能な部品につきまして\r\nお財布の場合は、コインケースなど内部に入れてバッグの場合は、バッグの中に入れて輸送中に飛び出さないよう、梱包をお願いします。\r\n中に入れずにお送りいただきますと、紛失に繋がります。\r\n内部に入れずにお送りいただいた際の紛失は、賠償の対象外となります。\r\n予めご了承いただきたく存じます。\r\n\r\n・保存袋や製品のブランド箱は、ご自宅で保管をお願いします。\r\n\r\n・梱包にてご使用いただく箱やタオル類は、こちらで処分いたしますので、ご使用されるものは梱包しないようにお願いします。\r\n\r\n・お品物が当店に到着しましたら、現物診断の後、仕上がり感など詳細をご案内をさせていただきます。\r\n\r\n到着順に診断をさせて頂いておりますが、到着後、診断終了までの日数でございますが、5～7営業日程度、お時間が掛かかります。\r\n\r\nご不明な点等、チャットからご連絡いただけたらと存じます。\r\n\r\n\r\n【革修復どっとコム】\r\n\r\nhttps://kawasyuri.com/",
         "44206",
         "画像を見ての判る範囲でご案内申し上げます。\r\n\r\n状態から致しますと、見栄えを良くすることは可能かと存じます。\r\n\r\n画像で頂いた革の構造ですが、大きく分けますと、3つの層に分かれております。\r\n\r\n①革\r\n②革の上にバインダー層（着色された層）\r\n③バインダー層の上にトップ層（エナメル層）\r\n\r\n上記の様に構成されています。\r\n\r\n工程を簡単に申し上げますと、クレンジングで、表面の汚れを落とし、下処理とバインダー層の着色補正を施し、エナメル加工を施す工程になります。\r\n\r\n仕上がり感としまして考えられる点がございます。\r\n\r\n・色合いが濃いめに仕上がる場合がございます。\r\n\r\nレザーへの馴染み方で変わりますが、無理に明るい色合いにすると不自然な仕上りになるため、馴染み方を見ながら調整させていただく流れとなります。\r\n\r\n・型押しのウロコ間に色合いの濃淡の差が無くなる場合がございます。\r\n\r\n・深いキズは、修理痕が残る場合がございます。\r\n\r\n・シミが革に深く浸透している場合、新たに作る表面層を出来るだけ薄く作り、質感、風合いを優先しますので、薄く透けた感じで残る場合がございます。\r\n\r\n濃く深く浸透したシミが色合いの濃淡として残ることもございます。\r\n\r\n・質感が少し硬くなるなど変わる場合がございます。\r\n\r\n・無理に傷、しみを隠す為に表面層を厚くしますと、革シボ（しわ状の柄や革のシワ）の凹凸や革のシワが無くなり、不自然な仕上がりになる為、バランスを見ながらの修復なります。\r\n\r\n上記の事が考えられます。\r\n\r\n現状より見栄えを良くするメンテナンスとしてご検討いただきたく存じます。\r\n\r\n 料金です。（税込）\r\n\r\nクレンジング・染め直し・エナメル加工\r\n\r\n表面　16500円\r\n\r\n内部のメンテナンスをご希望の場合\r\n\r\nプラス　4400円\r\n\r\n■納期：約35日程度\r\n \r\nご不明な点や確認事項がございましたら、遠慮なくお申し出ください。\r\n\r\n※チャットにて、ご連絡いただけたらと存じます。\r\n\r\nそれでは、ご検討頂きたくお願い申し上げます。",
         "46944",
         "463"
        ],
        [
         "2",
         "▼ミュウミュウ財布、早速のお見積もりありがとうございます。\r\nこちらは、表面のみご提案いただいたメンテナンスをお願いしたいと思います。\r\nグッチの財布は内部もあわせて、補修をお願いしたいと\r\n思います。\r\n今回は、この２点をお願いいたします。\r\n\r\n\r\n10年位使用しておらず、\r\n札入れ、小銭入れの中にカビがあります。\r\n思い出がある品物のため、また使いたいと思っています。\r\nよろしくお願いします。",
         "【初めてご利用の方につきまして】\r\nhttps://kawasyuri.com/company/beginner.html\r\n\r\n【お支払い方法・送料につきまして】\r\nhttps://kawasyuri.com/company/tokutei.html#shiharai\r\n\r\n【安心現物診断につきまして】\r\nhttps://kawasyuri.com/form/tel_toi.html\r\n\r\n【送り方：財布の場合】\r\nhttps://kawasyuri.com/curation/wp-content/uploads/2021/09/46932fe992a3bc4fdc2ceecc7e1df42d.mp4\r\n【送り方：バッグの場合】\r\nhttps://kawasyuri.com/curation/wp-content/uploads/2021/09/1bda68c9af3a1f8c7cde6c49b549771f.mp4\r\n\r\n【ご依頼にあたり】\r\n\r\n・画像診断の内容でよろしければ、お品物を【お品物発送先】住所宛てにお送りください。\r\n\r\n完了後の発送先(ご住所）やお支払方法などにつきましては、現物診断後にご登録いただく流れになります。\r\n\r\n・お送り頂く際に発送伝票に記載頂くお電話番号とお名前はご登録時とご一緒でお願い致します。\r\n\r\n・取り外し可能な部品につきまして\r\nお財布の場合は、コインケースなど内部に入れてバッグの場合は、バッグの中に入れて輸送中に飛び出さないよう、梱包をお願いします。\r\n中に入れずにお送りいただきますと、紛失に繋がります。\r\n内部に入れずにお送りいただいた際の紛失は、賠償の対象外となります。\r\n予めご了承いただきたく存じます。\r\n\r\n・保存袋や製品のブランド箱は、ご自宅で保管をお願いします。\r\n\r\n・梱包にてご使用いただく箱やタオル類は、こちらで処分いたしますので、ご使用されるものは梱包しないようにお願いします。\r\n\r\n・お品物が当店に到着しましたら、現物診断の後、仕上がり感など詳細をご案内をさせていただきます。\r\n\r\n到着順に診断をさせて頂いておりますが、到着後、診断終了までの日数でございますが、5～7営業日程度、お時間が掛かかります。\r\n\r\nご不明な点等、チャットからご連絡いただけたらと存じます。\r\n\r\n\r\n【革修復どっとコム】\r\n\r\nhttps://kawasyuri.com/",
         "44206",
         "画像で見ますと、クレンジング及び全体的な補色、艶感を調整する事で、概ね見栄え良く修復可能かと存じます。\r\n\r\n画像のレザーは、製品化される前に革の表面に加工がされているレザーになります。\r\n\r\n分かりやすく申し上げますと、3つの層に分かれております。\r\n\r\n①革\r\n②革の上にバインダー層（着色された層）\r\n③バインダー層の上にトップ層（色止めや光沢感など調整されている層）\r\n\r\n上記の様に構成されているレザーになります。\r\n\r\nクレンジングの後、擦れ、色あせ、変色を目立たなくするため、必要に応じ、バインダー層に馴染むように補色を施し、艶感の調整と色止めの役割もあるトップ層のコート加工を施すメンテナンスになります。\r\n\r\n上記の工程で、仕上がり感としまして考えられる点がございます。\r\n\r\n・凹み傷や表面が捲れ革まで達している深い傷、革の裂け破れは、痕が残る場合がございます。\r\n\r\n・擦れにより革シボ（しわ状の柄や革のシワ）の凹凸（エンボス）が擦れて無くなっている場合、ツルっとした感が出る場合がございます。\r\n　\r\n・シミが革に深く浸透している場合、新たに作る表面層を出来るだけ薄く作り、質感、風合いを優先しますので、薄く透けた感じで残る場合がございます。\r\n　極端に色褪せしたキワも薄く透けた感じで残る場合もございます。\r\n\r\n・若干ですが、質感が硬くなるなど変わる場合がございます。\r\n\r\n・ご使用による型崩れやシワ感は、癖になっている可能性があるのでお直しする事が出来ない可能性がございます。\r\n\r\n・傷、しみを隠す為に表面層を厚くしたり染料の濃度を濃くしますと、革シボ（しわ状の柄や革のシワ）の凹凸(エンボス）や革のシワが無くなり、不自然な仕上がりになる為、質感を重視し、バランスを見ながらの修復なります。\r\n\r\n色合いにつきましては、状態の良い部分に合わせ配合させて頂きます。\r\n\r\n画像で判断出来ない部分やその他、工程を進めながら判断をさせて頂く事項もございます。\r\n\r\n概ね見栄えよくメンテナンス可能かと存じますが、上記の件、ご了承の上、ご検討いただきたく存じます。\r\n\r\n------------------------------------------------------------\r\n料金です。（税込）\r\n\r\nクレンジング・しみ抜き・銀面生成（染め直し・艶調整）\r\n\r\n表面　22000円まで\r\n\r\n※内部につきまして\r\n\r\n上記の工程は、消臭やほこり飛ばしなど、お掃除的な\r\n　　\r\nクレンジングになります。\r\n\r\nそのため、汚れやシミが残る場合がございます。\r\n\r\nサッパリさせる範囲のメンテナンスとして、\r\n\r\nお考え頂けたらと存じます。\r\n\r\n・内部にシミがありしみ抜きをご希望いただく場合\r\n\r\n内部メンテナンス　プラス　6600円～8800円まで\r\n\r\nご希望の場合、お申し出頂けたらと存じます。\r\n\r\n・ハンドルふち周りの併せを隠すコーティング\r\n\r\nふち周りの革と革の袷を隠すコーティングのような\r\n\r\n加工がされた部分をバニッシュ(コバ)と言います。\r\n\r\n再加工することで、概ね修復可能かと存じます。\r\n\r\n仕上り感としまして、キズを隠すために、厚く盛り付けしますと、\r\n\r\nひび割れしやすくなる為、現状より良くする\r\n\r\nメンテナンスとしてお考え頂けたらと存じます。\r\n\r\n料金です。（税込）\r\n\r\nバニッシュ（コバ）加工　8800円～9900円まで\r\n\r\n状態と範囲で料金が変わります。\r\n\r\n軽傷な場合、上記より低くなる場合もございます。\r\n\r\nご希望に応じてお選びいただく工程になります。\r\n\r\n【バニッシュについて】\r\n\r\nhttps://kawasyuri.com/curation/vanish/\r\n\r\n【銀面生成とは？？】\r\n\r\nhttps://kawasyuri.com/curation/ginmenseisei/\r\n\r\n■納期：約1ヶ月程度\r\n\r\n上記の通り、わかる範囲でご案内させていただきます。\r\n\r\n今後の流れとしましては、お品物を実際に見て、メンテナンス内容など、ご要望をお伺いさせていただいた上でメンテナンスを進めさせていただく流れになります。\r\n\r\nご不明な点や確認事項がございましたら、遠慮なくお申し出ください。\r\n\r\n※チャットにて、ご連絡いただけたらと存じます。\r\n\r\nそれでは、ご検討頂きたくお願い申し上げます。\r\n\r\n【ブランド別の事例で確認】\r\n\r\nhttps://kawasyuri.com/curation/mottainai%e3%80%8c%e3%82%82%e3%81%a3%e3%81%9f%e3%81%84%e3%81%aa%e3%81%84%e3%80%8d%e3%81%af%e4%b8%96%e7%95%8c%e3%81%ae%e5%85%b1%e9%80%9a%e8%aa%9e%ef%bc%81%e3%83%ac%e3%82%b6%e3%83%bc%e3%81%ae%e3%83%90/",
         "46910",
         "836"
        ],
        [
         "3",
         "▼ミュウミュウ財布、早速のお見積もりありがとうございます。\r\nこちらは、表面のみご提案いただいたメンテナンスをお願いしたいと思います。\r\nグッチの財布は内部もあわせて、補修をお願いしたいと\r\n思います。\r\n今回は、この２点をお願いいたします。\r\n\r\n\r\n10年位使用しておらず、\r\n札入れ、小銭入れの中にカビがあります。\r\n思い出がある品物のため、また使いたいと思っています。\r\nよろしくお願いします。",
         "【初めてご利用の方につきまして】\r\nhttps://kawasyuri.com/company/beginner.html\r\n\r\n【お支払い方法・送料につきまして】\r\nhttps://kawasyuri.com/company/tokutei.html#shiharai\r\n\r\n【安心現物診断につきまして】\r\nhttps://kawasyuri.com/form/tel_toi.html\r\n\r\n【送り方：財布の場合】\r\nhttps://kawasyuri.com/curation/wp-content/uploads/2021/09/46932fe992a3bc4fdc2ceecc7e1df42d.mp4\r\n【送り方：バッグの場合】\r\nhttps://kawasyuri.com/curation/wp-content/uploads/2021/09/1bda68c9af3a1f8c7cde6c49b549771f.mp4\r\n\r\n【ご依頼にあたり】\r\n\r\n・画像診断の内容でよろしければ、お品物を【お品物発送先】住所宛てにお送りください。\r\n\r\n完了後の発送先(ご住所）やお支払方法などにつきましては、現物診断後にご登録いただく流れになります。\r\n\r\n・お送り頂く際に発送伝票に記載頂くお電話番号とお名前はご登録時とご一緒でお願い致します。\r\n\r\n・取り外し可能な部品につきまして\r\nお財布の場合は、コインケースなど内部に入れてバッグの場合は、バッグの中に入れて輸送中に飛び出さないよう、梱包をお願いします。\r\n中に入れずにお送りいただきますと、紛失に繋がります。\r\n内部に入れずにお送りいただいた際の紛失は、賠償の対象外となります。\r\n予めご了承いただきたく存じます。\r\n\r\n・保存袋や製品のブランド箱は、ご自宅で保管をお願いします。\r\n\r\n・梱包にてご使用いただく箱やタオル類は、こちらで処分いたしますので、ご使用されるものは梱包しないようにお願いします。\r\n\r\n・お品物が当店に到着しましたら、現物診断の後、仕上がり感など詳細をご案内をさせていただきます。\r\n\r\n到着順に診断をさせて頂いておりますが、到着後、診断終了までの日数でございますが、5～7営業日程度、お時間が掛かかります。\r\n\r\nご不明な点等、チャットからご連絡いただけたらと存じます。\r\n\r\n\r\n【革修復どっとコム】\r\n\r\nhttps://kawasyuri.com/",
         "44206",
         "画像で見ますと、クレンジング及び全体的な補色、艶感を調整する事で、概ね見栄え良く修復可能かと存じます。\r\n\r\n画像のレザーは、製品化される前に革の表面に加工がされているレザーになります。\r\n\r\n分かりやすく申し上げますと、3つの層に分かれております。\r\n\r\n①革\r\n②革の上にバインダー層（着色された層）\r\n③バインダー層の上にトップ層（色止めや光沢感など調整されている層）\r\n\r\n上記の様に構成されているレザーになります。\r\n\r\nクレンジングの後、擦れ、色あせ、変色を目立たなくするため、必要に応じ、バインダー層に馴染むように補色を施し、艶感の調整と色止めの役割もあるトップ層のコート加工を施すメンテナンスになります。\r\n\r\n上記の工程で、仕上がり感としまして考えられる点がございます。\r\n\r\n・凹み傷や表面が捲れ革まで達している深い傷、革の裂け破れは、痕が残る場合がございます。\r\n\r\n・擦れにより革シボ（しわ状の柄や革のシワ）の凹凸（エンボス）が擦れて無くなっている場合、ツルっとした感が出る場合がございます。\r\n　\r\n・シミが革に深く浸透している場合、新たに作る表面層を出来るだけ薄く作り、質感、風合いを優先しますので、薄く透けた感じで残る場合がございます。\r\n　極端に色褪せしたキワも薄く透けた感じで残る場合もございます。\r\n\r\n・若干ですが、質感が硬くなるなど変わる場合がございます。\r\n\r\n・ご使用による型崩れやシワ感は、癖になっている可能性があるのでお直しする事が出来ない可能性がございます。\r\n\r\n・傷、しみを隠す為に表面層を厚くしたり染料の濃度を濃くしますと、革シボ（しわ状の柄や革のシワ）の凹凸(エンボス）や革のシワが無くなり、不自然な仕上がりになる為、質感を重視し、バランスを見ながらの修復なります。\r\n\r\n色合いにつきましては、状態の良い部分に合わせ配合させて頂きます。\r\n\r\n画像で判断出来ない部分やその他、工程を進めながら判断をさせて頂く事項もございます。\r\n\r\n概ね見栄えよくメンテナンス可能かと存じますが、上記の件、ご了承の上、ご検討いただきたく存じます。\r\n\r\n------------------------------------------------------------\r\n料金です。（税込）\r\n\r\nクレンジング・しみ抜き・銀面生成（染め直し・艶調整）\r\n\r\n表面　22000円まで\r\n\r\n※内部につきまして\r\n\r\n上記の工程は、消臭やほこり飛ばしなど、お掃除的な\r\n　　\r\nクレンジングになります。\r\n\r\nそのため、汚れやシミが残る場合がございます。\r\n\r\nサッパリさせる範囲のメンテナンスとして、\r\n\r\nお考え頂けたらと存じます。\r\n\r\n・内部にシミがありしみ抜きをご希望いただく場合\r\n\r\n内部メンテナンス　プラス　6600円～8800円まで\r\n\r\nご希望の場合、お申し出頂けたらと存じます。\r\n\r\n・ハンドルふち周りの併せを隠すコーティング\r\n\r\nふち周りの革と革の袷を隠すコーティングのような\r\n\r\n加工がされた部分をバニッシュ(コバ)と言います。\r\n\r\n再加工することで、概ね修復可能かと存じます。\r\n\r\n仕上り感としまして、キズを隠すために、厚く盛り付けしますと、\r\n\r\nひび割れしやすくなる為、現状より良くする\r\n\r\nメンテナンスとしてお考え頂けたらと存じます。\r\n\r\n料金です。（税込）\r\n\r\nバニッシュ（コバ）加工　8800円～9900円まで\r\n\r\n状態と範囲で料金が変わります。\r\n\r\n軽傷な場合、上記より低くなる場合もございます。\r\n\r\nご希望に応じてお選びいただく工程になります。\r\n\r\n【バニッシュについて】\r\n\r\nhttps://kawasyuri.com/curation/vanish/\r\n\r\n【銀面生成とは？？】\r\n\r\nhttps://kawasyuri.com/curation/ginmenseisei/\r\n\r\n■納期：約1ヶ月程度\r\n\r\n上記の通り、わかる範囲でご案内させていただきます。\r\n\r\n今後の流れとしましては、お品物を実際に見て、メンテナンス内容など、ご要望をお伺いさせていただいた上でメンテナンスを進めさせていただく流れになります。\r\n\r\nご不明な点や確認事項がございましたら、遠慮なくお申し出ください。\r\n\r\n※チャットにて、ご連絡いただけたらと存じます。\r\n\r\nそれでは、ご検討頂きたくお願い申し上げます。\r\n\r\n【ブランド別の事例で確認】\r\n\r\nhttps://kawasyuri.com/curation/mottainai%e3%80%8c%e3%82%82%e3%81%a3%e3%81%9f%e3%81%84%e3%81%aa%e3%81%84%e3%80%8d%e3%81%af%e4%b8%96%e7%95%8c%e3%81%ae%e5%85%b1%e9%80%9a%e8%aa%9e%ef%bc%81%e3%83%ac%e3%82%b6%e3%83%bc%e3%81%ae%e3%83%90/",
         "46910",
         "922"
        ]
       ],
       "shape": {
        "columns": 6,
        "rows": 4
       }
      },
      "text/html": [
       "<div>\n",
       "<style scoped>\n",
       "    .dataframe tbody tr th:only-of-type {\n",
       "        vertical-align: middle;\n",
       "    }\n",
       "\n",
       "    .dataframe tbody tr th {\n",
       "        vertical-align: top;\n",
       "    }\n",
       "\n",
       "    .dataframe thead th {\n",
       "        text-align: right;\n",
       "    }\n",
       "</style>\n",
       "<table border=\"1\" class=\"dataframe\">\n",
       "  <thead>\n",
       "    <tr style=\"text-align: right;\">\n",
       "      <th></th>\n",
       "      <th>internal_memo</th>\n",
       "      <th>customer_memo</th>\n",
       "      <th>order_id_or_management_number</th>\n",
       "      <th>expert_description</th>\n",
       "      <th>order_items_id</th>\n",
       "      <th>description_template_id</th>\n",
       "    </tr>\n",
       "  </thead>\n",
       "  <tbody>\n",
       "    <tr>\n",
       "      <th>0</th>\n",
       "      <td>▼ミュウミュウ財布、早速のお見積もりありがとうございます。\\r\\nこちらは、表面のみご提案い...</td>\n",
       "      <td>【初めてご利用の方につきまして】\\r\\nhttps://kawasyuri.com/comp...</td>\n",
       "      <td>44206</td>\n",
       "      <td>革修復どっとコムの齋藤と申します。\\r\\n\\r\\nこの度は、お問い合わせ頂きまして、誠に有難...</td>\n",
       "      <td>46909</td>\n",
       "      <td>405</td>\n",
       "    </tr>\n",
       "    <tr>\n",
       "      <th>1</th>\n",
       "      <td>▼ミュウミュウ財布、早速のお見積もりありがとうございます。\\r\\nこちらは、表面のみご提案い...</td>\n",
       "      <td>【初めてご利用の方につきまして】\\r\\nhttps://kawasyuri.com/comp...</td>\n",
       "      <td>44206</td>\n",
       "      <td>画像を見ての判る範囲でご案内申し上げます。\\r\\n\\r\\n状態から致しますと、見栄えを良くす...</td>\n",
       "      <td>46944</td>\n",
       "      <td>463</td>\n",
       "    </tr>\n",
       "    <tr>\n",
       "      <th>2</th>\n",
       "      <td>▼ミュウミュウ財布、早速のお見積もりありがとうございます。\\r\\nこちらは、表面のみご提案い...</td>\n",
       "      <td>【初めてご利用の方につきまして】\\r\\nhttps://kawasyuri.com/comp...</td>\n",
       "      <td>44206</td>\n",
       "      <td>画像で見ますと、クレンジング及び全体的な補色、艶感を調整する事で、概ね見栄え良く修復可能かと...</td>\n",
       "      <td>46910</td>\n",
       "      <td>836</td>\n",
       "    </tr>\n",
       "    <tr>\n",
       "      <th>3</th>\n",
       "      <td>▼ミュウミュウ財布、早速のお見積もりありがとうございます。\\r\\nこちらは、表面のみご提案い...</td>\n",
       "      <td>【初めてご利用の方につきまして】\\r\\nhttps://kawasyuri.com/comp...</td>\n",
       "      <td>44206</td>\n",
       "      <td>画像で見ますと、クレンジング及び全体的な補色、艶感を調整する事で、概ね見栄え良く修復可能かと...</td>\n",
       "      <td>46910</td>\n",
       "      <td>922</td>\n",
       "    </tr>\n",
       "  </tbody>\n",
       "</table>\n",
       "</div>"
      ],
      "text/plain": [
       "                                       internal_memo  \\\n",
       "0  ▼ミュウミュウ財布、早速のお見積もりありがとうございます。\\r\\nこちらは、表面のみご提案い...   \n",
       "1  ▼ミュウミュウ財布、早速のお見積もりありがとうございます。\\r\\nこちらは、表面のみご提案い...   \n",
       "2  ▼ミュウミュウ財布、早速のお見積もりありがとうございます。\\r\\nこちらは、表面のみご提案い...   \n",
       "3  ▼ミュウミュウ財布、早速のお見積もりありがとうございます。\\r\\nこちらは、表面のみご提案い...   \n",
       "\n",
       "                                       customer_memo  \\\n",
       "0  【初めてご利用の方につきまして】\\r\\nhttps://kawasyuri.com/comp...   \n",
       "1  【初めてご利用の方につきまして】\\r\\nhttps://kawasyuri.com/comp...   \n",
       "2  【初めてご利用の方につきまして】\\r\\nhttps://kawasyuri.com/comp...   \n",
       "3  【初めてご利用の方につきまして】\\r\\nhttps://kawasyuri.com/comp...   \n",
       "\n",
       "   order_id_or_management_number  \\\n",
       "0                          44206   \n",
       "1                          44206   \n",
       "2                          44206   \n",
       "3                          44206   \n",
       "\n",
       "                                  expert_description  order_items_id  \\\n",
       "0  革修復どっとコムの齋藤と申します。\\r\\n\\r\\nこの度は、お問い合わせ頂きまして、誠に有難...           46909   \n",
       "1  画像を見ての判る範囲でご案内申し上げます。\\r\\n\\r\\n状態から致しますと、見栄えを良くす...           46944   \n",
       "2  画像で見ますと、クレンジング及び全体的な補色、艶感を調整する事で、概ね見栄え良く修復可能かと...           46910   \n",
       "3  画像で見ますと、クレンジング及び全体的な補色、艶感を調整する事で、概ね見栄え良く修復可能かと...           46910   \n",
       "\n",
       "   description_template_id  \n",
       "0                      405  \n",
       "1                      463  \n",
       "2                      836  \n",
       "3                      922  "
      ]
     },
     "execution_count": 11,
     "metadata": {},
     "output_type": "execute_result"
    }
   ],
   "source": [
    "df.head()  # Display first few rows of the DataFrame for verification"
   ]
  },
  {
   "cell_type": "markdown",
   "metadata": {},
   "source": [
    "# Same code just translation feature added (Any hybrid query test)"
   ]
  },
  {
   "cell_type": "code",
   "execution_count": 12,
   "metadata": {},
   "outputs": [
    {
     "name": "stderr",
     "output_type": "stream",
     "text": [
      "/var/folders/05/dcqg5c4d6_b827xfj3z40j0w0000gn/T/ipykernel_1685/2542138813.py:53: UserWarning: pandas only supports SQLAlchemy connectable (engine/connection) or database string URI or sqlite3 DBAPI2 connection. Other DBAPI2 objects are not tested. Please consider using SQLAlchemy.\n",
      "  df = pd.read_sql(query, connection)\n"
     ]
    },
    {
     "name": "stdout",
     "output_type": "stream",
     "text": [
      "❌ Error while connecting or fetching: Execution failed on sql '\n",
      "SELECT\n",
      "  orders.id AS order_id,\n",
      "  orders.internal_memo AS internal_memo,\n",
      "  orders.customer_memo AS customer_memo,\n",
      "  order_items.description AS expert_description,\n",
      "  order_items.id AS order_items_id,\n",
      "  template_insert_histories.description_template_id\n",
      "FROM\n",
      "  orders\n",
      "JOIN\n",
      "  order_items ON orders.id = order_items.order_id\n",
      "JOIN\n",
      "  template_insert_histories ON order_items.id = template_insert_histories.order_item_id\n",
      "WHERE\n",
      "  orders.id = 44206,40394\n",
      "GROUP BY\n",
      "  template_insert_histories.description_template_id;\n",
      "': (1064, \"You have an error in your SQL syntax; check the manual that corresponds to your MariaDB server version for the right syntax to use near '40394\\nGROUP BY\\n  template_insert_histories.description_template_id' at line 15\")\n",
      "📊 Translating first 4 rows out of 4 total rows.\n",
      "🔁 Translating first 4 rows of 'internal_memo' ➡️ 'internal_memo_en' ...\n"
     ]
    },
    {
     "name": "stderr",
     "output_type": "stream",
     "text": [
      "Translating internal_memo: 100%|██████████| 4/4 [00:02<00:00,  1.56rows/s]\n"
     ]
    },
    {
     "name": "stdout",
     "output_type": "stream",
     "text": [
      "🔁 Translating first 4 rows of 'customer_memo' ➡️ 'customer_memo_en' ...\n"
     ]
    },
    {
     "name": "stderr",
     "output_type": "stream",
     "text": [
      "Translating customer_memo: 100%|██████████| 4/4 [00:01<00:00,  3.77rows/s]\n"
     ]
    },
    {
     "name": "stdout",
     "output_type": "stream",
     "text": [
      "🔁 Translating first 4 rows of 'expert_description' ➡️ 'expert_description_en' ...\n"
     ]
    },
    {
     "name": "stderr",
     "output_type": "stream",
     "text": [
      "Translating expert_description: 100%|██████████| 4/4 [00:06<00:00,  1.55s/rows]"
     ]
    },
    {
     "name": "stdout",
     "output_type": "stream",
     "text": [
      "📁 Excel file saved successfully as 'universal_table_translated.xlsx'\n"
     ]
    },
    {
     "name": "stderr",
     "output_type": "stream",
     "text": [
      "\n"
     ]
    }
   ],
   "source": [
    "# 📦 Step 1: Import required libraries\n",
    "import pandas as pd\n",
    "import pymysql\n",
    "from googletrans import Translator\n",
    "from tqdm import tqdm\n",
    "\n",
    "# 📌 User-defined: columns to translate\n",
    "columns_to_translate = {\n",
    "    \"internal_memo\": \"internal_memo_en\",\n",
    "    \"customer_memo\": \"customer_memo_en\",\n",
    "    \"expert_description\": \"expert_description_en\"\n",
    "}\n",
    "\n",
    "# 📌 Optional: set this to None to auto-use all rows\n",
    "num_rows_to_translate = 50\n",
    "\n",
    "# 🌐 Translator init\n",
    "translator = Translator()\n",
    "\n",
    "# 🔐 Step 2: Define your DB config\n",
    "db_config = {\n",
    "    'host': 'localhost',       # Local MySQL\n",
    "    'user': 'root',\n",
    "    'password': '',\n",
    "    'database': 'Leather_repair_db',\n",
    "    'port': 3306\n",
    "}\n",
    "\n",
    "# 🧾 Step 3: Write your SQL query\n",
    "query = \"\"\"\n",
    "SELECT\n",
    "  orders.id AS order_id,\n",
    "  orders.internal_memo AS internal_memo,\n",
    "  orders.customer_memo AS customer_memo,\n",
    "  order_items.description AS expert_description,\n",
    "  order_items.id AS order_items_id,\n",
    "  template_insert_histories.description_template_id\n",
    "FROM\n",
    "  orders\n",
    "JOIN\n",
    "  order_items ON orders.id = order_items.order_id\n",
    "JOIN\n",
    "  template_insert_histories ON order_items.id = template_insert_histories.order_item_id\n",
    "WHERE\n",
    "  orders.id = 44206,40394\n",
    "GROUP BY\n",
    "  template_insert_histories.description_template_id;\n",
    "\"\"\"\n",
    "\n",
    "# ⚙️ Step 4: Connect to DB and fetch data\n",
    "try:\n",
    "    connection = pymysql.connect(**db_config)\n",
    "    df = pd.read_sql(query, connection)\n",
    "    connection.close()\n",
    "    print(\"✅ Data fetched successfully!\")\n",
    "except Exception as e:\n",
    "    print(\"❌ Error while connecting or fetching:\", e)\n",
    "\n",
    "# 🔁 Set number of rows to translate\n",
    "if num_rows_to_translate is None:\n",
    "    num_rows_to_translate = len(df)\n",
    "    print(f\"📊 No row limit set. Translating all {num_rows_to_translate} rows.\")\n",
    "else:\n",
    "    # Ensure we don't exceed the actual number of rows\n",
    "    num_rows_to_translate = min(num_rows_to_translate, len(df))\n",
    "    print(f\"📊 Translating first {num_rows_to_translate} rows out of {len(df)} total rows.\")\n",
    "\n",
    "# 🌍 Translate selected columns\n",
    "for original_col, new_col in columns_to_translate.items():\n",
    "    if original_col in df.columns:\n",
    "        try:\n",
    "            print(f\"🔁 Translating first {num_rows_to_translate} rows of '{original_col}' ➡️ '{new_col}' ...\")\n",
    "            translated_col = []\n",
    "\n",
    "            # Create progress bar for the translation process\n",
    "            with tqdm(total=num_rows_to_translate, desc=f\"Translating {original_col}\", unit=\"rows\") as pbar:\n",
    "                for i, text in enumerate(df[original_col].astype(str)):\n",
    "                    if i < num_rows_to_translate:\n",
    "                        # Skip translation if text is empty or 'nan'\n",
    "                        if pd.isna(df[original_col].iloc[i]) or str(text).strip() == '' or str(text).lower() == 'nan':\n",
    "                            translated_text = \"\"\n",
    "                        else:\n",
    "                            try:\n",
    "                                translated_text = translator.translate(text, src='ja', dest='en').text\n",
    "                            except Exception as trans_err:\n",
    "                                translated_text = \"Translation Failed\"\n",
    "                        # Update progress bar\n",
    "                        pbar.update(1)\n",
    "                    else:\n",
    "                        translated_text = \"\"\n",
    "                    translated_col.append(translated_text)\n",
    "\n",
    "            df[new_col] = translated_col\n",
    "\n",
    "        except Exception as e:\n",
    "            print(f\"❌ Error translating '{original_col}': {e}\")\n",
    "            df[new_col] = \"Translation Failed\"\n",
    "    else:\n",
    "        print(f\"⚠️ Column '{original_col}' not found in DataFrame.\")\n",
    "        print(f\"📋 Available columns: {list(df.columns)}\")\n",
    "\n",
    "# 💾 Step 5: Save to Excel\n",
    "output_file = \"universal_table_translated.xlsx\"\n",
    "try:\n",
    "    df.to_excel(output_file, index=False)\n",
    "    print(f\"📁 Excel file saved successfully as '{output_file}'\")\n",
    "except Exception as e:\n",
    "    print(\"❌ Error while saving to Excel:\", e)"
   ]
  },
  {
   "cell_type": "markdown",
   "metadata": {},
   "source": [
    "# Create only 10 sample row from the hybrid query result for kaiser vai"
   ]
  },
  {
   "cell_type": "markdown",
   "metadata": {},
   "source": []
  },
  {
   "cell_type": "markdown",
   "metadata": {},
   "source": [
    "Oders and Order_items table theke expert_comment and folder_name or order_id ber kora:\n",
    "\n",
    "SELECT\n",
    "  orders.id AS order_id,\n",
    "  order_items.description AS expert_description\n",
    "FROM\n",
    "  orders\n",
    "JOIN\n",
    "  order_items ON orders.id = order_items.order_id\n",
    "WHERE\n",
    "  orders.id IN (\n",
    "    40394, 44206, 44459, 44548, 44574, 44752, 45125, 45127, 45802, 46383\n",
    ")\n",
    "\n",
    "\n",
    "\n",
    "\n",
    "\n",
    "\n"
   ]
  },
  {
   "cell_type": "markdown",
   "metadata": {},
   "source": [
    "User comment (Internal_memo) and expert comment (description) and corresponding images ber korar qurey 10 ta folder er jonno koresi:\n",
    "\n",
    "SELECT\n",
    "  orders.id AS order_id,\n",
    "  orders.internal_memo AS user_comment,\n",
    "  order_items.description AS expert_description\n",
    "FROM\n",
    "  orders\n",
    "JOIN\n",
    "  order_items ON orders.id = order_items.order_id\n",
    "WHERE\n",
    "  orders.id IN (\n",
    "    40394, 44206, 44459, 44548, 44574, 44752, 45125, 45127, 45802, 46383\n",
    ")\n"
   ]
  },
  {
   "cell_type": "code",
   "execution_count": null,
   "metadata": {},
   "outputs": [],
   "source": []
  },
  {
   "cell_type": "code",
   "execution_count": 18,
   "metadata": {},
   "outputs": [
    {
     "name": "stderr",
     "output_type": "stream",
     "text": [
      "/var/folders/05/dcqg5c4d6_b827xfj3z40j0w0000gn/T/ipykernel_1685/1415605139.py:49: UserWarning: pandas only supports SQLAlchemy connectable (engine/connection) or database string URI or sqlite3 DBAPI2 connection. Other DBAPI2 objects are not tested. Please consider using SQLAlchemy.\n",
      "  df = pd.read_sql(query, connection)\n"
     ]
    },
    {
     "name": "stdout",
     "output_type": "stream",
     "text": [
      "✅ Data fetched successfully!\n",
      "📊 No row limit set. Translating all 13 rows.\n",
      "🔁 Translating first 13 rows of 'internal_memo' ➡️ 'internal_memo_translated' ...\n"
     ]
    },
    {
     "name": "stderr",
     "output_type": "stream",
     "text": [
      "Translating internal_memo: 100%|██████████| 13/13 [00:04<00:00,  2.92rows/s]\n"
     ]
    },
    {
     "name": "stdout",
     "output_type": "stream",
     "text": [
      "🔁 Translating first 13 rows of 'description' ➡️ 'description_translated' ...\n"
     ]
    },
    {
     "name": "stderr",
     "output_type": "stream",
     "text": [
      "Translating description: 100%|██████████| 13/13 [00:15<00:00,  1.18s/rows]"
     ]
    },
    {
     "name": "stdout",
     "output_type": "stream",
     "text": [
      "📁 Excel file saved successfully as '10_sample_row_for_kaiser_vai.xlsx'\n"
     ]
    },
    {
     "name": "stderr",
     "output_type": "stream",
     "text": [
      "\n"
     ]
    }
   ],
   "source": [
    "\n",
    "\n",
    "\n",
    "\n",
    "# 📦 Step 1: Import required libraries\n",
    "import pandas as pd\n",
    "import pymysql\n",
    "from googletrans import Translator\n",
    "from tqdm import tqdm\n",
    "\n",
    "# 📌 User-defined: columns to translate\n",
    "columns_to_translate = {\n",
    "    \"internal_memo\": \"internal_memo_translated\",\n",
    "    \"description\": \"description_translated\"\n",
    "}\n",
    "\n",
    "# 📌 Optional: set this to None to auto-use all rows\n",
    "num_rows_to_translate = None\n",
    "\n",
    "# 🌐 Translator init\n",
    "translator = Translator()\n",
    "\n",
    "# 🔐 Step 2: Define your DB config\n",
    "db_config = {\n",
    "    'host': 'localhost',       # Local MySQL\n",
    "    'user': 'root',\n",
    "    'password': '',\n",
    "    'database': 'Leather_repair_db',\n",
    "    'port': 3306\n",
    "}\n",
    "\n",
    "# 🧾 Step 3: Write your SQL query\n",
    "query = \"\"\"\n",
    "\n",
    "SELECT\n",
    "  orders.id AS order_id,\n",
    "  orders.internal_memo AS internal_memo,\n",
    "  order_items.description AS description\n",
    "FROM\n",
    "  orders\n",
    "JOIN\n",
    "  order_items ON orders.id = order_items.order_id\n",
    "WHERE\n",
    "  orders.id IN (\n",
    "    40394, 44206, 44459, 44548, 44574, 44752, 45125, 45127, 45802, 46383\n",
    ")\n",
    "\n",
    "\"\"\"\n",
    "\n",
    "# ⚙️ Step 4: Connect to DB and fetch data\n",
    "try:\n",
    "    connection = pymysql.connect(**db_config)\n",
    "    df = pd.read_sql(query, connection)\n",
    "    connection.close()\n",
    "    print(\"✅ Data fetched successfully!\")\n",
    "except Exception as e:\n",
    "    print(\"❌ Error while connecting or fetching:\", e)\n",
    "\n",
    "# 🔁 Set number of rows to translate\n",
    "if num_rows_to_translate is None:\n",
    "    num_rows_to_translate = len(df)\n",
    "    print(f\"📊 No row limit set. Translating all {num_rows_to_translate} rows.\")\n",
    "else:\n",
    "    # Ensure we don't exceed the actual number of rows\n",
    "    num_rows_to_translate = min(num_rows_to_translate, len(df))\n",
    "    print(f\"📊 Translating first {num_rows_to_translate} rows out of {len(df)} total rows.\")\n",
    "\n",
    "# 🌍 Translate selected columns\n",
    "for original_col, new_col in columns_to_translate.items():\n",
    "    if original_col in df.columns:\n",
    "        try:\n",
    "            print(f\"🔁 Translating first {num_rows_to_translate} rows of '{original_col}' ➡️ '{new_col}' ...\")\n",
    "            translated_col = []\n",
    "\n",
    "            # Create progress bar for the translation process\n",
    "            with tqdm(total=num_rows_to_translate, desc=f\"Translating {original_col}\", unit=\"rows\") as pbar:\n",
    "                for i, text in enumerate(df[original_col].astype(str)):\n",
    "                    if i < num_rows_to_translate:\n",
    "                        # Skip translation if text is empty or 'nan'\n",
    "                        if pd.isna(df[original_col].iloc[i]) or str(text).strip() == '' or str(text).lower() == 'nan':\n",
    "                            translated_text = \"\"\n",
    "                        else:\n",
    "                            try:\n",
    "                                translated_text = translator.translate(text, src='ja', dest='en').text\n",
    "                            except Exception as trans_err:\n",
    "                                translated_text = \"Translation Failed\"\n",
    "                        # Update progress bar\n",
    "                        pbar.update(1)\n",
    "                    else:\n",
    "                        translated_text = \"\"\n",
    "                    translated_col.append(translated_text)\n",
    "\n",
    "            df[new_col] = translated_col\n",
    "\n",
    "        except Exception as e:\n",
    "            print(f\"❌ Error translating '{original_col}': {e}\")\n",
    "            df[new_col] = \"Translation Failed\"\n",
    "    else:\n",
    "        print(f\"⚠️ Column '{original_col}' not found in DataFrame.\")\n",
    "        print(f\"📋 Available columns: {list(df.columns)}\")\n",
    "\n",
    "# 💾 Step 5: Save to Excel\n",
    "output_file = \"10_sample_row_for_kaiser_vai.xlsx\"\n",
    "try:\n",
    "    df.to_excel(output_file, index=False)\n",
    "    print(f\"📁 Excel file saved successfully as '{output_file}'\")\n",
    "except Exception as e:\n",
    "    print(\"❌ Error while saving to Excel:\", e)\n"
   ]
  },
  {
   "cell_type": "code",
   "execution_count": 19,
   "metadata": {},
   "outputs": [
    {
     "data": {
      "application/vnd.microsoft.datawrangler.viewer.v0+json": {
       "columns": [
        {
         "name": "index",
         "rawType": "int64",
         "type": "integer"
        },
        {
         "name": "order_id",
         "rawType": "int64",
         "type": "integer"
        },
        {
         "name": "internal_memo",
         "rawType": "object",
         "type": "string"
        },
        {
         "name": "description",
         "rawType": "object",
         "type": "string"
        },
        {
         "name": "internal_memo_translated",
         "rawType": "object",
         "type": "string"
        },
        {
         "name": "description_translated",
         "rawType": "object",
         "type": "string"
        }
       ],
       "ref": "69f6e79a-fa2e-4275-9f95-262db3ea6398",
       "rows": [
        [
         "0",
         "40394",
         "鞄の内側の革から粉々落ちてしまうので一番気になります。それから色が落ちていて見た目の模様が薄く見える点、手引きが固くなっている部分、付属のむけた所です。",
         "革修復どっとコムの齋藤と申します。\r\n\r\nこの度は、お問合せ頂きまして誠に有難うございます。\r\n\r\n添付頂いた画像を拝見させて頂きました。\r\n\r\nお手数をお掛け下さり誠に有難うございます。\r\n\r\n画像を拝見して、判る範囲でご案内させて頂きます。\r\n\r\n状態を拝見しますと、長期保管中の湿度が原因と思われますが、合成皮革素材が加水分解を起こし、劣化した状態かと存じます。\r\n\r\n生地が捲れたり浮いた状態かと存じますので、劣化した生地を張替える修理が必要かと存じますが、概ね見栄えよく交換可能かと存じます。\r\n\r\n工程ですが、生地を交換するにあたり必要な箇所の縫製を、最小限でダメージを与えないよう慎重に解いて、生地を交換して縫製を戻す工程になります。\r\n\r\n状態によりますが、新しい生地で一から作り上げる工程と違い、生地の状態や構造で変わりますが、全く同じように戻すことが出来ない場合もございます。\r\n\r\n最善は尽くしておりますが、機能性(ご使用すること）を優先する修理となりますので、細部など製品の美観に影響が及ぶ場合がございます。\r\n\r\n\r\n口革のヌメ革が劣化しているかと存じます。\r\n\r\n交換の際に再縫製が必要になりますが、画像で見ますと、再縫製の際に、口革がボロボロになるため、口革交換も含めての修理が必要になります。\r\n\r\nご了承の上、ご検討頂きたく存じます。\r\n \r\n料金です。（税込）\r\n \r\n・口革交換が不要な状態の場合\r\n\r\n　内側張替　　24200円\r\n\r\n・口革交換が必要な場合\r\n\r\n 内側張替・口革製作交換\r\n\r\n　プラス 　　 6600円\r\n\r\n・ハンドル制作交換\r\n\r\n　2本　　　22000円\r\n\r\n張り替えとセット料金になります。\r\n　\r\n・どちらも合成皮革素材から、シャンタン生地（滑りのよい少し光沢のある布地）に変わります。\r\n\r\n※仕上がり感につきまして\r\n\r\n状態によりますが、新しい生地で一から作り上げる工程と違い、生地の状態や構造で変わりますが、全く同じように戻すことが出来ない場合もございます。\r\n\r\n最善は尽くしておりますが、機能性(ご使用すること）を優先する修理となりますので、細部など製品の美観に影響が及ぶ場合がございます。\r\n\r\n特に裏面に影響が出る場合がございます。\r\n\r\n※口革の交換につきましてできるだけ近い素材で製作交換いたしますが、レザーは全く同じ素材を\r\n入手できないため、同じヌメ革で類似素材に変わることをご了承の上、ご検討頂けたらと存じます。\r\n\r\n色合いにつきましては、真新しいヌメ革を使用しますと、既存部分と色合いに差が出て不自然な仕上がりになる為、少し焼けたヌメ革で交換させて頂いております。\r\n\r\n部分交換でも、真新しいヌメ革で交換するよりも違和感が出ないかと存じます。\r\n\r\n再縫製につきましては、生地を交換するにあたり必要な箇所の縫製を、最小限でダメージを与えないよう慎重に解いて、レザーや生地を交換して縫製を戻す工程になります。\r\n\r\n状態によりますが、新しい生地で一から作り上げる工程と違い、生地の状態や構造で変わりますが、全く同じように戻すことが出来ない場合もございます。\r\n\r\n機能性(ご使用すること）を優先する修理となりますので、細部など製品の美観に影響が及ぶ場合がございます。\r\n\r\n特に内側面や曲線、生地が入込み厚みがある部分にステッチのズレが出る場合が該当いたします。\r\n\r\n最善は尽くし慎重にさせていただいておりますが、手縫いですと、針が通らず、ミシンですと、生地の厚みがあり表面を重視する必要があるため、ご了承の上、ご検討頂きたく存じます。\r\n\r\n■納期：約45日程度　\r\n\r\nご不明な点や確認事項がございましたら、遠慮なくお申し出ください。\r\n\r\n※チャットにて、ご連絡いただけたらと存じます。\r\n\r\n【内側張替えについて】\r\n\r\nhttps://kawasyuri.com/curation/betabeta/\r\n\r\n【ルイヴィトン状態別修理について】\r\n\r\nhttps://kawasyuri.com/curation/%e3%83%ab%e3%82%a4%e3%83%b4%e3%82%a3%e3%83%88%e3%83%b3%e4%bf%ae%e7%90%86%e3%80%80%e7%8a%b6%e6%85%8b%e3%81%ab%e5%bf%9c%e3%81%98%e3%81%a6%e3%81%94%e6%8f%90%e6%a1%88%e3%81%a7%e3%81%8d%e3%82%8b%e4%ba%8b/",
         "This is the most concerning thing as it will fall off from the leather inside the bag.Also, there are the areas where the color has faded and the pattern looks lighter, the parts where the handle is hard, and the attached part.",
         "My name is Saito from Leather Repair Dot.com.\r\n\r\nThank you very much for your inquiry this time.\r\n\r\nI've seen the attached image.\r\n\r\nThank you very much for your trouble.\r\n\r\nWe will read the images and provide information as far as we can understand.\r\n\r\nLooking at the condition, it appears that the humidity during long-term storage is due to the synthetic leather material hydrolysis and deteriorated.\r\n\r\nI'm sure the fabric is rolled up or floating, so I think it's necessary to repair the deteriorated fabric by reupholstering it, but I think it's generally good looking and can be replaced.\r\n\r\nAs for the process, the sewing process is carefully dismantled in the areas necessary to replace the fabric to a minimum to avoid damage, then the fabric is replaced and the sewing is returned.\r\n\r\nDepending on the condition, unlike the process of creating a new fabric from scratch, the condition and structure of the fabric may change depending on the exact same condition, but it may not be possible to return it to the exact same condition.\r\n\r\nWe do our best, but as repairs are prioritized for functionality (use), the product may affect the aesthetic appearance of the product, such as details.\r\n\r\n\r\nI think the tanned leather in the mouth leather is deteriorating.\r\n\r\nRe-stitching is required when replacing the product, but looking at the images, the mouth leather will become tattered when re-stitching, so repairs will be required, including replacing the mouth leather.\r\n\r\nWe hope you will consider this after understanding this.\r\n\r\nIt's the price.(tax included)\r\n\r\n・If you do not need to replace the mouth leather\r\n\r\nInner replacement: 24,200 yen\r\n\r\n・If you need to replace the mouth leather\r\n\r\nReupholstery inside and replacement of mouth leather\r\n\r\nPlus 6,600 yen\r\n\r\n・Replacement of handles\r\n\r\n2 bottles: 22,000 yen\r\n\r\nReupholstery and set fees apply.\r\n\r\n- Both are made from synthetic leather to shantang fabric (sliding, slightly shiny fabric).\r\n\r\n*Regarding the finish\r\n\r\nDepending on the condition, unlike the process of creating a new fabric from scratch, the condition and structure of the fabric may change depending on the exact same condition, but it may not be possible to return it to the exact same condition.\r\n\r\nWe do our best, but as repairs are prioritized for functionality (use), the product may affect the aesthetic appearance of the product, such as details.\r\n\r\nThis may affect the back side in particular.\r\n\r\n*We will use materials as close as possible to replace the mouth leather, but the leather is made of the exact same material.\r\nWe hope you will consider this when considering that the same tanned leather will be replaced with similar materials as it is not available.\r\n\r\nAs for the color, if we use brand new tanned leather, the color will differ from the existing part and the color, resulting in an unnatural finish, so we will replace it with slightly burnt tanned leather.\r\n\r\nEven if you replace the part, I think it doesn't look strange than replacing it with brand new tanned leather.\r\n\r\nWhen re-stitching, the sewing process involves carefully dismantling the parts needed to replace the fabric to a minimum, so as not to cause damage, replacing the leather and fabric, and returning the sewing.\r\n\r\nDepending on the condition, unlike the process of creating a new fabric from scratch, the condition and structure of the fabric may change depending on the exact same condition, but it may not be possible to return it to the exact same condition.\r\n\r\nThis repair will prioritize functionality (use) and may affect the aesthetic appearance of the product, such as details.\r\n\r\nThis is especially true when the stitching is misaligned on the inner surface, curves, and areas where the fabric is thick and has a thickness.\r\n\r\nWe do our best and take care, but if you sew by hand, the needle will not pass through, and if you use a sewing machine, the fabric is thick and requires emphasis on the surface, so we would appreciate your understanding before considering this.\r\n\r\n■Delivery time: Approximately 45 days\r\n\r\nIf you have any questions or concerns, please feel free to let us know.\r\n\r\n*We hope you can contact us via chat.\r\n\r\n[Regarding inside reupholstery]\r\n\r\nhttps://kawasyuri.com/curation/betabeta/\r\n\r\n[Regarding Louis Vuitton condition repairs]\r\n\r\nhttps://kawasyuri.com/curation/%e3%83%ab%e3%82%a4%e3%83%b4%e3%82%a3%e3%83%88%e3%83%b3%e4%bf%ae%e7%90%86%e3%80%80%e7%8a%b6%e6%85%8b%e3%81%ab%e5%bf%9c%e3%81%98%e3%81%a6%e3%81%94%e6%8f%90%e6%a1%88%e3%81%a7%e3%81%8d%e3%82%8b%e4%ba%8b/"
        ],
        [
         "1",
         "40394",
         "鞄の内側の革から粉々落ちてしまうので一番気になります。それから色が落ちていて見た目の模様が薄く見える点、手引きが固くなっている部分、付属のむけた所です。",
         "ヌメ革の状態を見ますと制作交換が必要な状態かと存じます。\r\n\r\n交換する部位につきましては、状態を拝見させていただき、ご希望もお伺いさせて頂いた上で、確定させていただく流れになります。\r\n\r\nできるだけ近い素材で製作交換いたしますが、レザーは全く同じ素材を入手できないため、同じヌメ革ですが、類似素材に変わることをご了承の上、ご検討頂けたらと存じます。\r\n\r\n細部など、全く同じように製作ができない場合がございますが気にならない範囲かと存じます。\r\n\r\n色合いですが、ヌメ革の新しいアイボリーですと不自然になるため、少し焼けた色合いのヌメ革を使用しております。\r\n\r\n料金です。（税込）\r\n\r\n\r\n〇部分製作交換の場合\r\n\r\n・ハンドル2本　18700円\r\n\r\n・根革4箇所　　 22000円\r\n\r\n・底面全体　　   33000円\r\n\r\n〇上記部位全交換の場合\r\n\r\nヌメ革全交換　　 　55000円\r\n\r\n\r\n※上記全交換をご希望頂かない場合、ご希望の部位をお知らせ頂けましたら、ご希望に応じて対応させていただきますので、ご希望の部位をお申し出頂けたらと存じます。\r\n\r\n改めて、お見積もりをさせていただきます。\r\n\r\n\r\n\r\n機能面で必要な部分と見栄えのバランスでご検討いただけたらと存じます。\r\n\r\n\r\n当店は全て、手作りで制作させて頂いております。\r\n\r\n八方ミシン、工業用ミシンを用いて縫製を施しておりますが、若干の手作り感が出る場合や細部の美観に影響が出る場合がございます。\r\n\r\n気にならない範囲かとは存じますが、ご了承の上、ご検討いただきたく存じます。\r\n\r\n\r\n■納期：45日程度\r\n\r\nご不明な点や確認事項がございましたら、遠慮なくお申し出ください。\r\n\r\n※チャットにて、ご連絡いただけたらと存じます。\r\n\r\nそれでは、ご検討頂きたくお願い申し上げます。\r\n\r\n【ルイヴィトンをモデルに状態別の修理について】\r\n\r\nhttps://kawasyuri.com/curation/%e3%83%ab%e3%82%a4%e3%83%b4%e3%82%a3%e3%83%88%e3%83%b3%e4%bf%ae%e7%90%86%e3%80%80%e7%8a%b6%e6%85%8b%e3%81%ab%e5%bf%9c%e3%81%98%e3%81%a6%e3%81%94%e6%8f%90%e6%a1%88%e3%81%a7%e3%81%8d%e3%82%8b%e4%ba%8b/\r\n\r\n\r\n【ブランド別の事例で確認】\r\n\r\nhttps://kawasyuri.com/curation/mottainai%e3%80%8c%e3%82%82%e3%81%a3%e3%81%9f%e3%81%84%e3%81%aa%e3%81%84%e3%80%8d%e3%81%af%e4%b8%96%e7%95%8c%e3%81%ae%e5%85%b1%e9%80%9a%e8%aa%9e%ef%bc%81%e3%83%ac%e3%82%b6%e3%83%bc%e3%81%ae%e3%83%90/",
         "This is the most concerning thing as it will fall off from the leather inside the bag.Also, there are the areas where the color has faded and the pattern looks lighter, the parts where the handle is hard, and the attached part.",
         "Looking at the condition of the tanned leather, it seems that it is necessary to produce and replace it.\r\n\r\nRegarding the area to be replaced, we will check the condition and ask you about your request before making a decision.\r\n\r\nWe will produce and replace the material as close as possible, but since we cannot obtain the exact same material for the leather, we hope you will consider this when considering that although the same tanned leather will be replaced by similar materials.\r\n\r\nThere may be cases where production is not possible in the exact same way, but I think it is not a concern.\r\n\r\nAs for the color, new ivory tanned leather will be unnatural, so we use a slightly burnt-down tanned leather.\r\n\r\nIt's the price.(tax included)\r\n\r\n\r\n○For partial production and replacement\r\n\r\n・2 handles, 18,700 yen\r\n\r\n・4 locations of root leather 22,000 yen\r\n\r\n・All bottom: 33,000 yen\r\n\r\n〇When replacing all of the above parts\r\n\r\nComplete replacement of tanned leather 55,000 yen\r\n\r\n\r\n*If you do not wish to have all the above exchanges, please let us know the desired area and we will do our best to accommodate your request, so we would appreciate your request for information on the area you want.\r\n\r\nWe will provide you with a quote again.\r\n\r\n\r\n\r\nWe hope you will consider the balance between the required functionality and the appearance.\r\n\r\n\r\nAll of our products are handmade.\r\n\r\nAlthough the sewing is done using Happo sewing machines and industrial sewing machines, there may be slight handmade appearances and the aesthetic appearance of the details.\r\n\r\nI know this is within the scope of your concern, but I would appreciate your understanding and consideration.\r\n\r\n\r\n■Delivery time: Approximately 45 days\r\n\r\nIf you have any questions or concerns, please feel free to let us know.\r\n\r\n*We hope you can contact us via chat.\r\n\r\nNow, we ask for your consideration.\r\n\r\n[Repairs by condition using Louis Vuitton as a model]\r\n\r\nhttps://kawasyuri.com/curation/%e3%83%ab%e3%82%a4%e3%83%b4%e3%82%a3%e3%83%88%e3%83%b3%e4%bf%ae%e7%90%86%e3%80%80%e7%8a%b6%e6%85%8b%e3%81%ab%e5%bf%9c%e3%81%98%e3%81%a6%e3%81%94%e6%8f%90%e6%a1%88%e3%81%a7%e3%81%8d%e3%82%8b%e4%ba%8b/\r\n\r\n\r\n[Confirmed by brand example]\r\n\r\nhttps://kawasyuri.com/curation/mottainai%e3%80%8c%e3%82%82%e3%81%a3%e3%81%9f%e3%81%84%e3%81%aa%e3%81%84%e3%80%8d%e3%81%af%e4%b8%96%e7%95%8c%e3%81%ae%e5%85%b1%e9%80%9a%e8%aa%9e%ef%bc%81%e3%83%ac%e3%82%b6%e3%83%bc%e3%81%ae%e3%83%90/"
        ],
        [
         "2",
         "44206",
         "▼ミュウミュウ財布、早速のお見積もりありがとうございます。\r\nこちらは、表面のみご提案いただいたメンテナンスをお願いしたいと思います。\r\nグッチの財布は内部もあわせて、補修をお願いしたいと\r\n思います。\r\n今回は、この２点をお願いいたします。\r\n\r\n\r\n10年位使用しておらず、\r\n札入れ、小銭入れの中にカビがあります。\r\n思い出がある品物のため、また使いたいと思っています。\r\nよろしくお願いします。",
         "革修復どっとコムの齋藤と申します。\r\n\r\nこの度は、お問い合わせ頂きまして、誠に有難うございます。\r\n\r\n添付頂いた画像を拝見させて頂きました。\r\n\r\nお手数をお掛けいただきまして、誠に有難うございます。\r\n\r\n状態を見ますと、外周のふち革を交換する修理とキャンパス部分のクレンジング、他レザー部分のクレンジングと補色が必要になるかと存じます。\r\n\r\n上記の工程で、概ね修復可能かと存じますが、以下の通り、工程など詳細をご確認いただきまして、ご検討いただけたらと存じます。\r\n\r\n■ふち革部分の修理につきまして\r\n\r\n状態を見ますと、外周トリミング（ふち革）を交換する修理が必要な状態かと存じますが、劣化具合などから、以下の点、ご了承いただく必要がございます。\r\n\r\n新品の生地で一から作る工程と違い劣化した上から縫い付ける上で、直線のふち革を縫い付けていきますが、レザーを直線にすると、お財布自体に歪みが出てしまいます。\r\n\r\n歪みをどこかに逃がす必要があるため、裏面にレザーの歪みが出てしまいます。\r\n\r\n表生地と裏生地を重ねて縫い込みする上で綺麗なラインが出せない場合があるため、細部の美観に影響がある仕上がりになってしまいます。\r\n\r\n使用するレザーにつきましては、違和感の出ない範囲の類似のレザーにて制作させていただきます。\r\n\r\nご了承の上、ご検討を頂きたく存じます。\r\n\r\n▽料金です。（税込）\r\n\r\nふち革製作交換 　29700円\r\n\r\n■クレンジングと補色につきまして\r\n\r\n・キャンパス部分のメンテナンス\r\n\r\n全体的なクレンジングの後にシミヌキを施すメンテナンスになります。\r\n\r\n擦れやキズがございますと、残りますがサッパリとして現状よりは良くなるかと存じます。\r\n\r\n・レザー部分のメンテナンス\r\n\r\n※レザーは、シミが浸透してしまうため、完全に修復することは難しく存じますが、素材を痛めない範囲でしみ抜きを施し、浸透したシミを染色補正で目立たなくすることで、擦り傷や色褪せも含め、現状よりは良くなるかと存じます。\r\n\r\n画像で見ますと、概ね修復可能かと存じます。\r\n\r\n革の構造ですが、大きく分けますと、3つの層に分かれております。\r\n\r\n①革\r\n②革の上にバインダー層（着色された層）\r\n③バインダー層の上にトップ層（光沢調整と色止めの役割がある層）\r\n\r\n上記の様に構成されているレザーになります。\r\n\r\n工程でございますが、クレンジングの後、バインダー層に馴染むように補色を施し、艶感を調整するメンテナンスになります。\r\n\r\n上記の工程で、仕上がり感としまして考えられる点がございます。\r\n\r\n・凹み傷や表面が捲れ革まで達している深い傷、革の裂け破れは、痕が残る場合がございます。\r\n\r\n・革シボ（しわ状の柄や革のシワ）の凹凸が擦れて無くなっている場合、ツルっとした感が出る場合がございます。\r\n　\r\n・シミが革に深く浸透している場合、新たに作る表面層を出来るだけ薄く作り、質感、風合いを優先しますので、薄く透けた感じで残る場合がございます。\r\n　極端に色褪せしたキワも薄く透けた感じで残る場合もございます。\r\n\r\n・若干ですが、質感が硬くなるなど変わる場合がございます。\r\n\r\n・傷、しみを隠す為に表面層を厚くしたり染料の濃度を濃くしますと、革シボ（しわ状の柄や革のシワ）の凹凸や革のシワが無くなり、不自然な仕上がりになる為、質感を重視し、バランスを見ながらの修復なります。\r\n\r\n上記の事が考えられますが、現状より良くするメンテナンスとしてお考え頂けたらと存じます。\r\n\r\n色合いにつきましては、状態の良い部分に合わせ配合させて頂きます。\r\n\r\n画像で判断出来ない部分もある為、細かな部分につきましては、実際に拝見させて頂いてから、ご案内させて頂きます。\r\n\r\nご不明な点は遠慮なくお申し出ください。\r\n\r\n・料金です。（税込）\r\n\r\n全体クレンジング・レザー銀面生成（染め直し・艶調整）\r\n\r\n11000円～13200円まで\r\n\r\n■納期：約50日程度\r\n\r\nご不明な点や確認事項がございましたら、遠慮なくお申し出ください。\r\n\r\n※チャットにて、ご連絡いただけたらと存じます。\r\n\r\n【事例で確認】\r\n\r\n https://kawasyuri.com/curation/%e3%82%b0%e3%83%83%e3%83%81%e8%b2%a1%e5%b8%83%e3%81%ae%e3%80%8e%e3%81%b5%e3%81%a1%e5%91%a8%e3%82%8a%e3%81%ae%e9%9d%a9%e3%80%8f%e3%81%8c%e3%83%9c%e3%83%ad%e3%83%9c%e3%83%ad%e3%81%ab%e3%81%aa%e3%81%a3/",
         "▼Thank you for your quick estimate for Miu Miu Wallet.\r\nFor this, we would like to ask for maintenance that was proposed only on the surface.\r\nI would like to ask for repairs to the inside of my Gucci wallet.\r\nI think so.\r\nThis time, I would like to ask you about these two points.\r\n\r\n\r\nI haven't used it for about 10 years\r\nThere is mold inside the billfold and coin purse.\r\nI would like to use it again as it has memories.\r\nthank you.",
         "My name is Saito from Leather Repair Dot.com.\r\n\r\nThank you very much for contacting us this time.\r\n\r\nI've seen the attached image.\r\n\r\nThank you very much for your trouble.\r\n\r\nLooking at the condition, we believe that repairs will be required to replace the outer edges, cleansing the canvas part, cleansing the other leather parts, and complementary colors.\r\n\r\nWe believe that the above steps can generally be repaired, but we hope you will check the details of the process and consider it as follows.\r\n\r\n■Repair of the edge leather part\r\n\r\nLooking at the condition, we believe that repairs to replace the outer trimming (edge ​​leather), but due to deterioration, we need to be aware of the following points.\r\n\r\nUnlike the process of making it from scratch with new fabric, the straight edges are sewn on top of the worn-out, but if the leather is made straight, the wallet itself will become warped.\r\n\r\nBecause the distortion needs to be released somewhere, the leather distortion will appear on the back.\r\n\r\nWhen sewing the outer and inner fabrics together, there may be times when you cannot create beautiful lines, which will affect the aesthetics of the details.\r\n\r\nThe leather used will be made from similar leather that does not appear out of discomfort.\r\n\r\nWe would like you to consider this after understanding.\r\n\r\n▽Prices.(tax included)\r\n\r\nFurniture leather production and replacement 29,700 yen\r\n\r\n■Cleansing and complementary colors\r\n\r\n- Maintenance of campus\r\n\r\nThis is a maintenance process that involves applying stains after the overall cleansing.\r\n\r\nIf there are any scratches or scratches, it will remain, but it will be refreshing and improve from the current situation.\r\n\r\n- Maintenance of the leather part\r\n\r\n*It is difficult to completely repair leather as stains will penetrate, but by removing the stains to the extent that will not damage the material, we believe that by making it less noticeable by dyeing correction, it will improve the current situation, including scratches and fading.\r\n\r\nLooking at the images, I think it can generally be repaired.\r\n\r\nThe leather structure can be broadly divided into three layers.\r\n\r\n①Leather\r\n②Binder layer (colored layer) on top of leather\r\n③ Top layer on top of the binder layer (a layer that plays roles in gloss adjustment and color fixing)\r\n\r\nThe leather is constructed as above.\r\n\r\nAs for the process, after cleansing, supplemental colors are applied to the binder layer to blend in, and maintenance is performed to adjust the glossiness.\r\n\r\nThere are some points that can be considered as a finishing touch in the above process.\r\n\r\n- Scrats may remain indented, deep scratches that have rolled up the surface and reach the leather, or tears in the leather.\r\n\r\n-If the unevenness of the leather creases (wrinkle-like patterns and leather wrinkles) are rubbed and gone, it may give a smooth look.\r\n\r\n-If stains penetrate deeply into the leather, the newly created surface layer is made as thin as possible, prioritizing the texture and texture, so it may remain thin and transparent.\r\nEven extremely faded corners may remain thin and see-through.\r\n\r\n・There may be slight changes in texture, such as stiffness.\r\n\r\n- If you thicken the surface layer or increase the concentration of dye to hide scratches and stains, the unevenness of the leather (wrinkle-like patterns and wrinkles) and leather wrinkles will disappear, resulting in an unnatural finish, so you can restorate the product while focusing on texture and looking at the balance.\r\n\r\nThe above are possible, but we hope you will consider this as a maintenance that will improve the current situation.\r\n\r\nThe color will be blended according to the good condition.\r\n\r\nThere are some parts that cannot be judged from the images, so we will inform you of the details after you have actually seen them.\r\n\r\nPlease feel free to let us know if you have any questions.\r\n\r\n・Prices.(tax included)\r\n\r\nOverall cleansing, leather silver surface generation (re-dyeing, gloss adjustment)\r\n\r\nFrom 11,000 yen to 13,200 yen\r\n\r\n■Delivery time: Approximately 50 days\r\n\r\nIf you have any questions or concerns, please feel free to let us know.\r\n\r\n*We hope you can contact us via chat.\r\n\r\n[Confirmed by case]\r\n\r\nhttps://kawasyuri.com/curation/%e3%82%b0%e3%83%e3%83%81%e8%b2%a1%e5%b8%83%e3%81%ae%e3%80%8e%e3%81%a1%e5%91%a8%e3%82%8a%e3%81%ae%e9%9d%a9%e3%80%8f%e3%81%8c%e3%83%9c%e3%83%ad%e3%83%9c%e3%83%ad%e3%81%ab%e3%81%aa%e3%81%a3/"
        ],
        [
         "3",
         "44206",
         "▼ミュウミュウ財布、早速のお見積もりありがとうございます。\r\nこちらは、表面のみご提案いただいたメンテナンスをお願いしたいと思います。\r\nグッチの財布は内部もあわせて、補修をお願いしたいと\r\n思います。\r\n今回は、この２点をお願いいたします。\r\n\r\n\r\n10年位使用しておらず、\r\n札入れ、小銭入れの中にカビがあります。\r\n思い出がある品物のため、また使いたいと思っています。\r\nよろしくお願いします。",
         "画像で見ますと、クレンジング及び全体的な補色、艶感を調整する事で、概ね見栄え良く修復可能かと存じます。\r\n\r\n画像のレザーは、製品化される前に革の表面に加工がされているレザーになります。\r\n\r\n分かりやすく申し上げますと、3つの層に分かれております。\r\n\r\n①革\r\n②革の上にバインダー層（着色された層）\r\n③バインダー層の上にトップ層（色止めや光沢感など調整されている層）\r\n\r\n上記の様に構成されているレザーになります。\r\n\r\nクレンジングの後、擦れ、色あせ、変色を目立たなくするため、必要に応じ、バインダー層に馴染むように補色を施し、艶感の調整と色止めの役割もあるトップ層のコート加工を施すメンテナンスになります。\r\n\r\n上記の工程で、仕上がり感としまして考えられる点がございます。\r\n\r\n・凹み傷や表面が捲れ革まで達している深い傷、革の裂け破れは、痕が残る場合がございます。\r\n\r\n・擦れにより革シボ（しわ状の柄や革のシワ）の凹凸（エンボス）が擦れて無くなっている場合、ツルっとした感が出る場合がございます。\r\n　\r\n・シミが革に深く浸透している場合、新たに作る表面層を出来るだけ薄く作り、質感、風合いを優先しますので、薄く透けた感じで残る場合がございます。\r\n　極端に色褪せしたキワも薄く透けた感じで残る場合もございます。\r\n\r\n・若干ですが、質感が硬くなるなど変わる場合がございます。\r\n\r\n・ご使用による型崩れやシワ感は、癖になっている可能性があるのでお直しする事が出来ない可能性がございます。\r\n\r\n・傷、しみを隠す為に表面層を厚くしたり染料の濃度を濃くしますと、革シボ（しわ状の柄や革のシワ）の凹凸(エンボス）や革のシワが無くなり、不自然な仕上がりになる為、質感を重視し、バランスを見ながらの修復なります。\r\n\r\n色合いにつきましては、状態の良い部分に合わせ配合させて頂きます。\r\n\r\n画像で判断出来ない部分やその他、工程を進めながら判断をさせて頂く事項もございます。\r\n\r\n概ね見栄えよくメンテナンス可能かと存じますが、上記の件、ご了承の上、ご検討いただきたく存じます。\r\n\r\n------------------------------------------------------------\r\n料金です。（税込）\r\n\r\nクレンジング・しみ抜き・銀面生成（染め直し・艶調整）\r\n\r\n表面　22000円まで\r\n\r\n※内部につきまして\r\n\r\n上記の工程は、消臭やほこり飛ばしなど、お掃除的な\r\n　　\r\nクレンジングになります。\r\n\r\nそのため、汚れやシミが残る場合がございます。\r\n\r\nサッパリさせる範囲のメンテナンスとして、\r\n\r\nお考え頂けたらと存じます。\r\n\r\n・内部にシミがありしみ抜きをご希望いただく場合\r\n\r\n内部メンテナンス　プラス　6600円～8800円まで\r\n\r\nご希望の場合、お申し出頂けたらと存じます。\r\n\r\n・ハンドルふち周りの併せを隠すコーティング\r\n\r\nふち周りの革と革の袷を隠すコーティングのような\r\n\r\n加工がされた部分をバニッシュ(コバ)と言います。\r\n\r\n再加工することで、概ね修復可能かと存じます。\r\n\r\n仕上り感としまして、キズを隠すために、厚く盛り付けしますと、\r\n\r\nひび割れしやすくなる為、現状より良くする\r\n\r\nメンテナンスとしてお考え頂けたらと存じます。\r\n\r\n料金です。（税込）\r\n\r\nバニッシュ（コバ）加工　8800円～9900円まで\r\n\r\n状態と範囲で料金が変わります。\r\n\r\n軽傷な場合、上記より低くなる場合もございます。\r\n\r\nご希望に応じてお選びいただく工程になります。\r\n\r\n【バニッシュについて】\r\n\r\nhttps://kawasyuri.com/curation/vanish/\r\n\r\n【銀面生成とは？？】\r\n\r\nhttps://kawasyuri.com/curation/ginmenseisei/\r\n\r\n■納期：約1ヶ月程度\r\n\r\n上記の通り、わかる範囲でご案内させていただきます。\r\n\r\n今後の流れとしましては、お品物を実際に見て、メンテナンス内容など、ご要望をお伺いさせていただいた上でメンテナンスを進めさせていただく流れになります。\r\n\r\nご不明な点や確認事項がございましたら、遠慮なくお申し出ください。\r\n\r\n※チャットにて、ご連絡いただけたらと存じます。\r\n\r\nそれでは、ご検討頂きたくお願い申し上げます。\r\n\r\n【ブランド別の事例で確認】\r\n\r\nhttps://kawasyuri.com/curation/mottainai%e3%80%8c%e3%82%82%e3%81%a3%e3%81%9f%e3%81%84%e3%81%aa%e3%81%84%e3%80%8d%e3%81%af%e4%b8%96%e7%95%8c%e3%81%ae%e5%85%b1%e9%80%9a%e8%aa%9e%ef%bc%81%e3%83%ac%e3%82%b6%e3%83%bc%e3%81%ae%e3%83%90/",
         "▼Thank you for your quick estimate for Miu Miu Wallet.\r\nFor this, we would like to ask for maintenance that was proposed only on the surface.\r\nI would like to ask for repairs to the inside of my Gucci wallet.\r\nI think so.\r\nThis time, I would like to ask you about these two points.\r\n\r\n\r\nI haven't used it for about 10 years\r\nThere is mold inside the billfold and coin purse.\r\nI would like to use it again as it has memories.\r\nthank you.",
         "Looking at the image, I think it can be repaired in a generally good-looking way by adjusting the cleansing and overall complementary color and luster.\r\n\r\nThe leather shown in the image is leather that has been processed on the surface of the leather before it is commercialized.\r\n\r\nTo put it simply, it is divided into three layers.\r\n\r\n①Leather\r\n②Binder layer (colored layer) on top of leather\r\n③ Top layer on top of the binder layer (layers with color fixing and glossiness adjusted)\r\n\r\nThe leather is constructed as above.\r\n\r\nAfter cleansing, in order to make scuffs, fading and discoloration less noticeable, if necessary, supplemental colors are applied to the binder layer to fit in, and maintenance is performed by coating the top layer, which also serves as a way to adjust the luster and to prevent color.\r\n\r\nThere are some points that can be considered as a finishing touch in the above process.\r\n\r\n- Scrats may remain indented, deep scratches that have rolled up the surface and reach the leather, or tears in the leather.\r\n\r\n-If the unevenness (emboss) of the leather (wrinkle-like patterns and leather wrinkles) have been rubbed and gone due to rubbing, a smooth look may appear.\r\n\r\n-If stains penetrate deeply into the leather, the newly created surface layer is made as thin as possible, prioritizing the texture and texture, so it may remain thin and transparent.\r\nEven extremely faded corners may remain thin and see-through.\r\n\r\n・There may be slight changes in texture, such as stiffness.\r\n\r\n-The loss of shape and wrinkles caused by use may have become a habit, so it may not be possible to fix them.\r\n\r\n- If you thicken the surface layer or increase the concentration of dye to hide scratches and stains, the unevenness of the leather (wrinkle-like patterns and wrinkles) and the leather wrinkles will disappear, resulting in an unnatural finish, so you can restorate it while focusing on texture and looking at the balance.\r\n\r\nThe color will be blended according to the good condition.\r\n\r\nThere are some areas that cannot be judged based on images, and other matters that we will make decisions as we proceed with the process.\r\n\r\nWe believe that the product will generally look good and maintain well, but we hope you will understand the above and consider it.\r\n\r\n----------------------------------------------------------------------------------------------------------------------------------------------------------------------------------------------------------------------------------------------------------------\r\nIt's the price.(tax included)\r\n\r\nCleansing, stain removal, silver surface formation (re-dyeing, gloss adjustment)\r\n\r\nSurface: Up to 22,000 yen\r\n\r\n*Regarding the inside\r\n\r\nThe above steps include cleaning and deodorizing and dust removal.\r\n\r\nIt will be a cleanser.\r\n\r\nTherefore, there may be dirt and stains left.\r\n\r\nAs maintenance to the area to be cleaned,\r\n\r\nI hope you will think about it.\r\n\r\n・If you would like to remove stains inside and stains\r\n\r\nInternal maintenance plus 6,600 yen to 8,800 yen\r\n\r\nIf you would like, please let us know.\r\n\r\n- Coating that hides the mixing around the edge of the handle\r\n\r\nIt looks like a coating that hides the leather and leather around the edges\r\n\r\nThe part that has been processed is called a vanish.\r\n\r\nI think it can generally be repaired by reworking.\r\n\r\nAs a finish, if you place it thickly to hide scratches,\r\n\r\nIt's more likely to crack, so it's better than it is now\r\n\r\nI hope you can consider this as maintenance.\r\n\r\nIt's the price.(tax included)\r\n\r\nVanish (edge) processing: 8,800 yen to 9,900 yen\r\n\r\nPrices vary depending on the condition and range.\r\n\r\nIf there is minor injuries, the product may be lower than the above.\r\n\r\nYou will be able to choose according to your preference.\r\n\r\n[About Bunish]\r\n\r\nhttps://kawasyuri.com/curation/vanish/\r\n\r\n[What is silver surface generation??】\r\n\r\nhttps://kawasyuri.com/curation/ginmenseisei/\r\n\r\n■Delivery time: Approximately 1 month\r\n\r\nAs mentioned above, we will provide you with information as far as you can understand.\r\n\r\nAs for the future, we will actually look at the items, listen to your requests, and proceed with the maintenance after proceeding with the details of the maintenance.\r\n\r\nIf you have any questions or concerns, please feel free to let us know.\r\n\r\n*We hope you can contact us via chat.\r\n\r\nNow, we ask for your consideration.\r\n\r\n[Confirmed by brand example]\r\n\r\nhttps://kawasyuri.com/curation/mottainai%e3%80%8c%e3%82%82%e3%81%a3%e3%81%9f%e3%81%84%e3%81%aa%e3%81%84%e3%80%8d%e3%81%af%e4%b8%96%e7%95%8c%e3%81%ae%e5%85%b1%e9%80%9a%e8%aa%9e%ef%bc%81%e3%83%ac%e3%82%b6%e3%83%bc%e3%81%ae%e3%83%90/"
        ],
        [
         "4",
         "44206",
         "▼ミュウミュウ財布、早速のお見積もりありがとうございます。\r\nこちらは、表面のみご提案いただいたメンテナンスをお願いしたいと思います。\r\nグッチの財布は内部もあわせて、補修をお願いしたいと\r\n思います。\r\n今回は、この２点をお願いいたします。\r\n\r\n\r\n10年位使用しておらず、\r\n札入れ、小銭入れの中にカビがあります。\r\n思い出がある品物のため、また使いたいと思っています。\r\nよろしくお願いします。",
         "画像を見ての判る範囲でご案内申し上げます。\r\n\r\n状態から致しますと、見栄えを良くすることは可能かと存じます。\r\n\r\n画像で頂いた革の構造ですが、大きく分けますと、3つの層に分かれております。\r\n\r\n①革\r\n②革の上にバインダー層（着色された層）\r\n③バインダー層の上にトップ層（エナメル層）\r\n\r\n上記の様に構成されています。\r\n\r\n工程を簡単に申し上げますと、クレンジングで、表面の汚れを落とし、下処理とバインダー層の着色補正を施し、エナメル加工を施す工程になります。\r\n\r\n仕上がり感としまして考えられる点がございます。\r\n\r\n・色合いが濃いめに仕上がる場合がございます。\r\n\r\nレザーへの馴染み方で変わりますが、無理に明るい色合いにすると不自然な仕上りになるため、馴染み方を見ながら調整させていただく流れとなります。\r\n\r\n・型押しのウロコ間に色合いの濃淡の差が無くなる場合がございます。\r\n\r\n・深いキズは、修理痕が残る場合がございます。\r\n\r\n・シミが革に深く浸透している場合、新たに作る表面層を出来るだけ薄く作り、質感、風合いを優先しますので、薄く透けた感じで残る場合がございます。\r\n\r\n濃く深く浸透したシミが色合いの濃淡として残ることもございます。\r\n\r\n・質感が少し硬くなるなど変わる場合がございます。\r\n\r\n・無理に傷、しみを隠す為に表面層を厚くしますと、革シボ（しわ状の柄や革のシワ）の凹凸や革のシワが無くなり、不自然な仕上がりになる為、バランスを見ながらの修復なります。\r\n\r\n上記の事が考えられます。\r\n\r\n現状より見栄えを良くするメンテナンスとしてご検討いただきたく存じます。\r\n\r\n 料金です。（税込）\r\n\r\nクレンジング・染め直し・エナメル加工\r\n\r\n表面　16500円\r\n\r\n内部のメンテナンスをご希望の場合\r\n\r\nプラス　4400円\r\n\r\n■納期：約35日程度\r\n \r\nご不明な点や確認事項がございましたら、遠慮なくお申し出ください。\r\n\r\n※チャットにて、ご連絡いただけたらと存じます。\r\n\r\nそれでは、ご検討頂きたくお願い申し上げます。",
         "▼Thank you for your quick estimate for Miu Miu Wallet.\r\nFor this, we would like to ask for maintenance that was proposed only on the surface.\r\nI would like to ask for repairs to the inside of my Gucci wallet.\r\nI think so.\r\nThis time, I would like to ask you about these two points.\r\n\r\n\r\nI haven't used it for about 10 years\r\nThere is mold inside the billfold and coin purse.\r\nI would like to use it again as it has memories.\r\nthank you.",
         "We will inform you as much as you can see from the images.\r\n\r\nFrom the condition, I think it is possible to improve the appearance.\r\n\r\nThe leather structure shown in the image is broadly divided into three layers.\r\n\r\n①Leather\r\n②Binder layer (colored layer) on top of leather\r\n③ Top layer (enamel layer) on top of the binder layer\r\n\r\nIt is structured as above.\r\n\r\nTo put it simply, the process involves cleansing to remove dirt from the surface, pre-treatment, correction of coloration of the binder layer, and enamel processing.\r\n\r\nThere are some points that can be considered as a finish.\r\n\r\n・The color may be darker.\r\n\r\nThe color will vary depending on how it fits with the leather, but if you force it to brighten the color, the finish will be unnatural, so we will adjust it while checking how it fits.\r\n\r\n- There may be no difference in color shade between the embossed scales.\r\n\r\n- Deep scratches may leave repair marks.\r\n\r\n-If stains penetrate deeply into the leather, the newly created surface layer is made as thin as possible, prioritizing the texture and texture, so it may remain thin and transparent.\r\n\r\nDark, deep permeation stains may remain as shades of color.\r\n\r\n・The texture may change, such as slightly stiffer.\r\n\r\n- If you forcefully hide scratches and stains, the unevenness of leather creases (wrinkle-like patterns and leather wrinkles) and leather wrinkles will disappear, resulting in an unnatural finish, and repairs the product while keeping the balance in mind.\r\n\r\nThe above can be considered.\r\n\r\nWe would like you to consider this as a maintenance to make your appearance better than it is.\r\n\r\nIt's the price.(tax included)\r\n\r\nCleansing, re-dyeing, enamel processing\r\n\r\nSurface: 16,500 yen\r\n\r\nIf you would like internal maintenance\r\n\r\nPlus 4,400 yen\r\n\r\n■Delivery time: Approximately 35 days\r\n\r\nIf you have any questions or concerns, please feel free to let us know.\r\n\r\n*We hope you can contact us via chat.\r\n\r\nNow, we ask for your consideration."
        ]
       ],
       "shape": {
        "columns": 5,
        "rows": 5
       }
      },
      "text/html": [
       "<div>\n",
       "<style scoped>\n",
       "    .dataframe tbody tr th:only-of-type {\n",
       "        vertical-align: middle;\n",
       "    }\n",
       "\n",
       "    .dataframe tbody tr th {\n",
       "        vertical-align: top;\n",
       "    }\n",
       "\n",
       "    .dataframe thead th {\n",
       "        text-align: right;\n",
       "    }\n",
       "</style>\n",
       "<table border=\"1\" class=\"dataframe\">\n",
       "  <thead>\n",
       "    <tr style=\"text-align: right;\">\n",
       "      <th></th>\n",
       "      <th>order_id</th>\n",
       "      <th>internal_memo</th>\n",
       "      <th>description</th>\n",
       "      <th>internal_memo_translated</th>\n",
       "      <th>description_translated</th>\n",
       "    </tr>\n",
       "  </thead>\n",
       "  <tbody>\n",
       "    <tr>\n",
       "      <th>0</th>\n",
       "      <td>40394</td>\n",
       "      <td>鞄の内側の革から粉々落ちてしまうので一番気になります。それから色が落ちていて見た目の模様が薄...</td>\n",
       "      <td>革修復どっとコムの齋藤と申します。\\r\\n\\r\\nこの度は、お問合せ頂きまして誠に有難うござ...</td>\n",
       "      <td>This is the most concerning thing as it will f...</td>\n",
       "      <td>My name is Saito from Leather Repair Dot.com.\\...</td>\n",
       "    </tr>\n",
       "    <tr>\n",
       "      <th>1</th>\n",
       "      <td>40394</td>\n",
       "      <td>鞄の内側の革から粉々落ちてしまうので一番気になります。それから色が落ちていて見た目の模様が薄...</td>\n",
       "      <td>ヌメ革の状態を見ますと制作交換が必要な状態かと存じます。\\r\\n\\r\\n交換する部位につきま...</td>\n",
       "      <td>This is the most concerning thing as it will f...</td>\n",
       "      <td>Looking at the condition of the tanned leather...</td>\n",
       "    </tr>\n",
       "    <tr>\n",
       "      <th>2</th>\n",
       "      <td>44206</td>\n",
       "      <td>▼ミュウミュウ財布、早速のお見積もりありがとうございます。\\r\\nこちらは、表面のみご提案い...</td>\n",
       "      <td>革修復どっとコムの齋藤と申します。\\r\\n\\r\\nこの度は、お問い合わせ頂きまして、誠に有難...</td>\n",
       "      <td>▼Thank you for your quick estimate for Miu Miu...</td>\n",
       "      <td>My name is Saito from Leather Repair Dot.com.\\...</td>\n",
       "    </tr>\n",
       "    <tr>\n",
       "      <th>3</th>\n",
       "      <td>44206</td>\n",
       "      <td>▼ミュウミュウ財布、早速のお見積もりありがとうございます。\\r\\nこちらは、表面のみご提案い...</td>\n",
       "      <td>画像で見ますと、クレンジング及び全体的な補色、艶感を調整する事で、概ね見栄え良く修復可能かと...</td>\n",
       "      <td>▼Thank you for your quick estimate for Miu Miu...</td>\n",
       "      <td>Looking at the image, I think it can be repair...</td>\n",
       "    </tr>\n",
       "    <tr>\n",
       "      <th>4</th>\n",
       "      <td>44206</td>\n",
       "      <td>▼ミュウミュウ財布、早速のお見積もりありがとうございます。\\r\\nこちらは、表面のみご提案い...</td>\n",
       "      <td>画像を見ての判る範囲でご案内申し上げます。\\r\\n\\r\\n状態から致しますと、見栄えを良くす...</td>\n",
       "      <td>▼Thank you for your quick estimate for Miu Miu...</td>\n",
       "      <td>We will inform you as much as you can see from...</td>\n",
       "    </tr>\n",
       "  </tbody>\n",
       "</table>\n",
       "</div>"
      ],
      "text/plain": [
       "   order_id                                      internal_memo  \\\n",
       "0     40394  鞄の内側の革から粉々落ちてしまうので一番気になります。それから色が落ちていて見た目の模様が薄...   \n",
       "1     40394  鞄の内側の革から粉々落ちてしまうので一番気になります。それから色が落ちていて見た目の模様が薄...   \n",
       "2     44206  ▼ミュウミュウ財布、早速のお見積もりありがとうございます。\\r\\nこちらは、表面のみご提案い...   \n",
       "3     44206  ▼ミュウミュウ財布、早速のお見積もりありがとうございます。\\r\\nこちらは、表面のみご提案い...   \n",
       "4     44206  ▼ミュウミュウ財布、早速のお見積もりありがとうございます。\\r\\nこちらは、表面のみご提案い...   \n",
       "\n",
       "                                         description  \\\n",
       "0  革修復どっとコムの齋藤と申します。\\r\\n\\r\\nこの度は、お問合せ頂きまして誠に有難うござ...   \n",
       "1  ヌメ革の状態を見ますと制作交換が必要な状態かと存じます。\\r\\n\\r\\n交換する部位につきま...   \n",
       "2  革修復どっとコムの齋藤と申します。\\r\\n\\r\\nこの度は、お問い合わせ頂きまして、誠に有難...   \n",
       "3  画像で見ますと、クレンジング及び全体的な補色、艶感を調整する事で、概ね見栄え良く修復可能かと...   \n",
       "4  画像を見ての判る範囲でご案内申し上げます。\\r\\n\\r\\n状態から致しますと、見栄えを良くす...   \n",
       "\n",
       "                            internal_memo_translated  \\\n",
       "0  This is the most concerning thing as it will f...   \n",
       "1  This is the most concerning thing as it will f...   \n",
       "2  ▼Thank you for your quick estimate for Miu Miu...   \n",
       "3  ▼Thank you for your quick estimate for Miu Miu...   \n",
       "4  ▼Thank you for your quick estimate for Miu Miu...   \n",
       "\n",
       "                              description_translated  \n",
       "0  My name is Saito from Leather Repair Dot.com.\\...  \n",
       "1  Looking at the condition of the tanned leather...  \n",
       "2  My name is Saito from Leather Repair Dot.com.\\...  \n",
       "3  Looking at the image, I think it can be repair...  \n",
       "4  We will inform you as much as you can see from...  "
      ]
     },
     "execution_count": 19,
     "metadata": {},
     "output_type": "execute_result"
    }
   ],
   "source": [
    "df.head()  # Display first few rows of the DataFrame for verification"
   ]
  },
  {
   "cell_type": "markdown",
   "metadata": {},
   "source": [
    "# Single table QUERY writing test ( like php myadmin SQL query writing IDE ) with trnslation any column or not "
   ]
  },
  {
   "cell_type": "markdown",
   "metadata": {},
   "source": [
    "# ETL Process"
   ]
  },
  {
   "cell_type": "code",
   "execution_count": 4,
   "metadata": {},
   "outputs": [
    {
     "name": "stderr",
     "output_type": "stream",
     "text": [
      "/var/folders/05/dcqg5c4d6_b827xfj3z40j0w0000gn/T/ipykernel_1685/366560568.py:33: UserWarning: pandas only supports SQLAlchemy connectable (engine/connection) or database string URI or sqlite3 DBAPI2 connection. Other DBAPI2 objects are not tested. Please consider using SQLAlchemy.\n",
      "  df = pd.read_sql(query, connection)\n"
     ]
    },
    {
     "name": "stdout",
     "output_type": "stream",
     "text": [
      "✅ Data fetched successfully!\n",
      "🔁 Translating first 150 rows of 'internal_memo' ➡️ 'internal_memo_translated' ...\n"
     ]
    },
    {
     "name": "stderr",
     "output_type": "stream",
     "text": [
      "Translating internal_memo: 100%|██████████| 150/150 [02:23<00:00,  1.04rows/s]\n"
     ]
    },
    {
     "name": "stdout",
     "output_type": "stream",
     "text": [
      "🔁 Translating first 150 rows of 'customer_memo' ➡️ 'customer_memo_translated' ...\n"
     ]
    },
    {
     "name": "stderr",
     "output_type": "stream",
     "text": [
      "Translating customer_memo: 100%|██████████| 150/150 [00:43<00:00,  3.47rows/s]\n"
     ]
    },
    {
     "name": "stdout",
     "output_type": "stream",
     "text": [
      "📁 Excel file saved successfully as 'orders.xlsx'\n"
     ]
    }
   ],
   "source": [
    "import pandas as pd\n",
    "import pymysql\n",
    "from googletrans import Translator\n",
    "from tqdm import tqdm\n",
    "\n",
    "# 📌 User-defined: columns to translate\n",
    "columns_to_translate = {\n",
    "    \"internal_memo\": \"internal_memo_translated\",\n",
    "    \"customer_memo\": \"customer_memo_translated\"\n",
    "}\n",
    "\n",
    "# 📌 Optional: set this to None to auto-use all rows\n",
    "num_rows_to_translate = 150  \n",
    "\n",
    "# 🌐 Translator init\n",
    "translator = Translator()\n",
    "\n",
    "# 🔐 DB config\n",
    "db_config = {\n",
    "    'host': 'localhost',\n",
    "    'user': 'root',\n",
    "    'password': '',\n",
    "    'database': 'Leather_repair_db',\n",
    "    'port': 3306\n",
    "}\n",
    "\n",
    "# 🧾 SQL query\n",
    "query = \"SELECT * FROM orders\"\n",
    "\n",
    "# 📥 Fetch data from DB\n",
    "try:\n",
    "    connection = pymysql.connect(**db_config)\n",
    "    df = pd.read_sql(query, connection)\n",
    "    connection.close()\n",
    "    print(\"✅ Data fetched successfully!\")\n",
    "except Exception as e:\n",
    "    print(\"❌ Error while connecting or fetching:\", e)\n",
    "\n",
    "# 🔁 Set number of rows to translate\n",
    "if num_rows_to_translate is None:\n",
    "    num_rows_to_translate = len(df)\n",
    "    print(f\"📊 No row limit set. Translating all {num_rows_to_translate} rows.\")\n",
    "\n",
    "# 🌍 Translate selected columns\n",
    "for original_col, new_col in columns_to_translate.items():\n",
    "    if original_col in df.columns:\n",
    "        try:\n",
    "            print(f\"🔁 Translating first {num_rows_to_translate} rows of '{original_col}' ➡️ '{new_col}' ...\")\n",
    "            translated_col = []\n",
    "\n",
    "            # Create progress bar for the translation process\n",
    "            with tqdm(total=num_rows_to_translate, desc=f\"Translating {original_col}\", unit=\"rows\") as pbar:\n",
    "                for i, text in enumerate(df[original_col].astype(str)):\n",
    "                    if i < num_rows_to_translate:\n",
    "                        try:\n",
    "                            translated_text = translator.translate(text, src='ja', dest='en').text\n",
    "                        except Exception as trans_err:\n",
    "                            translated_text = \"Translation Failed\"\n",
    "                        # Update progress bar\n",
    "                        pbar.update(1)\n",
    "                    else:\n",
    "                        translated_text = \"\"\n",
    "                    translated_col.append(translated_text)\n",
    "\n",
    "            df[new_col] = translated_col\n",
    "\n",
    "        except Exception as e:\n",
    "            print(f\"❌ Error translating '{original_col}': {e}\")\n",
    "            df[new_col] = \"Translation Failed\"\n",
    "    else:\n",
    "        print(f\"⚠️ Column '{original_col}' not found in DataFrame.\")\n",
    "\n",
    "# 💾 Save updated DataFrame\n",
    "output_file = \"orders.xlsx\"\n",
    "try:\n",
    "    df.to_excel(output_file, index=False)\n",
    "    print(f\"📁 Excel file saved successfully as '{output_file}'\")\n",
    "except Exception as e:\n",
    "    print(\"❌ Error while saving to Excel:\", e)"
   ]
  },
  {
   "cell_type": "code",
   "execution_count": null,
   "metadata": {},
   "outputs": [],
   "source": []
  }
 ],
 "metadata": {
  "kernelspec": {
   "display_name": "Python 3",
   "language": "python",
   "name": "python3"
  },
  "language_info": {
   "codemirror_mode": {
    "name": "ipython",
    "version": 3
   },
   "file_extension": ".py",
   "mimetype": "text/x-python",
   "name": "python",
   "nbconvert_exporter": "python",
   "pygments_lexer": "ipython3",
   "version": "3.9.6"
  }
 },
 "nbformat": 4,
 "nbformat_minor": 2
}
