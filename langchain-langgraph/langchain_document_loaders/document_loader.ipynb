{
 "cells": [
  {
   "cell_type": "markdown",
   "metadata": {},
   "source": [
    "# Langchain Document Loaders"
   ]
  },
  {
   "cell_type": "code",
   "execution_count": 1,
   "metadata": {},
   "outputs": [
    {
     "name": "stdout",
     "output_type": "stream",
     "text": [
      "\u001b[33mWARNING: You are using pip version 21.2.4; however, version 25.1.1 is available.\n",
      "You should consider upgrading via the '/Library/Developer/CommandLineTools/usr/bin/python3 -m pip install --upgrade pip' command.\u001b[0m\n",
      "Note: you may need to restart the kernel to use updated packages.\n"
     ]
    }
   ],
   "source": [
    "pip install -qU langchain_community pypdf"
   ]
  },
  {
   "cell_type": "code",
   "execution_count": 2,
   "metadata": {},
   "outputs": [
    {
     "name": "stderr",
     "output_type": "stream",
     "text": [
      "/Users/mdalamintokder/Library/Python/3.9/lib/python/site-packages/urllib3/__init__.py:35: NotOpenSSLWarning: urllib3 v2 only supports OpenSSL 1.1.1+, currently the 'ssl' module is compiled with 'LibreSSL 2.8.3'. See: https://github.com/urllib3/urllib3/issues/3020\n",
      "  warnings.warn(\n"
     ]
    }
   ],
   "source": [
    "from langchain_community.document_loaders import PyPDFLoader\n",
    "\n",
    "file_path = \"/Users/mdalamintokder/Documents/My Learning myself/Langchain_langgraph_learning/langchain_document_loaders/Md Al Amin Tokder.pdf\"\n",
    "loader = PyPDFLoader(file_path)"
   ]
  },
  {
   "cell_type": "code",
   "execution_count": 3,
   "metadata": {},
   "outputs": [
    {
     "data": {
      "text/plain": [
       "Document(metadata={'producer': 'Canva', 'creator': 'Canva', 'creationdate': '2025-04-07T05:08:10+00:00', 'title': 'Copy of Minimalist Modern Professional CV Resume.pdf', 'moddate': '2025-04-07T05:08:09+00:00', 'keywords': 'DAFuuQrdVKs,BAFAJPAzmXg,0', 'author': 'Md Al Amin Tokder Shoukhin', 'source': '/Users/mdalamintokder/Documents/My Learning myself/Langchain_langgraph_learning/langchain_document_loaders/Md Al Amin Tokder.pdf', 'total_pages': 1, 'page': 0, 'page_label': '1'}, page_content='Machine Learning Engineer \\nRajshahi University of Engineering\\nand Technology (RUET)\\n2018 - 2023\\nEDUCATION\\nSKILLS\\nABOUT ME\\nWORK EXPERIENCE\\nMD AL AMIN TOKDER\\nJunior Software Engineer\\nJan 2021 - Oct 2022\\nCodeStudio sofware Ltd,Rajshahi,Bangladesh\\nBSc in Computer Science and Engineering,\\nCGPA: 3.63\\nProblem solving, Machine Learning, Artificial\\nIntelligence, Web development, Keras, Pytorch\\nINTEREST\\nPROJECTS\\nMachine learning , Artificial Intelligence, problem Solving (JAVA),\\nACTIVITIES AND SOCIETIES: \\nProgramming contest, Idea Contest, Project Showcasing, Cricket, Football, Project\\nContest , content writer (IEEE RUET Branch)\\nHeart Diseases prediction (using ML)\\nSkills: Python, Machine learning\\nLinkedIn \\nalamintokdercse@gmail.com\\n Dhaka,Bangladesh\\n+8801750206042\\nGithub \\nPROBLEM SOLVING\\nCodeforces (Pupil) : Codeforces \\nStopStalk : StopStalk \\nLeetcode: Leetcode \\nHackerearth : Hackerearth\\nAtcoder (9-Kyu): Atcoder\\nCodechef (2-star) : Codechef\\nHi this is Al Amin strongly passionate on Machine Learning technology specially in\\ngenerative AI and LLMs. I am specialized in building cutting-edge Large Language\\nModels (LLMs) for innovative solutions and passionate about pushing the boundaries of\\nAI, AI Agent, RAG system etc to create intelligent and impactful applications. Beside I\\nam a competitive programmer too. I have solved almost 800+ problem on various\\njudges like codeforces, leetcode, atcoder, codechef etc. Presently, I worked with OCR\\nand AI integrated application. Beside programming I have a strong facination on\\nmachine learning and artificial intelligence. Already I have created some AI related\\nproject using LLMs and generative AI . “Luna” is one of the biggest project in my\\ncareer. \\nStack Overflow \\nHONORS & AWARDS: \\nICPC \\nICPC Dhaka SIte-2023\\nTeam Name: RUET_MIND_GAMER, \\nRank: 522th out of 2600 teams\\nICPC Preliminary Dhaka Site 2023- (522 th out of 2600 teams)\\nInovative Idea and project Contest RUET 2023 (7th in Final round )\\nNorth Bengal Startup Summit 2023 Startup Idea contest Finalist (4th)\\nProject showcasing - RUET CSE FEST 2022 (14th position )\\nIn this company I worked as a web developer. I have successfully\\ncompleted 4 project here. “Stop Ragging” a website which is developed\\nby me and use in my university. Beside I develop a desktop appication is\\nbuild by me using JAVA. \\nSep 2022 - Nov 2023 \\nDevolved AI, 93309 Bakersfield , CA, USA\\nMachine Learning Engineer \\nBuilding cutting edge LLMs for innovative solutions. Generative AI , LLMs,\\nGPT, Decentralized AI \\nLuna a decentralized AI chatbot\\nSkills: LLMs, Generative AI , GPT,Decentralized AI\\nMachine Learning models\\nPrescription Handler  (AI Automated)\\nSkills: OCR, HTR, LLMs, Generative AI ,\\nGPT,Decentralized AI, Python\\nMachine Learning models\\nHackerrank : Hackerrank\\nPUBLICATIONS\\nGarbage Classification using a Transfer Learning with Parameter\\nTuning (IEEE Xplore)\\nBloodStein Hyperspectral Image Classification Using 3D CNN\\n      (ICEEICT , IEEE Xplore)\\nChatbot SRS Generator (Fine Tuned)\\nSkills:  LLMs, Generative AI , GPT,Decentralized AI,Python, Model Fine tuning, Open AI API,Code link: click_here\\nJan 2024 - Present\\nJB Connect Ltd, Dhaka , Bangladesh\\nMachine Learning Engineer \\nBuild reallife application using AI , Generative AI model ,Use GEMINI,\\nOPEN AI API , open source model LAMA2,3 API in various business solution\\nPortfolio \\nRAG system building using OPEN AI Model\\nSkills: Generative AI, AI Agent, LLMsLive Link : Click Here \\nMedical Diagnosis Agent Chatbot\\nSkills: AI Agent · Langgraph · Langchain.\\nChatbot Development \\nLive link: Click Here')"
      ]
     },
     "execution_count": 3,
     "metadata": {},
     "output_type": "execute_result"
    }
   ],
   "source": [
    "docs = loader.load()\n",
    "docs[0]"
   ]
  },
  {
   "cell_type": "code",
   "execution_count": 13,
   "metadata": {},
   "outputs": [
    {
     "name": "stdout",
     "output_type": "stream",
     "text": [
      "Machine Learning Engineer \n",
      "Rajshahi University of Engineering\n",
      "and Technology (RUET)\n",
      "2018 - 2023\n",
      "EDUCATION\n",
      "SKILLS\n",
      "ABOUT ME\n",
      "WORK EXPERIENCE\n",
      "MD AL AMIN TOKDER\n",
      "Junior Software Engineer\n",
      "Jan 2021 - Oct 2022\n",
      "CodeStudio sofware Ltd,Rajshahi,Bangladesh\n",
      "BSc in Computer Science and Engineering,\n",
      "CGPA: 3.63\n",
      "Problem solving, Machine Learning, Artificial\n",
      "Intelligence, Web development, Keras, Pytorch\n",
      "INTEREST\n",
      "PROJECTS\n",
      "Machine learning , Artificial Intelligence, problem Solving (JAVA),\n",
      "ACTIVITIES AND SOCIETIES: \n",
      "Programming contest, Idea Contest, Project Showcasing, Cricket, Football, Project\n",
      "Contest , content writer (IEEE RUET Branch)\n",
      "Heart Diseases prediction (using ML)\n",
      "Skills: Python, Machine learning\n",
      "LinkedIn \n",
      "alamintokdercse@gmail.com\n",
      " Dhaka,Bangladesh\n",
      "+8801750206042\n",
      "Github \n",
      "PROBLEM SOLVING\n",
      "Codeforces (Pupil) : Codeforces \n",
      "StopStalk : StopStalk \n",
      "Leetcode: Leetcode \n",
      "Hackerearth : Hackerearth\n",
      "Atcoder (9-Kyu): Atcoder\n",
      "Codechef (2-star) : Codechef\n",
      "Hi this is Al Amin strongly passionate on Machine Learning technology specially in\n",
      "generative AI and LLMs. I am specialized in building cutting-edge Large Language\n",
      "Models (LLMs) for innovative solutions and passionate about pushing the boundaries of\n",
      "AI, AI Agent, RAG system etc to create intelligent and impactful applications. Beside I\n",
      "am a competitive programmer too. I have solved almost 800+ problem on various\n",
      "judges like codeforces, leetcode, atcoder, codechef etc. Presently, I worked with OCR\n",
      "and AI integrated application. Beside programming I have a strong facination on\n",
      "machine learning and artificial intelligence. Already I have created some AI related\n",
      "project using LLMs and generative AI . “Luna” is one of the biggest project in my\n",
      "career. \n",
      "Stack Overflow \n",
      "HONORS & AWARDS: \n",
      "ICPC \n",
      "ICPC Dhaka SIte-2023\n",
      "Team Name: RUET_MIND_GAMER, \n",
      "Rank: 522th out of 2600 teams\n",
      "ICPC Preliminary Dhaka Site 2023- (522 th out of 2600 teams)\n",
      "Inovative Idea and project Contest RUET 2023 (7th in Final round )\n",
      "North Bengal Startup Summit 2023 Startup Idea contest Finalist (4th)\n",
      "Project showcasing - RUET CSE FEST 2022 (14th position )\n",
      "In this company I worked as a web developer. I have successfully\n",
      "completed 4 project here. “Stop Ragging” a website which is developed\n",
      "by me and use in my university. Beside I develop a desktop appication is\n",
      "build by me using JAVA. \n",
      "Sep 2022 - Nov 2023 \n",
      "Devolved AI, 93309 Bakersfield , CA, USA\n",
      "Machine Learning Engineer \n",
      "Building cutting edge LLMs for innovative solutions. Generative AI , LLMs,\n",
      "GPT, Decentralized AI \n",
      "Luna a decentralized AI chatbot\n",
      "Skills: LLMs, Generative AI , GPT,Decentralized AI\n",
      "Machine Learning models\n",
      "Prescription Handler  (AI Automated)\n",
      "Skills: OCR, HTR, LLMs, Generative AI ,\n",
      "GPT,Decentralized AI, Python\n",
      "Machine Learning models\n",
      "Hackerrank : Hackerrank\n",
      "PUBLICATIONS\n",
      "Garbage Classification using a Transfer Learning with Parameter\n",
      "Tuning (IEEE Xplore)\n",
      "BloodStein Hyperspectral Image Classification Using 3D CNN\n",
      "      (ICEEICT , IEEE Xplore)\n",
      "Chatbot SRS Generator (Fine Tuned)\n",
      "Skills:  LLMs, Generative AI , GPT,Decentralized AI,Python, Model Fine tuning, Open AI API,Code link: click_here\n",
      "Jan 2024 - Present\n",
      "JB Connect Ltd, Dhaka , Bangladesh\n",
      "Machine Learning Engineer \n",
      "Build reallife application using AI , Generative AI model ,Use GEMINI,\n",
      "OPEN AI API , open source model LAMA2,3 API in various business solution\n",
      "Portfolio \n",
      "RAG system building using OPEN AI Model\n",
      "Skills: Generative AI, AI Agent, LLMsLive Link : Click Here \n",
      "Medical Diagnosis Agent Chatbot\n",
      "Skills: AI Agent · Langgraph · Langchain.\n",
      "Chatbot Development \n",
      "Live link: Click Here\n"
     ]
    }
   ],
   "source": [
    "print(docs[0].page_content)"
   ]
  },
  {
   "cell_type": "code",
   "execution_count": 4,
   "metadata": {},
   "outputs": [
    {
     "name": "stdout",
     "output_type": "stream",
     "text": [
      "{'producer': 'Canva',\n",
      " 'creator': 'Canva',\n",
      " 'creationdate': '2025-04-07T05:08:10+00:00',\n",
      " 'title': 'Copy of Minimalist Modern Professional CV Resume.pdf',\n",
      " 'moddate': '2025-04-07T05:08:09+00:00',\n",
      " 'keywords': 'DAFuuQrdVKs,BAFAJPAzmXg,0',\n",
      " 'author': 'Md Al Amin Tokder Shoukhin',\n",
      " 'source': '/Users/mdalamintokder/Documents/My Learning '\n",
      "           'myself/Langchain_langgraph_learning/langchain_document_loaders/Md '\n",
      "           'Al Amin Tokder.pdf',\n",
      " 'total_pages': 1,\n",
      " 'page': 0,\n",
      " 'page_label': '1'}\n"
     ]
    }
   ],
   "source": [
    "import pprint\n",
    "\n",
    "pprint.pp(docs[0].metadata)"
   ]
  },
  {
   "cell_type": "markdown",
   "metadata": {},
   "source": [
    "# Lazy Load"
   ]
  },
  {
   "cell_type": "code",
   "execution_count": 5,
   "metadata": {},
   "outputs": [
    {
     "data": {
      "text/plain": [
       "1"
      ]
     },
     "execution_count": 5,
     "metadata": {},
     "output_type": "execute_result"
    }
   ],
   "source": [
    "pages = []\n",
    "for doc in loader.lazy_load():\n",
    "    pages.append(doc)\n",
    "    if len(pages) >= 10:\n",
    "        # do some paged operation, e.g.\n",
    "        # index.upsert(page)\n",
    "\n",
    "        pages = []\n",
    "len(pages)"
   ]
  },
  {
   "cell_type": "code",
   "execution_count": 8,
   "metadata": {},
   "outputs": [
    {
     "name": "stdout",
     "output_type": "stream",
     "text": [
      "Machine Learning Engineer \n",
      "Rajshahi University of Engineering\n",
      "and Technology (RUET)\n",
      "2018 - 2023\n",
      "EDUC\n",
      "{'producer': 'Canva',\n",
      " 'creator': 'Canva',\n",
      " 'creationdate': '2025-04-07T05:08:10+00:00',\n",
      " 'title': 'Copy of Minimalist Modern Professional CV Resume.pdf',\n",
      " 'moddate': '2025-04-07T05:08:09+00:00',\n",
      " 'keywords': 'DAFuuQrdVKs,BAFAJPAzmXg,0',\n",
      " 'author': 'Md Al Amin Tokder Shoukhin',\n",
      " 'source': '/Users/mdalamintokder/Documents/My Learning '\n",
      "           'myself/Langchain_langgraph_learning/langchain_document_loaders/Md '\n",
      "           'Al Amin Tokder.pdf',\n",
      " 'total_pages': 1,\n",
      " 'page': 0,\n",
      " 'page_label': '1'}\n"
     ]
    }
   ],
   "source": [
    "print(pages[0].page_content[:100])\n",
    "pprint.pp(pages[0].metadata)"
   ]
  },
  {
   "cell_type": "code",
   "execution_count": 9,
   "metadata": {},
   "outputs": [
    {
     "name": "stdout",
     "output_type": "stream",
     "text": [
      "1\n"
     ]
    }
   ],
   "source": [
    "pprint.pp(pages[0].metadata['total_pages'])"
   ]
  },
  {
   "cell_type": "markdown",
   "metadata": {},
   "source": [
    "# Add a custom pages_delimiter to identify where are ends of pages in single mode"
   ]
  },
  {
   "cell_type": "code",
   "execution_count": 12,
   "metadata": {},
   "outputs": [
    {
     "name": "stdout",
     "output_type": "stream",
     "text": [
      "Machine Learning Engineer \n",
      "Rajshahi University of Engineering\n",
      "and Technology (RUET)\n",
      "2018 - 2023\n",
      "EDUC\n"
     ]
    }
   ],
   "source": [
    "loader = PyPDFLoader(\n",
    "    \"/Users/mdalamintokder/Documents/My Learning myself/Langchain_langgraph_learning/langchain_document_loaders/Md Al Amin Tokder.pdf\",\n",
    "    mode=\"single\",\n",
    "    pages_delimiter=\"\\n-------THIS IS A CUSTOM END OF PAGE-------\\n\",\n",
    ")\n",
    "docs = loader.load()\n",
    "print(docs[0].page_content[:100])"
   ]
  },
  {
   "cell_type": "markdown",
   "metadata": {},
   "source": [
    "# Extract images from the PDF"
   ]
  },
  {
   "cell_type": "code",
   "execution_count": 14,
   "metadata": {},
   "outputs": [
    {
     "name": "stdout",
     "output_type": "stream",
     "text": [
      "\u001b[33mWARNING: You are using pip version 21.2.4; however, version 25.1.1 is available.\n",
      "You should consider upgrading via the '/Library/Developer/CommandLineTools/usr/bin/python3 -m pip install --upgrade pip' command.\u001b[0m\n",
      "Note: you may need to restart the kernel to use updated packages.\n"
     ]
    }
   ],
   "source": [
    "%pip install -qU rapidocr-onnxruntime"
   ]
  },
  {
   "cell_type": "code",
   "execution_count": 16,
   "metadata": {},
   "outputs": [
    {
     "name": "stdout",
     "output_type": "stream",
     "text": [
      "Machine Learning Engineer \n",
      "Rajshahi University of Engineering\n",
      "and Technology (RUET)\n",
      "2018 - 2023\n",
      "EDUCATION\n",
      "SKILLS\n",
      "ABOUT ME\n",
      "WORK EXPERIENCE\n",
      "MD AL AMIN TOKDER\n",
      "Junior Software Engineer\n",
      "Jan 2021 - Oct 2022\n",
      "CodeStudio sofware Ltd,Rajshahi,Bangladesh\n",
      "BSc in Computer Science and Engineering,\n",
      "CGPA: 3.63\n",
      "Problem solving, Machine Learning, Artificial\n",
      "Intelligence, Web development, Keras, Pytorch\n",
      "INTEREST\n",
      "PROJECTS\n",
      "Machine learning , Artificial Intelligence, problem Solving (JAVA),\n",
      "ACTIVITIES AND SOCIETIES: \n",
      "Programming contest, Idea Contest, Project Showcasing, Cricket, Football, Project\n",
      "Contest , content writer (IEEE RUET Branch)\n",
      "Heart Diseases prediction (using ML)\n",
      "Skills: Python, Machine learning\n",
      "LinkedIn \n",
      "alamintokdercse@gmail.com\n",
      " Dhaka,Bangladesh\n",
      "+8801750206042\n",
      "Github \n",
      "PROBLEM SOLVING\n",
      "Codeforces (Pupil) : Codeforces \n",
      "StopStalk : StopStalk \n",
      "Leetcode: Leetcode \n",
      "Hackerearth : Hackerearth\n",
      "Atcoder (9-Kyu): Atcoder\n",
      "Codechef (2-star) : Codechef\n",
      "Hi this is Al Amin strongly passionate on Machine Learning technology specially in\n",
      "generative AI and LLMs. I am specialized in building cutting-edge Large Language\n",
      "Models (LLMs) for innovative solutions and passionate about pushing the boundaries of\n",
      "AI, AI Agent, RAG system etc to create intelligent and impactful applications. Beside I\n",
      "am a competitive programmer too. I have solved almost 800+ problem on various\n",
      "judges like codeforces, leetcode, atcoder, codechef etc. Presently, I worked with OCR\n",
      "and AI integrated application. Beside programming I have a strong facination on\n",
      "machine learning and artificial intelligence. Already I have created some AI related\n",
      "project using LLMs and generative AI . “Luna” is one of the biggest project in my\n",
      "career. \n",
      "Stack Overflow \n",
      "HONORS & AWARDS: \n",
      "ICPC \n",
      "ICPC Dhaka SIte-2023\n",
      "Team Name: RUET_MIND_GAMER, \n",
      "Rank: 522th out of 2600 teams\n",
      "ICPC Preliminary Dhaka Site 2023- (522 th out of 2600 teams)\n",
      "Inovative Idea and project Contest RUET 2023 (7th in Final round )\n",
      "North Bengal Startup Summit 2023 Startup Idea contest Finalist (4th)\n",
      "Project showcasing - RUET CSE FEST 2022 (14th position )\n",
      "In this company I worked as a web developer. I have successfully\n",
      "completed 4 project here. “Stop Ragging” a website which is developed\n",
      "by me and use in my university. Beside I develop a desktop appication is\n",
      "build by me using JAVA. \n",
      "Sep 2022 - Nov 2023 \n",
      "Devolved AI, 93309 Bakersfield , CA, USA\n",
      "Machine Learning Engineer \n",
      "Building cutting edge LLMs for innovative solutions. Generative AI , LLMs,\n",
      "GPT, Decentralized AI \n",
      "Luna a decentralized AI chatbot\n",
      "Skills: LLMs, Generative AI , GPT,Decentralized AI\n",
      "Machine Learning models\n",
      "Prescription Handler  (AI Automated)\n",
      "Skills: OCR, HTR, LLMs, Generative AI ,\n",
      "GPT,Decentralized AI, Python\n",
      "Machine Learning models\n",
      "Hackerrank : Hackerrank\n",
      "PUBLICATIONS\n",
      "Garbage Classification using a Transfer Learning with Parameter\n",
      "Tuning (IEEE Xplore)\n",
      "BloodStein Hyperspectral Image Classification Using 3D CNN\n",
      "      (ICEEICT , IEEE Xplore)\n",
      "Chatbot SRS Generator (Fine Tuned)\n",
      "Skills:  LLMs, Generative AI , GPT,Decentralized AI,Python, Model Fine tuning, Open AI API,Code link: click_here\n",
      "Jan 2024 - Present\n",
      "JB Connect Ltd, Dhaka , Bangladesh\n",
      "Machine Learning Engineer \n",
      "Build reallife application using AI , Generative AI model ,Use GEMINI,\n",
      "OPEN AI API , open source model LAMA2,3 API in various business solution\n",
      "Portfolio \n",
      "RAG system building using OPEN AI Model\n",
      "Skills: Generative AI, AI Agent, LLMsLive Link : Click Here \n",
      "Medical Diagnosis Agent Chatbot\n",
      "Skills: AI Agent · Langgraph · Langchain.\n",
      "Chatbot Development \n",
      "Live link: Click Here \n",
      "\n",
      "\n",
      "\n",
      "![in](#)\n"
     ]
    }
   ],
   "source": [
    "from langchain_community.document_loaders.parsers import RapidOCRBlobParser\n",
    "\n",
    "loader = PyPDFLoader(\n",
    "     \"/Users/mdalamintokder/Documents/My Learning myself/Langchain_langgraph_learning/langchain_document_loaders/Md Al Amin Tokder.pdf\",\n",
    "    mode=\"page\",\n",
    "    images_inner_format=\"markdown-img\",\n",
    "    images_parser=RapidOCRBlobParser(),\n",
    ")\n",
    "docs = loader.load()\n",
    "\n",
    "print(docs[0].page_content)"
   ]
  },
  {
   "cell_type": "markdown",
   "metadata": {},
   "source": [
    "# Extract images from the PDF with Tesseract"
   ]
  },
  {
   "cell_type": "code",
   "execution_count": null,
   "metadata": {},
   "outputs": [],
   "source": []
  },
  {
   "cell_type": "code",
   "execution_count": 17,
   "metadata": {},
   "outputs": [
    {
     "name": "stdout",
     "output_type": "stream",
     "text": [
      "\u001b[33mWARNING: You are using pip version 21.2.4; however, version 25.1.1 is available.\n",
      "You should consider upgrading via the '/Library/Developer/CommandLineTools/usr/bin/python3 -m pip install --upgrade pip' command.\u001b[0m\n",
      "Note: you may need to restart the kernel to use updated packages.\n"
     ]
    }
   ],
   "source": [
    "%pip install -qU pytesseract"
   ]
  },
  {
   "cell_type": "code",
   "execution_count": 19,
   "metadata": {},
   "outputs": [
    {
     "name": "stdout",
     "output_type": "stream",
     "text": [
      "Machine Learning Engineer \n",
      "Rajshahi University of Engineering\n",
      "and Technology (RUET)\n",
      "2018 - 2023\n",
      "EDUCATION\n",
      "SKILLS\n",
      "ABOUT ME\n",
      "WORK EXPERIENCE\n",
      "MD AL AMIN TOKDER\n",
      "Junior Software Engineer\n",
      "Jan 2021 - Oct 2022\n",
      "CodeStudio sofware Ltd,Rajshahi,Bangladesh\n",
      "BSc in Computer Science and Engineering,\n",
      "CGPA: 3.63\n",
      "Problem solving, Machine Learning, Artificial\n",
      "Intelligence, Web development, Keras, Pytorch\n",
      "INTEREST\n",
      "PROJECTS\n",
      "Machine learning , Artificial Intelligence, problem Solving (JAVA),\n",
      "ACTIVITIES AND SOCIETIES: \n",
      "Programming contest, Idea Contest, Project Showcasing, Cricket, Football, Project\n",
      "Contest , content writer (IEEE RUET Branch)\n",
      "Heart Diseases prediction (using ML)\n",
      "Skills: Python, Machine learning\n",
      "LinkedIn \n",
      "alamintokdercse@gmail.com\n",
      " Dhaka,Bangladesh\n",
      "+8801750206042\n",
      "Github \n",
      "PROBLEM SOLVING\n",
      "Codeforces (Pupil) : Codeforces \n",
      "StopStalk : StopStalk \n",
      "Leetcode: Leetcode \n",
      "Hackerearth : Hackerearth\n",
      "Atcoder (9-Kyu): Atcoder\n",
      "Codechef (2-star) : Codechef\n",
      "Hi this is Al Amin strongly passionate on Machine Learning technology specially in\n",
      "generative AI and LLMs. I am specialized in building cutting-edge Large Language\n",
      "Models (LLMs) for innovative solutions and passionate about pushing the boundaries of\n",
      "AI, AI Agent, RAG system etc to create intelligent and impactful applications. Beside I\n",
      "am a competitive programmer too. I have solved almost 800+ problem on various\n",
      "judges like codeforces, leetcode, atcoder, codechef etc. Presently, I worked with OCR\n",
      "and AI integrated application. Beside programming I have a strong facination on\n",
      "machine learning and artificial intelligence. Already I have created some AI related\n",
      "project using LLMs and generative AI . “Luna” is one of the biggest project in my\n",
      "career. \n",
      "Stack Overflow \n",
      "HONORS & AWARDS: \n",
      "ICPC \n",
      "ICPC Dhaka SIte-2023\n",
      "Team Name: RUET_MIND_GAMER, \n",
      "Rank: 522th out of 2600 teams\n",
      "ICPC Preliminary Dhaka Site 2023- (522 th out of 2600 teams)\n",
      "Inovative Idea and project Contest RUET 2023 (7th in Final round )\n",
      "North Bengal Startup Summit 2023 Startup Idea contest Finalist (4th)\n",
      "Project showcasing - RUET CSE FEST 2022 (14th position )\n",
      "In this company I worked as a web developer. I have successfully\n",
      "completed 4 project here. “Stop Ragging” a website which is developed\n",
      "by me and use in my university. Beside I develop a desktop appication is\n",
      "build by me using JAVA. \n",
      "Sep 2022 - Nov 2023 \n",
      "Devolved AI, 93309 Bakersfield , CA, USA\n",
      "Machine Learning Engineer \n",
      "Building cutting edge LLMs for innovative solutions. Generative AI , LLMs,\n",
      "GPT, Decentralized AI \n",
      "Luna a decentralized AI chatbot\n",
      "Skills: LLMs, Generative AI , GPT,Decentralized AI\n",
      "Machine Learning models\n",
      "Prescription Handler  (AI Automated)\n",
      "Skills: OCR, HTR, LLMs, Generative AI ,\n",
      "GPT,Decentralized AI, Python\n",
      "Machine Learning models\n",
      "Hackerrank : Hackerrank\n",
      "PUBLICATIONS\n",
      "Garbage Classification using a Transfer Learning with Parameter\n",
      "Tuning (IEEE Xplore)\n",
      "BloodStein Hyperspectral Image Classification Using 3D CNN\n",
      "      (ICEEICT , IEEE Xplore)\n",
      "Chatbot SRS Generator (Fine Tuned)\n",
      "Skills:  LLMs, Generative AI , GPT,Decentralized AI,Python, Model Fine tuning, Open AI API,Code link: click_here\n",
      "Jan 2024 - Present\n",
      "JB Connect Ltd, Dhaka , Bangladesh\n",
      "Machine Learning Engineer \n",
      "Build reallife application using AI , Generative AI model ,Use GEMINI,\n",
      "OPEN AI API , open source model LAMA2,3 API in various business solution\n",
      "Portfolio \n",
      "RAG system building using OPEN AI Model\n",
      "Skills: Generative AI, AI Agent, LLMsLive Link : Click Here \n",
      "Medical Diagnosis Agent Chatbot\n",
      "Skills: AI Agent · Langgraph · Langchain.\n",
      "Chatbot Development \n",
      "Live link: Click Here\n"
     ]
    }
   ],
   "source": [
    "from langchain_community.document_loaders.parsers import TesseractBlobParser\n",
    "\n",
    "loader = PyPDFLoader(\n",
    "     \"/Users/mdalamintokder/Documents/My Learning myself/Langchain_langgraph_learning/langchain_document_loaders/Md Al Amin Tokder.pdf\",\n",
    "    mode=\"page\",\n",
    "    images_inner_format=\"html-img\",\n",
    "    images_parser=TesseractBlobParser(),\n",
    ")\n",
    "docs = loader.load()\n",
    "print(docs[0].page_content)"
   ]
  },
  {
   "cell_type": "markdown",
   "metadata": {},
   "source": [
    "# Extract images from the PDF with multimodal model"
   ]
  },
  {
   "cell_type": "code",
   "execution_count": 20,
   "metadata": {},
   "outputs": [
    {
     "name": "stdout",
     "output_type": "stream",
     "text": [
      "\u001b[33mWARNING: You are using pip version 21.2.4; however, version 25.1.1 is available.\n",
      "You should consider upgrading via the '/Library/Developer/CommandLineTools/usr/bin/python3 -m pip install --upgrade pip' command.\u001b[0m\n",
      "Note: you may need to restart the kernel to use updated packages.\n"
     ]
    }
   ],
   "source": [
    "%pip install -qU langchain_openai"
   ]
  },
  {
   "cell_type": "code",
   "execution_count": 28,
   "metadata": {},
   "outputs": [
    {
     "data": {
      "text/plain": [
       "True"
      ]
     },
     "execution_count": 28,
     "metadata": {},
     "output_type": "execute_result"
    }
   ],
   "source": [
    "import os\n",
    "\n",
    "from dotenv import load_dotenv\n",
    "\n",
    "load_dotenv()"
   ]
  },
  {
   "cell_type": "code",
   "execution_count": 31,
   "metadata": {},
   "outputs": [],
   "source": [
    "\n",
    "from getpass import getpass\n",
    "\n",
    "if not os.environ.get(\"OPENAI_API_KEY\"):\n",
    "    os.environ[\"OPENAI_API_KEY\"] = getpass(\"OpenAI API key =\")"
   ]
  },
  {
   "cell_type": "code",
   "execution_count": 33,
   "metadata": {},
   "outputs": [
    {
     "name": "stdout",
     "output_type": "stream",
     "text": [
      "Machine Learning Engineer \n",
      "Rajshahi University of Engineering\n",
      "and Technology (RUET)\n",
      "2018 - 2023\n",
      "EDUCATION\n",
      "SKILLS\n",
      "ABOUT ME\n",
      "WORK EXPERIENCE\n",
      "MD AL AMIN TOKDER\n",
      "Junior Software Engineer\n",
      "Jan 2021 - Oct 2022\n",
      "CodeStudio sofware Ltd,Rajshahi,Bangladesh\n",
      "BSc in Computer Science and Engineering,\n",
      "CGPA: 3.63\n",
      "Problem solving, Machine Learning, Artificial\n",
      "Intelligence, Web development, Keras, Pytorch\n",
      "INTEREST\n",
      "PROJECTS\n",
      "Machine learning , Artificial Intelligence, problem Solving (JAVA),\n",
      "ACTIVITIES AND SOCIETIES: \n",
      "Programming contest, Idea Contest, Project Showcasing, Cricket, Football, Project\n",
      "Contest , content writer (IEEE RUET Branch)\n",
      "Heart Diseases prediction (using ML)\n",
      "Skills: Python, Machine learning\n",
      "LinkedIn \n",
      "alamintokdercse@gmail.com\n",
      " Dhaka,Bangladesh\n",
      "+8801750206042\n",
      "Github \n",
      "PROBLEM SOLVING\n",
      "Codeforces (Pupil) : Codeforces \n",
      "StopStalk : StopStalk \n",
      "Leetcode: Leetcode \n",
      "Hackerearth : Hackerearth\n",
      "Atcoder (9-Kyu): Atcoder\n",
      "Codechef (2-star) : Codechef\n",
      "Hi this is Al Amin strongly passionate on Machine Learning technology specially in\n",
      "generative AI and LLMs. I am specialized in building cutting-edge Large Language\n",
      "Models (LLMs) for innovative solutions and passionate about pushing the boundaries of\n",
      "AI, AI Agent, RAG system etc to create intelligent and impactful applications. Beside I\n",
      "am a competitive programmer too. I have solved almost 800+ problem on various\n",
      "judges like codeforces, leetcode, atcoder, codechef etc. Presently, I worked with OCR\n",
      "and AI integrated application. Beside programming I have a strong facination on\n",
      "machine learning and artificial intelligence. Already I have created some AI related\n",
      "project using LLMs and generative AI . “Luna” is one of the biggest project in my\n",
      "career. \n",
      "Stack Overflow \n",
      "HONORS & AWARDS: \n",
      "ICPC \n",
      "ICPC Dhaka SIte-2023\n",
      "Team Name: RUET_MIND_GAMER, \n",
      "Rank: 522th out of 2600 teams\n",
      "ICPC Preliminary Dhaka Site 2023- (522 th out of 2600 teams)\n",
      "Inovative Idea and project Contest RUET 2023 (7th in Final round )\n",
      "North Bengal Startup Summit 2023 Startup Idea contest Finalist (4th)\n",
      "Project showcasing - RUET CSE FEST 2022 (14th position )\n",
      "In this company I worked as a web developer. I have successfully\n",
      "completed 4 project here. “Stop Ragging” a website which is developed\n",
      "by me and use in my university. Beside I develop a desktop appication is\n",
      "build by me using JAVA. \n",
      "Sep 2022 - Nov 2023 \n",
      "Devolved AI, 93309 Bakersfield , CA, USA\n",
      "Machine Learning Engineer \n",
      "Building cutting edge LLMs for innovative solutions. Generative AI , LLMs,\n",
      "GPT, Decentralized AI \n",
      "Luna a decentralized AI chatbot\n",
      "Skills: LLMs, Generative AI , GPT,Decentralized AI\n",
      "Machine Learning models\n",
      "Prescription Handler  (AI Automated)\n",
      "Skills: OCR, HTR, LLMs, Generative AI ,\n",
      "GPT,Decentralized AI, Python\n",
      "Machine Learning models\n",
      "Hackerrank : Hackerrank\n",
      "PUBLICATIONS\n",
      "Garbage Classification using a Transfer Learning with Parameter\n",
      "Tuning (IEEE Xplore)\n",
      "BloodStein Hyperspectral Image Classification Using 3D CNN\n",
      "      (ICEEICT , IEEE Xplore)\n",
      "Chatbot SRS Generator (Fine Tuned)\n",
      "Skills:  LLMs, Generative AI , GPT,Decentralized AI,Python, Model Fine tuning, Open AI API,Code link: click_here\n",
      "Jan 2024 - Present\n",
      "JB Connect Ltd, Dhaka , Bangladesh\n",
      "Machine Learning Engineer \n",
      "Build reallife application using AI , Generative AI model ,Use GEMINI,\n",
      "OPEN AI API , open source model LAMA2,3 API in various business solution\n",
      "Portfolio \n",
      "RAG system building using OPEN AI Model\n",
      "Skills: Generative AI, AI Agent, LLMsLive Link : Click Here \n",
      "Medical Diagnosis Agent Chatbot\n",
      "Skills: AI Agent · Langgraph · Langchain.\n",
      "Chatbot Development \n",
      "Live link: Click Here \n",
      "\n",
      "\n",
      "\n",
      "![**Image Summary:**  \n",
      "Icon of a black telephone handset in a downward arc, commonly used to represent phone calls or communication.\n",
      "\n",
      "**Extracted Text:**  \n",
      "(No text present in the image)](#)\n",
      "![**Image Summary:**\n",
      "Icon of an envelope, symbolizing email or message communication, on a dark background.\n",
      "\n",
      "**Extracted Text:**\n",
      "No text present.](#)\n",
      "![**Summary:** Black location pin icon with a hole in the center, on a transparent background.\n",
      "\n",
      "**Text Extraction:** (No text present)](#)\n",
      "![**Image Summary:**\n",
      "Vertical white line on a black background with two white circles at the endpoints.\n",
      "\n",
      "**Extracted Text:**\n",
      "*No text present in the image.*](#)\n",
      "![**Image Summary:**  \n",
      "Black circular LinkedIn logo with \"in\" in the center against a glossy background.\n",
      "\n",
      "**Extracted Text:**  \n",
      "in](#)\n",
      "![**Image Summary for Retrieval:**\n",
      "\n",
      "Icon of a detailed gear symbol inside a black circle on a transparent background, commonly used to represent settings or configurations in digital interfaces.\n",
      "\n",
      "**Extracted Text:**\n",
      "\n",
      "N/A](#)\n",
      "![**Image Summary:**\n",
      "\n",
      "Outline of a laughing face from the front view with eyes closed and a wide-open mouth.\n",
      "\n",
      "**Extracted Text:**\n",
      "\n",
      "No text present.](#)\n",
      "![**Image Summary:** Portrait of a man with dark hair and a beard, wearing a blue and orange checkered shirt and an orange patterned tie against a plain white background.\n",
      "\n",
      "**Extracted Text:** None](#)\n",
      "![**Image Summary for Retrieval:**\n",
      "\n",
      "Icon of a globe with \"WWW\" and a mouse cursor pointing to it, representing internet or web browsing.\n",
      "\n",
      "**Extracted Text:**\n",
      "\n",
      "WWW](#)\n"
     ]
    }
   ],
   "source": [
    "from langchain_community.document_loaders.parsers import LLMImageBlobParser\n",
    "from langchain_openai import ChatOpenAI\n",
    "\n",
    "loader = PyPDFLoader(\n",
    "    \"/Users/mdalamintokder/Documents/My Learning myself/Langchain_langgraph_learning/langchain_document_loaders/Md Al Amin Tokder.pdf\",\n",
    "    mode=\"page\",\n",
    "    images_inner_format=\"markdown-img\",\n",
    "    images_parser=LLMImageBlobParser(model=ChatOpenAI(model=\"gpt-4o\", max_tokens=1024)),\n",
    ")\n",
    "docs = loader.load()\n",
    "print(docs[0].page_content)"
   ]
  },
  {
   "cell_type": "code",
   "execution_count": null,
   "metadata": {},
   "outputs": [
    {
     "data": {
      "text/plain": [
       "True"
      ]
     },
     "execution_count": 27,
     "metadata": {},
     "output_type": "execute_result"
    }
   ],
   "source": [
    "\n"
   ]
  },
  {
   "cell_type": "code",
   "execution_count": null,
   "metadata": {},
   "outputs": [],
   "source": []
  }
 ],
 "metadata": {
  "kernelspec": {
   "display_name": "Python 3",
   "language": "python",
   "name": "python3"
  },
  "language_info": {
   "codemirror_mode": {
    "name": "ipython",
    "version": 3
   },
   "file_extension": ".py",
   "mimetype": "text/x-python",
   "name": "python",
   "nbconvert_exporter": "python",
   "pygments_lexer": "ipython3",
   "version": "3.9.6"
  }
 },
 "nbformat": 4,
 "nbformat_minor": 2
}
