{
 "cells": [
  {
   "cell_type": "code",
   "execution_count": null,
   "metadata": {},
   "outputs": [
    {
     "ename": "",
     "evalue": "",
     "output_type": "error",
     "traceback": [
      "\u001b[1;31mRunning cells with 'Python 3.13.2' requires the ipykernel package.\n",
      "\u001b[1;31mRun the following command to install 'ipykernel' into the Python environment. \n",
      "\u001b[1;31mCommand: '/opt/homebrew/bin/python3 -m pip install ipykernel -U --user --force-reinstall'"
     ]
    }
   ],
   "source": [
    "a=str(input(\"enter number or string:\"))\n",
    "print(a)\n",
    "print(type(a))\n",
    "b=float(a)\n",
    "print(b)\n",
    "print(type(b))"
   ]
  },
  {
   "cell_type": "code",
   "execution_count": 5,
   "metadata": {},
   "outputs": [
    {
     "name": "stdout",
     "output_type": "stream",
     "text": [
      "hello\n",
      "hello\n",
      "hello\n",
      "hello\n"
     ]
    }
   ],
   "source": [
    "a=\"hello\"\n",
    "b='hello'\n",
    "c=\"\"\"hello\"\"\"\n",
    "d='''hello'''\n",
    "print(a)\n",
    "print(b)\n",
    "print(c)\n",
    "print(d)"
   ]
  },
  {
   "cell_type": "code",
   "execution_count": 25,
   "metadata": {},
   "outputs": [
    {
     "name": "stdout",
     "output_type": "stream",
     "text": [
      "5\n",
      "h\n",
      "harry\n",
      "har\n",
      "arr\n"
     ]
    }
   ],
   "source": [
    "a='harry'\n",
    "print(len(a))\n",
    "print(a[0])\n",
    "print(a[:5])\n",
    "print(a[0:3])\n",
    "print(a[1:4])\n",
    "# print(a[0:5:2])\n",
    "# print(a[::2])\n",
    "# print(a[1:5])\n",
    "# print(a[1:5:2])\n",
    "# print(a[1:5:3])\n",
    "# print(a[1:5:4])"
   ]
  },
  {
   "cell_type": "code",
   "execution_count": null,
   "metadata": {},
   "outputs": [
    {
     "name": "stdout",
     "output_type": "stream",
     "text": [
      "True\n"
     ]
    }
   ],
   "source": [
    "a=\"harry\"\n",
    "print(a.endswith(\"rry\"))"
   ]
  },
  {
   "cell_type": "code",
   "execution_count": null,
   "metadata": {},
   "outputs": [
    {
     "name": "stdout",
     "output_type": "stream",
     "text": [
      "2\n"
     ]
    }
   ],
   "source": [
    "a=\"harry\"\n",
    "print(a.count(\"r\"))"
   ]
  },
  {
   "cell_type": "code",
   "execution_count": 31,
   "metadata": {},
   "outputs": [
    {
     "name": "stdout",
     "output_type": "stream",
     "text": [
      "4\n"
     ]
    }
   ],
   "source": [
    "a=\"harry\"\n",
    "print(a.find(\"y\"))\n"
   ]
  },
  {
   "cell_type": "code",
   "execution_count": 33,
   "metadata": {},
   "outputs": [
    {
     "name": "stdout",
     "output_type": "stream",
     "text": [
      "Harry\n"
     ]
    },
    {
     "data": {
      "text/plain": [
       "'aarry'"
      ]
     },
     "execution_count": 33,
     "metadata": {},
     "output_type": "execute_result"
    }
   ],
   "source": [
    "a=\"harry\"\n",
    "print(a.capitalize())\n",
    "a.replace(\"h\",\"a\")"
   ]
  },
  {
   "cell_type": "markdown",
   "metadata": {},
   "source": [
    "# LISTS AND TUPLES"
   ]
  },
  {
   "cell_type": "code",
   "execution_count": 38,
   "metadata": {},
   "outputs": [
    {
     "name": "stdout",
     "output_type": "stream",
     "text": [
      "[1, 3, 4, 5, 'harry up', 'harry']\n",
      "1\n",
      "[1, 3, 4]\n"
     ]
    }
   ],
   "source": [
    "a=[1,3,4,5,\"harry up\", 'harry']\n",
    "print(a)\n",
    "print(a[0])\n",
    "print(a[0:3])"
   ]
  },
  {
   "cell_type": "code",
   "execution_count": 37,
   "metadata": {},
   "outputs": [
    {
     "name": "stdout",
     "output_type": "stream",
     "text": [
      "[1, 2, 4, 4, 5]\n",
      "[5, 4, 4, 2, 1]\n",
      "[5, 4, 4, 2, 1, 6]\n",
      "[9, 5, 4, 4, 2, 1, 6]\n",
      "[9, 5, 4, 2, 1, 6]\n",
      "[9, 5, 2, 1, 6]\n",
      "[]\n"
     ]
    }
   ],
   "source": [
    "a=[4,2,1,4,5]\n",
    "a.sort()\n",
    "print(a)\n",
    "\n",
    "\n",
    "a.reverse()\n",
    "print(a)\n",
    "\n",
    "a.append(6)\n",
    "print(a)\n",
    "\n",
    "a.insert(0,9)\n",
    "print(a)\n",
    "\n",
    "a.pop(2)\n",
    "print(a)\n",
    "\n",
    "a.remove(4)\n",
    "print(a)\n",
    "\n",
    "a.clear()\n",
    "print(a)"
   ]
  },
  {
   "cell_type": "markdown",
   "metadata": {},
   "source": [
    "# Dictionary and Sets and JSon"
   ]
  },
  {
   "cell_type": "code",
   "execution_count": 40,
   "metadata": {},
   "outputs": [
    {
     "name": "stdout",
     "output_type": "stream",
     "text": [
      "{'name': 'harry', 'age': 20, 'list': ['delhi', 'mumbai', 'banglore'], 'isbad': False, 'marks': 45.5, 'list1': [1, 2, 3, 4, 5]}\n",
      "20\n",
      "banglore\n"
     ]
    }
   ],
   "source": [
    "a={\n",
    "    \"name\":\"harry\",\n",
    "    \"age\":20,\n",
    "    \"list\":[\"delhi\",\"mumbai\",\"banglore\"],\n",
    "    \"isbad\":False,\n",
    "    \"marks\":45.5,\n",
    "    \"list1\":[1,2,3,4,5]\n",
    "}\n",
    "\n",
    "print(a)\n",
    "print(a['age'])\n",
    "print(a['list'][2])"
   ]
  },
  {
   "cell_type": "code",
   "execution_count": null,
   "metadata": {},
   "outputs": [
    {
     "name": "stdout",
     "output_type": "stream",
     "text": [
      "{'name': 'harry', 'from': 'india', 'marks': [92, 98, 96]}\n",
      "[92, 98, 96]\n",
      "92\n",
      "dict_keys(['name', 'from', 'marks'])\n"
     ]
    }
   ],
   "source": [
    "a={\n",
    "    \"name\":\"harry\",\n",
    "    \"from\":\"india\",\n",
    "    \"marks\":[92,98,96]\n",
    "}\n",
    "print(a)\n",
    "print(a['marks'])\n",
    "print(a['marks'][0])\n"
   ]
  },
  {
   "cell_type": "code",
   "execution_count": 54,
   "metadata": {},
   "outputs": [
    {
     "name": "stdout",
     "output_type": "stream",
     "text": [
      "dict_keys(['name', 'from', 'marks'])\n",
      "dict_values(['harry', 'india', [92, 98, 96]])\n",
      "dict_items([('name', 'harry'), ('from', 'india'), ('marks', [92, 98, 96])])\n",
      "harry\n",
      "None\n",
      "{'name': 'harry', 'from': 'bangladesh', 'marks': [92, 98, 96]}\n"
     ]
    }
   ],
   "source": [
    "a={\n",
    "    \"name\":\"harry\",\n",
    "    \"from\":\"india\",\n",
    "    \"marks\":[92,98,96]\n",
    "}\n",
    "print(a.keys())\n",
    "print(a.values())\n",
    "print(a.items())\n",
    "print(a.get(\"name\"))\n",
    "# print(a.get(\"age\"))\n",
    "\n",
    "print(a.update({\"from\":\"bangladesh\"}))\n",
    "print(a)"
   ]
  },
  {
   "cell_type": "markdown",
   "metadata": {},
   "source": [
    "# SET"
   ]
  },
  {
   "cell_type": "code",
   "execution_count": null,
   "metadata": {},
   "outputs": [
    {
     "name": "stdout",
     "output_type": "stream",
     "text": [
      "{1, 2, 3}\n",
      "{1, 2, 3}\n"
     ]
    }
   ],
   "source": [
    "s=set()\n",
    "s.add(1)\n",
    "s.add(2)\n",
    "s.add(3)\n",
    "print(s)\n",
    "s.add(3)\n",
    "print(s)"
   ]
  },
  {
   "cell_type": "code",
   "execution_count": 64,
   "metadata": {},
   "outputs": [
    {
     "name": "stdout",
     "output_type": "stream",
     "text": [
      "{1, 2, 3, 4, 8}\n",
      "{1, 2, 3, 4, 8}\n"
     ]
    }
   ],
   "source": [
    "s={1,2,3,4,8,3,2,3,2,3,}\n",
    "# print(s)\n",
    "# print(len(s))\n",
    "# print(s.remove(2))\n",
    "# print(s)\n",
    "s.union({6,5,9})\n",
    "print(s)\n",
    "s.intersection({3,4,5})\n",
    "# s.difference({1,2,3,4,5})\n",
    "print(s)\n"
   ]
  },
  {
   "cell_type": "markdown",
   "metadata": {},
   "source": [
    "# FUNCTIONS "
   ]
  },
  {
   "cell_type": "code",
   "execution_count": 68,
   "metadata": {},
   "outputs": [
    {
     "name": "stdout",
     "output_type": "stream",
     "text": [
      "this is add function between 2 and 3\n",
      "5\n"
     ]
    }
   ],
   "source": [
    "def add(a,b):\n",
    "    print(f\"this is add function between {a} and {b}\")\n",
    "    return a+b\n",
    "\n",
    "r=add(2,3)\n",
    "print(r)"
   ]
  },
  {
   "cell_type": "markdown",
   "metadata": {},
   "source": [
    "### Default parameter or argument value in function"
   ]
  },
  {
   "cell_type": "code",
   "execution_count": 71,
   "metadata": {},
   "outputs": [
    {
     "name": "stdout",
     "output_type": "stream",
     "text": [
      "hello harry\n",
      "harry\n",
      "hello alamin\n",
      "alamin\n"
     ]
    }
   ],
   "source": [
    "def greet1(name):\n",
    "    print(f\"hello {name}\")\n",
    "    return name\n",
    "\n",
    "def greet(name = \"stranger\"):\n",
    "    print(f\"hello {name}\")\n",
    "    return name\n",
    "\n",
    "# greet() \n",
    "print(greet(\"harry\"))\n",
    "print(greet1(\"alamin\"))"
   ]
  },
  {
   "cell_type": "markdown",
   "metadata": {},
   "source": [
    "# File I/O\n",
    "\n",
    "Only for .txt, .c \n",
    "\n",
    "There are 2 types of files:\n",
    "1. Text files (.txt, .c, etc)\n",
    "2. Binary files (.jpg, .dat, etc)\n",
    "Python has a lot of functions for reading, updating, and deleting files"
   ]
  },
  {
   "cell_type": "code",
   "execution_count": 76,
   "metadata": {},
   "outputs": [
    {
     "data": {
      "text/plain": [
       "<_io.TextIOWrapper name='/Users/mdalamintokder/Documents/My-learnings/Python basics/hello.txt' mode='r' encoding='UTF-8'>"
      ]
     },
     "execution_count": 76,
     "metadata": {},
     "output_type": "execute_result"
    }
   ],
   "source": [
    "# open(\"filename\", \"mode of opening(read mode by default)\")\n",
    "open(\"/Users/mdalamintokder/Documents/My-learnings/Python basics/hello.txt\", \"r\")"
   ]
  },
  {
   "cell_type": "code",
   "execution_count": 81,
   "metadata": {},
   "outputs": [
    {
     "name": "stdout",
     "output_type": "stream",
     "text": [
      "Hi this is alamin\n"
     ]
    }
   ],
   "source": [
    "# Open the file in read mode\n",
    "f = open(\"/Users/mdalamintokder/Documents/My-learnings/Python basics/hello.txt\", \"r\")\n",
    "# Read its contents\n",
    "text = f.read()\n",
    "# Print its contents\n",
    "print(text)"
   ]
  },
  {
   "cell_type": "code",
   "execution_count": null,
   "metadata": {},
   "outputs": [],
   "source": [
    "# f.close()"
   ]
  },
  {
   "cell_type": "code",
   "execution_count": 82,
   "metadata": {},
   "outputs": [
    {
     "data": {
      "text/plain": [
       "''"
      ]
     },
     "execution_count": 82,
     "metadata": {},
     "output_type": "execute_result"
    }
   ],
   "source": [
    "f.readline() # Read one line from the file."
   ]
  },
  {
   "cell_type": "markdown",
   "metadata": {},
   "source": [
    "### MODES OF OPENING A FILE\n",
    "r – open for reading\n",
    "\n",
    "w - open for writing\n",
    "\n",
    "a - open for appending\n",
    "\n",
    "+ - open for updating.\n",
    "\n",
    "‘rb’ will open for read in binary mode.\n",
    "\n",
    "‘rt’ will open for read in text mode"
   ]
  },
  {
   "cell_type": "code",
   "execution_count": null,
   "metadata": {},
   "outputs": [],
   "source": []
  },
  {
   "cell_type": "markdown",
   "metadata": {},
   "source": [
    "# WRITE FILES IN PYTHON"
   ]
  },
  {
   "cell_type": "code",
   "execution_count": null,
   "metadata": {},
   "outputs": [],
   "source": [
    "# Open the file in write mode\n",
    "f = open(\"this.txt\", \"w\")\n",
    "# Write a string to the file\n",
    "f.write(\"this is nice\")\n",
    "# Close the file\n",
    "f.close()"
   ]
  },
  {
   "cell_type": "code",
   "execution_count": null,
   "metadata": {},
   "outputs": [],
   "source": [
    "#Open the file in read mode using 'with', which automatically closes the\n",
    "with open(\"this.txt\", \"r\") as f:\n",
    "# Read the contents of the file\n",
    "text = f.read()\n",
    "# Print the contents\n",
    "print(text)"
   ]
  },
  {
   "cell_type": "markdown",
   "metadata": {},
   "source": [
    "# OOP"
   ]
  },
  {
   "cell_type": "code",
   "execution_count": 86,
   "metadata": {},
   "outputs": [
    {
     "name": "stdout",
     "output_type": "stream",
     "text": [
      "101\n",
      "3.5\n"
     ]
    }
   ],
   "source": [
    "class Student:\n",
    "    roll=\"\"\n",
    "    gpa=\"\"\n",
    "\n",
    "\n",
    "\n",
    "\n",
    "s1=Student()\n",
    "s1.roll=101\n",
    "s1.gpa=3.5\n",
    "print(s1.roll)\n",
    "print(s1.gpa)\n"
   ]
  },
  {
   "cell_type": "code",
   "execution_count": 83,
   "metadata": {},
   "outputs": [
    {
     "name": "stdout",
     "output_type": "stream",
     "text": [
      "roll: 101\n",
      "gpa: 3.5\n"
     ]
    }
   ],
   "source": [
    "class Student:\n",
    "    roll=\"\"\n",
    "    gpa=\"\"\n",
    "\n",
    "    def setValues(self,roll,gpa):\n",
    "        self.roll=roll\n",
    "        self.gpa=gpa\n",
    "\n",
    "    def display(self):\n",
    "        print(f\"roll: {self.roll}\")\n",
    "        print(f\"gpa: {self.gpa}\")\n",
    "\n",
    "\n",
    "s1=Student()\n",
    "s1.setValues(101,3.5)\n",
    "s1.display()"
   ]
  },
  {
   "cell_type": "code",
   "execution_count": 84,
   "metadata": {},
   "outputs": [
    {
     "name": "stdout",
     "output_type": "stream",
     "text": [
      "roll: 101\n",
      "gpa: 3.5\n"
     ]
    }
   ],
   "source": [
    "# constructor\n",
    "class Student:\n",
    "    roll=\"\"\n",
    "    gpa=\"\"\n",
    "\n",
    "    def __init__(self,roll,gpa):\n",
    "        self.roll=roll\n",
    "        self.gpa=gpa\n",
    "\n",
    "    def display(self):\n",
    "        print(f\"roll: {self.roll}\")\n",
    "        print(f\"gpa: {self.gpa}\")\n",
    "\n",
    "\n",
    "s1=Student(101,3.5)\n",
    "s1.display()"
   ]
  },
  {
   "cell_type": "code",
   "execution_count": 85,
   "metadata": {},
   "outputs": [
    {
     "name": "stdout",
     "output_type": "stream",
     "text": [
      "base: 10\n",
      "height: 5\n",
      "area: 25.0\n"
     ]
    }
   ],
   "source": [
    "class Triangle:\n",
    "    base=\"\"\n",
    "    height=\"\"\n",
    "\n",
    "    def __init__(self,base,height):\n",
    "        self.base=base\n",
    "        self.height=height\n",
    "\n",
    "    def area(self):\n",
    "        return (self.base*self.height)/2\n",
    "    def display(self):\n",
    "        print(f\"base: {self.base}\")\n",
    "        print(f\"height: {self.height}\")\n",
    "        print(f\"area: {self.area()}\")\n",
    "t1=Triangle(10,5)\n",
    "t1.display()"
   ]
  },
  {
   "cell_type": "code",
   "execution_count": 92,
   "metadata": {},
   "outputs": [
    {
     "name": "stdout",
     "output_type": "stream",
     "text": [
      "roll:101 and gpa:3.5 cgpa:3.9\n"
     ]
    }
   ],
   "source": [
    "class S1:\n",
    "    roll=\"\"\n",
    "    gpa=\"\"\n",
    "\n",
    "    def __init__(self,roll,gpa):\n",
    "        self.roll=roll\n",
    "        self.gpa=gpa\n",
    "\n",
    "    def display(self):\n",
    "        print(f\"roll: {self.roll}\")\n",
    "        print(f\"gpa: {self.gpa}\")\n",
    "\n",
    "class S2(S1):\n",
    "    cgpa=\"\"\n",
    "    def __init__(self,roll,gpa,cgpa):\n",
    "        self.roll=roll\n",
    "        self.gpa=gpa\n",
    "        self.cgpa=cgpa\n",
    "\n",
    "    def display(self):\n",
    "        print(f\"roll:{self.roll} and gpa:{self.gpa} cgpa:{self.cgpa}\")\n",
    "\n",
    "s2=S2(101,3.5,3.9)\n",
    "s2.display()"
   ]
  },
  {
   "cell_type": "markdown",
   "metadata": {},
   "source": [
    "# Encapsulation"
   ]
  },
  {
   "cell_type": "code",
   "execution_count": 93,
   "metadata": {},
   "outputs": [
    {
     "name": "stdout",
     "output_type": "stream",
     "text": [
      "Buddy\n",
      "Labrador\n",
      "3\n",
      "Name: Buddy, Breed: Labrador, Age: 5\n"
     ]
    }
   ],
   "source": [
    "class Dog:\n",
    "    def __init__(self, name, breed, age):\n",
    "        self.name = name  # Public attribute\n",
    "        self._breed = breed  # Protected attribute\n",
    "        self.__age = age  # Private attribute\n",
    "\n",
    "    # Public method\n",
    "    def get_info(self):\n",
    "        return f\"Name: {self.name}, Breed: {self._breed}, Age: {self.__age}\"\n",
    "\n",
    "    # Getter and Setter for private attribute\n",
    "    def get_age(self):\n",
    "        return self.__age\n",
    "\n",
    "    def set_age(self, age):\n",
    "        if age > 0:\n",
    "            self.__age = age\n",
    "        else:\n",
    "            print(\"Invalid age!\")\n",
    "\n",
    "# Example Usage\n",
    "dog = Dog(\"Buddy\", \"Labrador\", 3)\n",
    "\n",
    "# Accessing public member\n",
    "print(dog.name)  # Accessible\n",
    "\n",
    "# Accessing protected member\n",
    "print(dog._breed)  # Accessible but discouraged outside the class\n",
    "\n",
    "# Accessing private member using getter\n",
    "print(dog.get_age())\n",
    "\n",
    "# Modifying private member using setter\n",
    "dog.set_age(5)\n",
    "print(dog.get_info())"
   ]
  },
  {
   "cell_type": "markdown",
   "metadata": {},
   "source": [
    "# Abstraction"
   ]
  },
  {
   "cell_type": "code",
   "execution_count": 94,
   "metadata": {},
   "outputs": [
    {
     "name": "stdout",
     "output_type": "stream",
     "text": [
      "Dog's Name: Buddy\n",
      "Labrador Woof!\n",
      "Dog's Name: Charlie\n",
      "Beagle Bark!\n"
     ]
    }
   ],
   "source": [
    "from abc import ABC, abstractmethod\n",
    "\n",
    "class Dog(ABC):  # Abstract Class\n",
    "    def __init__(self, name):\n",
    "        self.name = name\n",
    "\n",
    "    @abstractmethod\n",
    "    def sound(self):  # Abstract Method\n",
    "        pass\n",
    "\n",
    "    def display_name(self):  # Concrete Method\n",
    "        print(f\"Dog's Name: {self.name}\")\n",
    "\n",
    "class Labrador(Dog):  # Partial Abstraction\n",
    "    def sound(self):\n",
    "        print(\"Labrador Woof!\")\n",
    "\n",
    "class Beagle(Dog):  # Partial Abstraction\n",
    "    def sound(self):\n",
    "        print(\"Beagle Bark!\")\n",
    "\n",
    "# Example Usage\n",
    "dogs = [Labrador(\"Buddy\"), Beagle(\"Charlie\")]\n",
    "for dog in dogs:\n",
    "    dog.display_name()  # Calls concrete method\n",
    "    dog.sound()  # Calls implemented abstract method"
   ]
  },
  {
   "cell_type": "code",
   "execution_count": null,
   "metadata": {},
   "outputs": [],
   "source": []
  }
 ],
 "metadata": {
  "kernelspec": {
   "display_name": "Python 3",
   "language": "python",
   "name": "python3"
  },
  "language_info": {
   "codemirror_mode": {
    "name": "ipython",
    "version": 3
   },
   "file_extension": ".py",
   "mimetype": "text/x-python",
   "name": "python",
   "nbconvert_exporter": "python",
   "pygments_lexer": "ipython3",
   "version": "3.13.2"
  }
 },
 "nbformat": 4,
 "nbformat_minor": 2
}
